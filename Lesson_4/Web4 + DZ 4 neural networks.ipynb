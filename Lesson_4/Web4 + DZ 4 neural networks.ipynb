{
 "cells": [
  {
   "cell_type": "markdown",
   "metadata": {
    "id": "j9uRd98UFzPL"
   },
   "source": [
    "# Введение в искусственные нейронные сети\n",
    "# Урок 4. Сверточные нейронные сети (CNN)"
   ]
  },
  {
   "cell_type": "markdown",
   "metadata": {},
   "source": [
    "## Домашнее задание\n",
    "\n",
    "1. обучить рукописную сверточную нейронную сеть (с падением размера ядра свертки и последовательностью блоков свертка-пулинг (conv-pool)-(conv-pool)-...) на датасете cifar-10\n",
    "2. оценить рост точности при увеличении ширины сети (больше фильтров)\n",
    "3. оценить рост точности при увеличении глубины сети (больше слоев)\n",
    "4. *сравнить с точностью полносвязной сети для этой выборки\n"
   ]
  },
  {
   "cell_type": "code",
   "execution_count": 1,
   "metadata": {},
   "outputs": [],
   "source": [
    "import numpy as np\n",
    "import pandas as pd\n",
    "import matplotlib.pyplot as plt\n",
    "\n",
    "from tensorflow.keras.models import Model\n",
    "from tensorflow.keras.datasets import cifar10\n",
    "from tensorflow.keras.preprocessing.image import ImageDataGenerator\n",
    "from tensorflow.keras.utils import to_categorical\n",
    "from tensorflow.keras.models import Sequential\n",
    "from tensorflow.keras.layers import Input, Dense, Dropout, Activation, Flatten\n",
    "from tensorflow.keras.layers import Conv2D, MaxPooling2D\n",
    "\n",
    "from tensorflow.keras.utils import plot_model\n",
    "from tensorflow.keras import initializers\n",
    "import os\n",
    "from sklearn.metrics import classification_report"
   ]
  },
  {
   "cell_type": "code",
   "execution_count": 2,
   "metadata": {},
   "outputs": [],
   "source": [
    "classes = ['самолет', 'автомобиль', 'птица', 'кот', 'олень', 'собака', 'лягушка', 'лошадь', 'корабль', 'грузовик']"
   ]
  },
  {
   "cell_type": "code",
   "execution_count": 3,
   "metadata": {},
   "outputs": [
    {
     "name": "stdout",
     "output_type": "stream",
     "text": [
      "X_train shape: (50000, 32, 32, 3)\n",
      "50000 тренировочные примеры\n",
      "10000 тестовые примеры\n"
     ]
    }
   ],
   "source": [
    "# разделение тренировочной и тестовой выборки\n",
    "(X_train, y_train), (X_test, y_test) = cifar10.load_data()\n",
    "print('X_train shape:', X_train.shape)\n",
    "print(X_train.shape[0], 'тренировочные примеры')\n",
    "print(X_test.shape[0], 'тестовые примеры')\n",
    "\n",
    "# преобразование матрицы чисел 0-9 в бинарную матрицу чисел 0-1\n",
    "y_train = to_categorical(y_train, 10)\n",
    "y_test = to_categorical(y_test, 10)\n",
    "\n",
    "X_train = X_train / 255.0\n",
    "X_test = X_test / 255.0"
   ]
  },
  {
   "cell_type": "code",
   "execution_count": 4,
   "metadata": {
    "scrolled": true
   },
   "outputs": [
    {
     "data": {
      "image/png": "[encoded data removed]",
      "text/plain": [
       "<Figure size 432x288 with 1 Axes>"
      ]
     },
     "metadata": {
      "needs_background": "light"
     },
     "output_type": "display_data"
    }
   ],
   "source": [
    "N = 11\n",
    "\n",
    "plt.imshow(X_test[N])\n",
    "plt.title(classes[np.argmax(y_test[N,:])])\n",
    "plt.show()"
   ]
  },
  {
   "cell_type": "code",
   "execution_count": 5,
   "metadata": {},
   "outputs": [],
   "source": [
    "results = pd.DataFrame(columns=['Sample', 'Train', 'Test', 'Test loss', 'Test accuracy']) # сводная таблица результатов\n",
    "\n",
    "batch_size = 512\n",
    "epochs = 10\n",
    "\n",
    "step = [] # шаг\n",
    "desc = [] # описание\n",
    "\n",
    "train_acc = [] # результат на трейне\n",
    "test_acc = [] # результат на тесте"
   ]
  },
  {
   "cell_type": "markdown",
   "metadata": {},
   "source": [
    "### 1. Обучить рукописную сверточную нейронную сеть (с падением размера ядра свертки и последовательностью блоков свертка-пулинг (conv-pool)-(conv-pool)-...) на датасете cifar-10"
   ]
  },
  {
   "cell_type": "code",
   "execution_count": 6,
   "metadata": {
    "scrolled": true
   },
   "outputs": [
    {
     "name": "stdout",
     "output_type": "stream",
     "text": [
      "Model: \"sequential\"\n",
      "_________________________________________________________________\n",
      "Layer (type)                 Output Shape              Param #   \n",
      "=================================================================\n",
      "conv2d (Conv2D)              (None, 32, 32, 32)        896       \n",
      "_________________________________________________________________\n",
      "conv2d_1 (Conv2D)            (None, 30, 30, 32)        9248      \n",
      "_________________________________________________________________\n",
      "max_pooling2d (MaxPooling2D) (None, 15, 15, 32)        0         \n",
      "_________________________________________________________________\n",
      "conv2d_2 (Conv2D)            (None, 15, 15, 64)        18496     \n",
      "_________________________________________________________________\n",
      "conv2d_3 (Conv2D)            (None, 13, 13, 64)        36928     \n",
      "_________________________________________________________________\n",
      "max_pooling2d_1 (MaxPooling2 (None, 6, 6, 64)          0         \n",
      "_________________________________________________________________\n",
      "flatten (Flatten)            (None, 2304)              0         \n",
      "_________________________________________________________________\n",
      "dense (Dense)                (None, 512)               1180160   \n",
      "_________________________________________________________________\n",
      "dense_1 (Dense)              (None, 10)                5130      \n",
      "=================================================================\n",
      "Total params: 1,250,858\n",
      "Trainable params: 1,250,858\n",
      "Non-trainable params: 0\n",
      "_________________________________________________________________\n"
     ]
    }
   ],
   "source": [
    "from tensorflow.keras.losses import categorical_crossentropy\n",
    "\n",
    "# конфигурирование слоев нейросети\n",
    "model = Sequential()\n",
    "\n",
    "# слои нейросети отвественные за свертку и max-pooling\n",
    "model.add(Conv2D(32, (3, 3), activation='relu', padding='same', input_shape=X_train.shape[1:]))\n",
    "model.add(Conv2D(32, (3, 3), activation='relu'))\n",
    "model.add(MaxPooling2D(pool_size=(2, 2)))\n",
    "\n",
    "model.add(Conv2D(64, (3, 3), activation='relu', padding='same'))\n",
    "model.add(Conv2D(64, (3, 3), activation='relu'))\n",
    "model.add(MaxPooling2D(pool_size=(2, 2)))\n",
    "\n",
    "# полносвязные слои нейронной сети\n",
    "model.add(Flatten())\n",
    "model.add(Dense(512, activation='relu'))\n",
    "model.add(Dense(10, activation='softmax'))\n",
    "\n",
    "model.summary()\n",
    "# компиляция модели\n",
    "model.compile(loss='categorical_crossentropy',\n",
    "              optimizer='SGD',\n",
    "              metrics=['accuracy'])"
   ]
  },
  {
   "cell_type": "code",
   "execution_count": 7,
   "metadata": {},
   "outputs": [
    {
     "name": "stdout",
     "output_type": "stream",
     "text": [
      "Epoch 1/10\n",
      "98/98 [==============================] - 58s 585ms/step - loss: 2.3009 - accuracy: 0.1000 - val_loss: 2.2882 - val_accuracy: 0.1074\n",
      "Epoch 2/10\n",
      "98/98 [==============================] - 58s 590ms/step - loss: 2.2836 - accuracy: 0.1199 - val_loss: 2.2619 - val_accuracy: 0.1587\n",
      "Epoch 3/10\n",
      "98/98 [==============================] - 55s 563ms/step - loss: 2.2483 - accuracy: 0.1751 - val_loss: 2.1783 - val_accuracy: 0.2122\n",
      "Epoch 4/10\n",
      "98/98 [==============================] - 53s 543ms/step - loss: 2.1556 - accuracy: 0.2223 - val_loss: 2.1038 - val_accuracy: 0.2299\n",
      "Epoch 5/10\n",
      "98/98 [==============================] - 56s 569ms/step - loss: 2.0798 - accuracy: 0.2561 - val_loss: 2.0111 - val_accuracy: 0.2903\n",
      "Epoch 6/10\n",
      "98/98 [==============================] - 56s 569ms/step - loss: 2.0247 - accuracy: 0.2798 - val_loss: 1.9684 - val_accuracy: 0.3085\n",
      "Epoch 7/10\n",
      "98/98 [==============================] - 57s 581ms/step - loss: 1.9554 - accuracy: 0.3099 - val_loss: 1.8796 - val_accuracy: 0.3455\n",
      "Epoch 8/10\n",
      "98/98 [==============================] - 54s 549ms/step - loss: 1.9059 - accuracy: 0.3255 - val_loss: 1.8983 - val_accuracy: 0.3197\n",
      "Epoch 9/10\n",
      "98/98 [==============================] - 57s 585ms/step - loss: 1.8637 - accuracy: 0.3404 - val_loss: 1.8042 - val_accuracy: 0.3572\n",
      "Epoch 10/10\n",
      "98/98 [==============================] - 54s 554ms/step - loss: 1.7888 - accuracy: 0.3697 - val_loss: 1.7097 - val_accuracy: 0.3948\n"
     ]
    },
    {
     "data": {
      "text/plain": [
       "<tensorflow.python.keras.callbacks.History at 0x2db3afbde50>"
      ]
     },
     "execution_count": 7,
     "metadata": {},
     "output_type": "execute_result"
    }
   ],
   "source": [
    "model.fit(X_train, y_train,\n",
    "              batch_size=batch_size,\n",
    "              epochs=epochs,\n",
    "              validation_data=(X_test, y_test),\n",
    "              shuffle=True)"
   ]
  },
  {
   "cell_type": "code",
   "execution_count": 8,
   "metadata": {},
   "outputs": [
    {
     "name": "stdout",
     "output_type": "stream",
     "text": [
      "1563/1563 [==============================] - 19s 12ms/step - loss: 1.7108 - accuracy: 0.3983\n",
      "313/313 [==============================] - 4s 11ms/step - loss: 1.7097 - accuracy: 0.3948\n",
      "train_loss: 1.7107512950897217, train_accuracy: 0.3982999920845032\n",
      "test_loss: 1.7097370624542236, test_accuracy: 0.39480000734329224\n"
     ]
    }
   ],
   "source": [
    "# проверка работы обученной модели\n",
    "train_loss, train_m = model.evaluate(X_train, y_train, verbose=1)\n",
    "test_loss, test_m = model.evaluate(X_test, y_test, verbose=1)\n",
    "print(f'train_loss: {train_loss}, train_accuracy: {train_m}')\n",
    "print(f'test_loss: {test_loss}, test_accuracy: {test_m}')\n",
    "\n",
    "step.append(1)\n",
    "desc.append('Baseline')\n",
    "train_acc.append(round(train_m,2))\n",
    "test_acc.append(round(test_m,2))"
   ]
  },
  {
   "cell_type": "code",
   "execution_count": 9,
   "metadata": {
    "scrolled": true
   },
   "outputs": [
    {
     "name": "stdout",
     "output_type": "stream",
     "text": [
      "313/313 [==============================] - 4s 12ms/step - loss: 1.7097 - accuracy: 0.3948\n",
      "Test loss: 1.7097370624542236\n",
      "Test accuracy: 0.39480000734329224\n"
     ]
    },
    {
     "data": {
      "image/png": "[encoded data removed]",
      "text/plain": [
       "<Figure size 432x288 with 1 Axes>"
      ]
     },
     "metadata": {
      "needs_background": "light"
     },
     "output_type": "display_data"
    }
   ],
   "source": [
    "N = 11\n",
    "scores = model.evaluate(X_test, y_test, verbose=1)\n",
    "print('Test loss:', scores[0])\n",
    "print('Test accuracy:', scores[1])\n",
    "\n",
    "y_p = model.predict(X_test[N:N+1])\n",
    "y_t = np.argmax(y_test[N:N+1], axis = 1 )\n",
    "y_i = np.argmax(y_p, axis = 1 )\n",
    "plt.imshow(X_test[N])\n",
    "plt.title(f'это : {classes[y_t[0]]} - опознан как : {classes[y_i[0]]}')\n",
    "plt.show()\n",
    "\n",
    "new_row = {'Sample':'Baseline', 'Train':classes[y_t[0]], 'Test': classes[y_i[0]], \\\n",
    "           'Test loss':round(scores[0], 4), 'Test accuracy':round(scores[1], 4)}\n",
    "\n",
    "results = results.append(new_row, ignore_index=True)"
   ]
  },
  {
   "cell_type": "code",
   "execution_count": 10,
   "metadata": {
    "scrolled": false
   },
   "outputs": [
    {
     "data": {
      "text/html": [
       "<div>\n",
       "<style scoped>\n",
       "    .dataframe tbody tr th:only-of-type {\n",
       "        vertical-align: middle;\n",
       "    }\n",
       "\n",
       "    .dataframe tbody tr th {\n",
       "        vertical-align: top;\n",
       "    }\n",
       "\n",
       "    .dataframe thead th {\n",
       "        text-align: right;\n",
       "    }\n",
       "</style>\n",
       "<table border=\"1\" class=\"dataframe\">\n",
       "  <thead>\n",
       "    <tr style=\"text-align: right;\">\n",
       "      <th></th>\n",
       "      <th>Sample</th>\n",
       "      <th>Train</th>\n",
       "      <th>Test</th>\n",
       "      <th>Test loss</th>\n",
       "      <th>Test accuracy</th>\n",
       "    </tr>\n",
       "  </thead>\n",
       "  <tbody>\n",
       "    <tr>\n",
       "      <th>0</th>\n",
       "      <td>Baseline</td>\n",
       "      <td>грузовик</td>\n",
       "      <td>автомобиль</td>\n",
       "      <td>1.7097</td>\n",
       "      <td>0.3948</td>\n",
       "    </tr>\n",
       "  </tbody>\n",
       "</table>\n",
       "</div>"
      ],
      "text/plain": [
       "     Sample     Train        Test  Test loss  Test accuracy\n",
       "0  Baseline  грузовик  автомобиль     1.7097         0.3948"
      ]
     },
     "execution_count": 10,
     "metadata": {},
     "output_type": "execute_result"
    }
   ],
   "source": [
    "results"
   ]
  },
  {
   "cell_type": "markdown",
   "metadata": {},
   "source": [
    "### 2. Оценить рост точности при увеличении ширины сети (больше фильтров)"
   ]
  },
  {
   "cell_type": "code",
   "execution_count": 11,
   "metadata": {},
   "outputs": [
    {
     "name": "stdout",
     "output_type": "stream",
     "text": [
      "Model: \"sequential_1\"\n",
      "_________________________________________________________________\n",
      "Layer (type)                 Output Shape              Param #   \n",
      "=================================================================\n",
      "conv2d_4 (Conv2D)            (None, 32, 32, 32)        896       \n",
      "_________________________________________________________________\n",
      "conv2d_5 (Conv2D)            (None, 30, 30, 32)        9248      \n",
      "_________________________________________________________________\n",
      "max_pooling2d_2 (MaxPooling2 (None, 15, 15, 32)        0         \n",
      "_________________________________________________________________\n",
      "conv2d_6 (Conv2D)            (None, 15, 15, 128)       36992     \n",
      "_________________________________________________________________\n",
      "conv2d_7 (Conv2D)            (None, 13, 13, 128)       147584    \n",
      "_________________________________________________________________\n",
      "max_pooling2d_3 (MaxPooling2 (None, 6, 6, 128)         0         \n",
      "_________________________________________________________________\n",
      "flatten_1 (Flatten)          (None, 4608)              0         \n",
      "_________________________________________________________________\n",
      "dense_2 (Dense)              (None, 512)               2359808   \n",
      "_________________________________________________________________\n",
      "dense_3 (Dense)              (None, 10)                5130      \n",
      "=================================================================\n",
      "Total params: 2,559,658\n",
      "Trainable params: 2,559,658\n",
      "Non-trainable params: 0\n",
      "_________________________________________________________________\n"
     ]
    }
   ],
   "source": [
    "# конфигурирование слоев нейросети\n",
    "model2 = Sequential()\n",
    "\n",
    "# слои нейросети отвественные за свертку и max-pooling\n",
    "model2.add(Conv2D(32, (3, 3), activation='relu', padding='same', input_shape=X_train.shape[1:]))\n",
    "model2.add(Conv2D(32, (3, 3), activation='relu'))\n",
    "model2.add(MaxPooling2D(pool_size=(2, 2)))\n",
    "\n",
    "model2.add(Conv2D(128, (3, 3), activation='relu', padding='same'))\n",
    "model2.add(Conv2D(128, (3, 3), activation='relu'))\n",
    "model2.add(MaxPooling2D(pool_size=(2, 2)))\n",
    "\n",
    "# полносвязные слои нейронной сети\n",
    "model2.add(Flatten())\n",
    "model2.add(Dense(512, activation='relu'))\n",
    "model2.add(Dense(10, activation='softmax'))\n",
    "\n",
    "model2.summary()\n",
    "# компиляция модели\n",
    "model2.compile(loss='categorical_crossentropy',\n",
    "              optimizer='SGD',\n",
    "              metrics=['accuracy'])"
   ]
  },
  {
   "cell_type": "code",
   "execution_count": 12,
   "metadata": {},
   "outputs": [
    {
     "name": "stdout",
     "output_type": "stream",
     "text": [
      "Epoch 1/10\n",
      "98/98 [==============================] - 90s 913ms/step - loss: 2.2972 - accuracy: 0.1314 - val_loss: 2.2781 - val_accuracy: 0.1487\n",
      "Epoch 2/10\n",
      "98/98 [==============================] - 90s 922ms/step - loss: 2.2655 - accuracy: 0.1688 - val_loss: 2.1980 - val_accuracy: 0.2178\n",
      "Epoch 3/10\n",
      "98/98 [==============================] - 91s 933ms/step - loss: 2.1574 - accuracy: 0.2425 - val_loss: 2.0731 - val_accuracy: 0.2676\n",
      "Epoch 4/10\n",
      "98/98 [==============================] - 93s 946ms/step - loss: 2.0646 - accuracy: 0.2589 - val_loss: 2.0283 - val_accuracy: 0.2756\n",
      "Epoch 5/10\n",
      "98/98 [==============================] - 91s 927ms/step - loss: 2.0047 - accuracy: 0.2844 - val_loss: 1.9557 - val_accuracy: 0.3049\n",
      "Epoch 6/10\n",
      "98/98 [==============================] - 92s 940ms/step - loss: 1.9370 - accuracy: 0.3098 - val_loss: 1.8790 - val_accuracy: 0.3390\n",
      "Epoch 7/10\n",
      "98/98 [==============================] - 90s 920ms/step - loss: 1.9063 - accuracy: 0.3257 - val_loss: 1.8416 - val_accuracy: 0.3482\n",
      "Epoch 8/10\n",
      "98/98 [==============================] - 90s 918ms/step - loss: 1.8559 - accuracy: 0.3422 - val_loss: 1.7955 - val_accuracy: 0.3646\n",
      "Epoch 9/10\n",
      "98/98 [==============================] - 90s 914ms/step - loss: 1.8108 - accuracy: 0.3627 - val_loss: 1.7477 - val_accuracy: 0.3884\n",
      "Epoch 10/10\n",
      "98/98 [==============================] - 88s 892ms/step - loss: 1.7699 - accuracy: 0.3737 - val_loss: 1.7643 - val_accuracy: 0.3690\n"
     ]
    },
    {
     "data": {
      "text/plain": [
       "<tensorflow.python.keras.callbacks.History at 0x2db000dd580>"
      ]
     },
     "execution_count": 12,
     "metadata": {},
     "output_type": "execute_result"
    }
   ],
   "source": [
    "model2.fit(X_train, y_train,\n",
    "              batch_size=batch_size,\n",
    "              epochs=epochs,\n",
    "              validation_data=(X_test, y_test),\n",
    "              shuffle=True)"
   ]
  },
  {
   "cell_type": "code",
   "execution_count": 13,
   "metadata": {},
   "outputs": [
    {
     "name": "stdout",
     "output_type": "stream",
     "text": [
      "1563/1563 [==============================] - 28s 18ms/step - loss: 1.7636 - accuracy: 0.3689\n",
      "313/313 [==============================] - 6s 18ms/step - loss: 1.7643 - accuracy: 0.3690\n",
      "train_loss: 1.7635767459869385, train_accuracy: 0.3688800036907196\n",
      "test_loss: 1.7642849683761597, test_accuracy: 0.36899998784065247\n"
     ]
    }
   ],
   "source": [
    "# проверка работы обученной модели\n",
    "train_loss, train_m = model2.evaluate(X_train, y_train, verbose=1)\n",
    "test_loss, test_m = model2.evaluate(X_test, y_test, verbose=1)\n",
    "print(f'train_loss: {train_loss}, train_accuracy: {train_m}')\n",
    "print(f'test_loss: {test_loss}, test_accuracy: {test_m}')\n",
    "\n",
    "step.append(1)\n",
    "desc.append('More filters')\n",
    "train_acc.append(round(train_m,2))\n",
    "test_acc.append(round(test_m,2))"
   ]
  },
  {
   "cell_type": "code",
   "execution_count": 14,
   "metadata": {},
   "outputs": [
    {
     "name": "stdout",
     "output_type": "stream",
     "text": [
      "313/313 [==============================] - 6s 18ms/step - loss: 1.7643 - accuracy: 0.3690\n",
      "Test loss: 1.7642849683761597\n",
      "Test accuracy: 0.36899998784065247\n"
     ]
    },
    {
     "data": {
      "image/png": "[encoded data removed]",
      "text/plain": [
       "<Figure size 432x288 with 1 Axes>"
      ]
     },
     "metadata": {
      "needs_background": "light"
     },
     "output_type": "display_data"
    }
   ],
   "source": [
    "N = 11\n",
    "scores = model2.evaluate(X_test, y_test, verbose=1)\n",
    "print('Test loss:', scores[0])\n",
    "print('Test accuracy:', scores[1])\n",
    "\n",
    "y_p = model.predict(X_test[N:N+1])\n",
    "y_t = np.argmax(y_test[N:N+1], axis = 1 )\n",
    "y_i = np.argmax(y_p, axis = 1 )\n",
    "plt.imshow(X_test[N])\n",
    "plt.title(f'это : {classes[y_t[0]]} - опознан как : {classes[y_i[0]]}')\n",
    "plt.show()\n",
    "\n",
    "new_row = {'Sample':'With more filters', 'Train':classes[y_t[0]], 'Test': classes[y_i[0]], \\\n",
    "           'Test loss':round(scores[0], 4), 'Test accuracy':round(scores[1], 4)}\n",
    "\n",
    "results = results.append(new_row, ignore_index=True)"
   ]
  },
  {
   "cell_type": "code",
   "execution_count": 15,
   "metadata": {},
   "outputs": [
    {
     "data": {
      "text/html": [
       "<div>\n",
       "<style scoped>\n",
       "    .dataframe tbody tr th:only-of-type {\n",
       "        vertical-align: middle;\n",
       "    }\n",
       "\n",
       "    .dataframe tbody tr th {\n",
       "        vertical-align: top;\n",
       "    }\n",
       "\n",
       "    .dataframe thead th {\n",
       "        text-align: right;\n",
       "    }\n",
       "</style>\n",
       "<table border=\"1\" class=\"dataframe\">\n",
       "  <thead>\n",
       "    <tr style=\"text-align: right;\">\n",
       "      <th></th>\n",
       "      <th>Sample</th>\n",
       "      <th>Train</th>\n",
       "      <th>Test</th>\n",
       "      <th>Test loss</th>\n",
       "      <th>Test accuracy</th>\n",
       "    </tr>\n",
       "  </thead>\n",
       "  <tbody>\n",
       "    <tr>\n",
       "      <th>0</th>\n",
       "      <td>Baseline</td>\n",
       "      <td>грузовик</td>\n",
       "      <td>автомобиль</td>\n",
       "      <td>1.7097</td>\n",
       "      <td>0.3948</td>\n",
       "    </tr>\n",
       "    <tr>\n",
       "      <th>1</th>\n",
       "      <td>With more filters</td>\n",
       "      <td>грузовик</td>\n",
       "      <td>автомобиль</td>\n",
       "      <td>1.7643</td>\n",
       "      <td>0.3690</td>\n",
       "    </tr>\n",
       "  </tbody>\n",
       "</table>\n",
       "</div>"
      ],
      "text/plain": [
       "              Sample     Train        Test  Test loss  Test accuracy\n",
       "0           Baseline  грузовик  автомобиль     1.7097         0.3948\n",
       "1  With more filters  грузовик  автомобиль     1.7643         0.3690"
      ]
     },
     "execution_count": 15,
     "metadata": {},
     "output_type": "execute_result"
    }
   ],
   "source": [
    "results"
   ]
  },
  {
   "cell_type": "markdown",
   "metadata": {},
   "source": [
    "### 3. Оценить рост точности при увеличении глубины сети (больше слоев)"
   ]
  },
  {
   "cell_type": "code",
   "execution_count": 16,
   "metadata": {
    "scrolled": true
   },
   "outputs": [
    {
     "name": "stdout",
     "output_type": "stream",
     "text": [
      "Model: \"sequential_2\"\n",
      "_________________________________________________________________\n",
      "Layer (type)                 Output Shape              Param #   \n",
      "=================================================================\n",
      "conv2d_8 (Conv2D)            (None, 32, 32, 32)        896       \n",
      "_________________________________________________________________\n",
      "activation (Activation)      (None, 32, 32, 32)        0         \n",
      "_________________________________________________________________\n",
      "conv2d_9 (Conv2D)            (None, 30, 30, 32)        9248      \n",
      "_________________________________________________________________\n",
      "activation_1 (Activation)    (None, 30, 30, 32)        0         \n",
      "_________________________________________________________________\n",
      "max_pooling2d_4 (MaxPooling2 (None, 15, 15, 32)        0         \n",
      "_________________________________________________________________\n",
      "dropout (Dropout)            (None, 15, 15, 32)        0         \n",
      "_________________________________________________________________\n",
      "conv2d_10 (Conv2D)           (None, 15, 15, 64)        18496     \n",
      "_________________________________________________________________\n",
      "activation_2 (Activation)    (None, 15, 15, 64)        0         \n",
      "_________________________________________________________________\n",
      "conv2d_11 (Conv2D)           (None, 13, 13, 64)        36928     \n",
      "_________________________________________________________________\n",
      "activation_3 (Activation)    (None, 13, 13, 64)        0         \n",
      "_________________________________________________________________\n",
      "max_pooling2d_5 (MaxPooling2 (None, 6, 6, 64)          0         \n",
      "_________________________________________________________________\n",
      "dropout_1 (Dropout)          (None, 6, 6, 64)          0         \n",
      "_________________________________________________________________\n",
      "conv2d_12 (Conv2D)           (None, 6, 6, 64)          36928     \n",
      "_________________________________________________________________\n",
      "activation_4 (Activation)    (None, 6, 6, 64)          0         \n",
      "_________________________________________________________________\n",
      "conv2d_13 (Conv2D)           (None, 4, 4, 64)          36928     \n",
      "_________________________________________________________________\n",
      "activation_5 (Activation)    (None, 4, 4, 64)          0         \n",
      "_________________________________________________________________\n",
      "max_pooling2d_6 (MaxPooling2 (None, 2, 2, 64)          0         \n",
      "_________________________________________________________________\n",
      "dropout_2 (Dropout)          (None, 2, 2, 64)          0         \n",
      "_________________________________________________________________\n",
      "flatten_2 (Flatten)          (None, 256)               0         \n",
      "_________________________________________________________________\n",
      "dense_4 (Dense)              (None, 512)               131584    \n",
      "_________________________________________________________________\n",
      "activation_6 (Activation)    (None, 512)               0         \n",
      "_________________________________________________________________\n",
      "dropout_3 (Dropout)          (None, 512)               0         \n",
      "_________________________________________________________________\n",
      "dense_5 (Dense)              (None, 10)                5130      \n",
      "_________________________________________________________________\n",
      "activation_7 (Activation)    (None, 10)                0         \n",
      "=================================================================\n",
      "Total params: 276,138\n",
      "Trainable params: 276,138\n",
      "Non-trainable params: 0\n",
      "_________________________________________________________________\n"
     ]
    }
   ],
   "source": [
    "# конфигурирование слоев нейросети\n",
    "model3 = Sequential()\n",
    "\n",
    "# слои нейросети отвественные за свертку и max-pooling\n",
    "model3.add(Conv2D(32, (3, 3), padding='same', input_shape=X_train.shape[1:]))\n",
    "model3.add(Activation('relu'))\n",
    "model3.add(Conv2D(32, (3, 3)))\n",
    "model3.add(Activation('relu'))\n",
    "model3.add(MaxPooling2D(pool_size=(2, 2)))\n",
    "model3.add(Dropout(0.25))\n",
    "\n",
    "model3.add(Conv2D(64, (3, 3), padding='same'))\n",
    "model3.add(Activation('relu'))\n",
    "model3.add(Conv2D(64, (3, 3)))\n",
    "model3.add(Activation('relu'))\n",
    "model3.add(MaxPooling2D(pool_size=(2, 2)))\n",
    "model3.add(Dropout(0.25))\n",
    "\n",
    "model3.add(Conv2D(64, (3, 3), padding='same'))\n",
    "model3.add(Activation('relu'))\n",
    "model3.add(Conv2D(64, (3, 3)))\n",
    "model3.add(Activation('relu'))\n",
    "model3.add(MaxPooling2D(pool_size=(2, 2)))\n",
    "model3.add(Dropout(0.25))\n",
    "\n",
    "\n",
    "# полносвязные слои нейронной сети\n",
    "model3.add(Flatten())\n",
    "model3.add(Dense(512))\n",
    "model3.add(Activation('relu'))\n",
    "model3.add(Dropout(0.5))\n",
    "model3.add(Dense(10))\n",
    "model3.add(Activation('softmax'))\n",
    "\n",
    "model3.summary()\n",
    "# компиляция модели\n",
    "model3.compile(loss='categorical_crossentropy',\n",
    "              optimizer='SGD',\n",
    "              metrics=['accuracy'])"
   ]
  },
  {
   "cell_type": "code",
   "execution_count": 17,
   "metadata": {},
   "outputs": [
    {
     "name": "stdout",
     "output_type": "stream",
     "text": [
      "Epoch 1/10\n",
      "98/98 [==============================] - 59s 592ms/step - loss: 2.3084 - accuracy: 0.1034 - val_loss: 2.3016 - val_accuracy: 0.1338\n",
      "Epoch 2/10\n",
      "98/98 [==============================] - 60s 608ms/step - loss: 2.3034 - accuracy: 0.1022 - val_loss: 2.3008 - val_accuracy: 0.1523\n",
      "Epoch 3/10\n",
      "98/98 [==============================] - 59s 601ms/step - loss: 2.3014 - accuracy: 0.1057 - val_loss: 2.3003 - val_accuracy: 0.1497\n",
      "Epoch 4/10\n",
      "98/98 [==============================] - 59s 602ms/step - loss: 2.3007 - accuracy: 0.1080 - val_loss: 2.2996 - val_accuracy: 0.1510\n",
      "Epoch 5/10\n",
      "98/98 [==============================] - 60s 613ms/step - loss: 2.2993 - accuracy: 0.1111 - val_loss: 2.2985 - val_accuracy: 0.1593\n",
      "Epoch 6/10\n",
      "98/98 [==============================] - 59s 603ms/step - loss: 2.2979 - accuracy: 0.1178 - val_loss: 2.2967 - val_accuracy: 0.1681\n",
      "Epoch 7/10\n",
      "98/98 [==============================] - 62s 630ms/step - loss: 2.2949 - accuracy: 0.1289 - val_loss: 2.2936 - val_accuracy: 0.1750\n",
      "Epoch 8/10\n",
      "98/98 [==============================] - 62s 627ms/step - loss: 2.2922 - accuracy: 0.1288 - val_loss: 2.2876 - val_accuracy: 0.1797\n",
      "Epoch 9/10\n",
      "98/98 [==============================] - 61s 623ms/step - loss: 2.2859 - accuracy: 0.1388 - val_loss: 2.2758 - val_accuracy: 0.1992\n",
      "Epoch 10/10\n",
      "98/98 [==============================] - 60s 615ms/step - loss: 2.2718 - accuracy: 0.1511 - val_loss: 2.2496 - val_accuracy: 0.2152\n"
     ]
    }
   ],
   "source": [
    "history_3 = model3.fit(X_train, y_train,\n",
    "                        batch_size=batch_size,\n",
    "                        epochs=epochs,\n",
    "                        validation_data=(X_test, y_test))    "
   ]
  },
  {
   "cell_type": "code",
   "execution_count": 18,
   "metadata": {},
   "outputs": [
    {
     "name": "stdout",
     "output_type": "stream",
     "text": [
      "1563/1563 [==============================] - 20s 13ms/step - loss: 2.2508 - accuracy: 0.2128\n",
      "313/313 [==============================] - 4s 12ms/step - loss: 2.2496 - accuracy: 0.2152\n",
      "train_loss: 2.2508089542388916, train_accuracy: 0.2128400057554245\n",
      "test_loss: 2.2496213912963867, test_accuracy: 0.2152000069618225\n"
     ]
    }
   ],
   "source": [
    "# проверка работы обученной модели\n",
    "train_loss, train_m = model3.evaluate(X_train, y_train, verbose=1)\n",
    "test_loss, test_m = model3.evaluate(X_test, y_test, verbose=1)\n",
    "print(f'train_loss: {train_loss}, train_accuracy: {train_m}')\n",
    "print(f'test_loss: {test_loss}, test_accuracy: {test_m}')\n",
    "\n",
    "step.append(1)\n",
    "desc.append('More layers')\n",
    "train_acc.append(round(train_m,2))\n",
    "test_acc.append(round(test_m,2))\n"
   ]
  },
  {
   "cell_type": "code",
   "execution_count": 19,
   "metadata": {},
   "outputs": [
    {
     "name": "stdout",
     "output_type": "stream",
     "text": [
      "313/313 [==============================] - 4s 14ms/step - loss: 2.2496 - accuracy: 0.2152\n",
      "Test loss: 2.2496213912963867\n",
      "Test accuracy: 0.2152000069618225\n"
     ]
    },
    {
     "data": {
      "image/png": "[encoded data removed]",
      "text/plain": [
       "<Figure size 432x288 with 1 Axes>"
      ]
     },
     "metadata": {
      "needs_background": "light"
     },
     "output_type": "display_data"
    }
   ],
   "source": [
    "N = 11\n",
    "scores = model3.evaluate(X_test, y_test, verbose=1)\n",
    "print('Test loss:', scores[0])\n",
    "print('Test accuracy:', scores[1])\n",
    "\n",
    "y_p = model.predict(X_test[N:N+1])\n",
    "y_t = np.argmax(y_test[N:N+1], axis = 1 )\n",
    "y_i = np.argmax(y_p, axis = 1 )\n",
    "plt.imshow(X_test[N])\n",
    "plt.title(f'это : {classes[y_t[0]]} - опознан как : {classes[y_i[0]]}')\n",
    "plt.show()\n",
    "\n",
    "new_row = {'Sample':'With more layers', 'Train':classes[y_t[0]], 'Test': classes[y_i[0]], \\\n",
    "           'Test loss':round(scores[0], 4), 'Test accuracy':round(scores[1], 4)}\n",
    "\n",
    "results = results.append(new_row, ignore_index=True)"
   ]
  },
  {
   "cell_type": "code",
   "execution_count": 20,
   "metadata": {},
   "outputs": [
    {
     "data": {
      "text/html": [
       "<div>\n",
       "<style scoped>\n",
       "    .dataframe tbody tr th:only-of-type {\n",
       "        vertical-align: middle;\n",
       "    }\n",
       "\n",
       "    .dataframe tbody tr th {\n",
       "        vertical-align: top;\n",
       "    }\n",
       "\n",
       "    .dataframe thead th {\n",
       "        text-align: right;\n",
       "    }\n",
       "</style>\n",
       "<table border=\"1\" class=\"dataframe\">\n",
       "  <thead>\n",
       "    <tr style=\"text-align: right;\">\n",
       "      <th></th>\n",
       "      <th>Sample</th>\n",
       "      <th>Train</th>\n",
       "      <th>Test</th>\n",
       "      <th>Test loss</th>\n",
       "      <th>Test accuracy</th>\n",
       "    </tr>\n",
       "  </thead>\n",
       "  <tbody>\n",
       "    <tr>\n",
       "      <th>0</th>\n",
       "      <td>Baseline</td>\n",
       "      <td>грузовик</td>\n",
       "      <td>автомобиль</td>\n",
       "      <td>1.7097</td>\n",
       "      <td>0.3948</td>\n",
       "    </tr>\n",
       "    <tr>\n",
       "      <th>1</th>\n",
       "      <td>With more filters</td>\n",
       "      <td>грузовик</td>\n",
       "      <td>автомобиль</td>\n",
       "      <td>1.7643</td>\n",
       "      <td>0.3690</td>\n",
       "    </tr>\n",
       "    <tr>\n",
       "      <th>2</th>\n",
       "      <td>With more layers</td>\n",
       "      <td>грузовик</td>\n",
       "      <td>автомобиль</td>\n",
       "      <td>2.2496</td>\n",
       "      <td>0.2152</td>\n",
       "    </tr>\n",
       "  </tbody>\n",
       "</table>\n",
       "</div>"
      ],
      "text/plain": [
       "              Sample     Train        Test  Test loss  Test accuracy\n",
       "0           Baseline  грузовик  автомобиль     1.7097         0.3948\n",
       "1  With more filters  грузовик  автомобиль     1.7643         0.3690\n",
       "2   With more layers  грузовик  автомобиль     2.2496         0.2152"
      ]
     },
     "execution_count": 20,
     "metadata": {},
     "output_type": "execute_result"
    }
   ],
   "source": [
    "results"
   ]
  },
  {
   "cell_type": "markdown",
   "metadata": {},
   "source": [
    "### 4.\\* Сравнить с точностью полносвязной сети для этой выборки."
   ]
  },
  {
   "cell_type": "code",
   "execution_count": 21,
   "metadata": {},
   "outputs": [
    {
     "name": "stdout",
     "output_type": "stream",
     "text": [
      "Model: \"sequential_3\"\n",
      "_________________________________________________________________\n",
      "Layer (type)                 Output Shape              Param #   \n",
      "=================================================================\n",
      "flatten_3 (Flatten)          (None, 3072)              0         \n",
      "_________________________________________________________________\n",
      "dense_6 (Dense)              (None, 512)               1573376   \n",
      "_________________________________________________________________\n",
      "activation_8 (Activation)    (None, 512)               0         \n",
      "_________________________________________________________________\n",
      "dropout_4 (Dropout)          (None, 512)               0         \n",
      "_________________________________________________________________\n",
      "dense_7 (Dense)              (None, 10)                5130      \n",
      "_________________________________________________________________\n",
      "activation_9 (Activation)    (None, 10)                0         \n",
      "=================================================================\n",
      "Total params: 1,578,506\n",
      "Trainable params: 1,578,506\n",
      "Non-trainable params: 0\n",
      "_________________________________________________________________\n"
     ]
    }
   ],
   "source": [
    "# конфигурирование слоев нейросети\n",
    "model4 = Sequential()\n",
    "\n",
    "# полносвязные слои нейронной сети\n",
    "model4.add(Flatten(input_shape=X_train.shape[1:]))\n",
    "model4.add(Dense(512))\n",
    "model4.add(Activation('relu'))\n",
    "model4.add(Dropout(0.5))\n",
    "model4.add(Dense(10))\n",
    "model4.add(Activation('softmax'))\n",
    "\n",
    "model4.summary()\n",
    "# компиляция модели\n",
    "model4.compile(loss='categorical_crossentropy',\n",
    "              optimizer='SGD',\n",
    "              metrics=['accuracy'])"
   ]
  },
  {
   "cell_type": "code",
   "execution_count": 22,
   "metadata": {},
   "outputs": [
    {
     "name": "stdout",
     "output_type": "stream",
     "text": [
      "Epoch 1/10\n",
      "98/98 [==============================] - 3s 24ms/step - loss: 2.3047 - accuracy: 0.1604 - val_loss: 2.0223 - val_accuracy: 0.3110\n",
      "Epoch 2/10\n",
      "98/98 [==============================] - 2s 21ms/step - loss: 2.0403 - accuracy: 0.2698 - val_loss: 1.9454 - val_accuracy: 0.3406\n",
      "Epoch 3/10\n",
      "98/98 [==============================] - 3s 30ms/step - loss: 1.9815 - accuracy: 0.2939 - val_loss: 1.8998 - val_accuracy: 0.3460\n",
      "Epoch 4/10\n",
      "98/98 [==============================] - 2s 22ms/step - loss: 1.9410 - accuracy: 0.3096 - val_loss: 1.8683 - val_accuracy: 0.3590\n",
      "Epoch 5/10\n",
      "98/98 [==============================] - 2s 22ms/step - loss: 1.8999 - accuracy: 0.3286 - val_loss: 1.8426 - val_accuracy: 0.3700\n",
      "Epoch 6/10\n",
      "98/98 [==============================] - 2s 25ms/step - loss: 1.8779 - accuracy: 0.3409 - val_loss: 1.8194 - val_accuracy: 0.3727\n",
      "Epoch 7/10\n",
      "98/98 [==============================] - 2s 21ms/step - loss: 1.8619 - accuracy: 0.3428 - val_loss: 1.7994 - val_accuracy: 0.3820\n",
      "Epoch 8/10\n",
      "98/98 [==============================] - 2s 21ms/step - loss: 1.8397 - accuracy: 0.3543 - val_loss: 1.7882 - val_accuracy: 0.3825\n",
      "Epoch 9/10\n",
      "98/98 [==============================] - 2s 21ms/step - loss: 1.8206 - accuracy: 0.3614 - val_loss: 1.7727 - val_accuracy: 0.3923\n",
      "Epoch 10/10\n",
      "98/98 [==============================] - 2s 22ms/step - loss: 1.8125 - accuracy: 0.3654 - val_loss: 1.7586 - val_accuracy: 0.3931\n"
     ]
    }
   ],
   "source": [
    "history_4 = model4.fit(X_train, y_train,\n",
    "                        batch_size=batch_size,\n",
    "                        epochs=epochs,\n",
    "                        validation_data=(X_test, y_test))"
   ]
  },
  {
   "cell_type": "code",
   "execution_count": 23,
   "metadata": {},
   "outputs": [
    {
     "name": "stdout",
     "output_type": "stream",
     "text": [
      "1563/1563 - 2s - loss: 1.7524 - accuracy: 0.3971\n",
      "313/313 - 1s - loss: 1.7586 - accuracy: 0.3931\n",
      "train_loss: 1.7524369955062866, train_accuracy: 0.39711999893188477\n",
      "test_loss: 1.7585598230361938, test_accuracy: 0.39309999346733093\n"
     ]
    }
   ],
   "source": [
    "# проверка работы обученной модели\n",
    "train_loss, train_m = model4.evaluate(X_train, y_train, verbose=2)\n",
    "test_loss, test_m = model4.evaluate(X_test, y_test, verbose=2)\n",
    "print(f'train_loss: {train_loss}, train_accuracy: {train_m}')\n",
    "print(f'test_loss: {test_loss}, test_accuracy: {test_m}')\n",
    "\n",
    "step.append(1)\n",
    "desc.append('Fully connected networks')\n",
    "train_acc.append(round(train_m,2))\n",
    "test_acc.append(round(test_m,2))\n"
   ]
  },
  {
   "cell_type": "code",
   "execution_count": 24,
   "metadata": {},
   "outputs": [
    {
     "name": "stdout",
     "output_type": "stream",
     "text": [
      "313/313 [==============================] - 1s 2ms/step - loss: 1.7586 - accuracy: 0.3931\n",
      "Test loss: 1.7585598230361938\n",
      "Test accuracy: 0.39309999346733093\n"
     ]
    },
    {
     "data": {
      "image/png": "[encoded data removed]",
      "text/plain": [
       "<Figure size 432x288 with 1 Axes>"
      ]
     },
     "metadata": {
      "needs_background": "light"
     },
     "output_type": "display_data"
    }
   ],
   "source": [
    "N = 11\n",
    "scores = model4.evaluate(X_test, y_test, verbose=1)\n",
    "print('Test loss:', scores[0])\n",
    "print('Test accuracy:', scores[1])\n",
    "\n",
    "y_p = model.predict(X_test[N:N+1])\n",
    "y_t = np.argmax(y_test[N:N+1], axis = 1 )\n",
    "y_i = np.argmax(y_p, axis = 1 )\n",
    "plt.imshow(X_test[N])\n",
    "plt.title(f'это : {classes[y_t[0]]} - опознан как : {classes[y_i[0]]}')\n",
    "plt.show()\n",
    "\n",
    "new_row = {'Sample':'With fully connected networks', 'Train':classes[y_t[0]], 'Test': classes[y_i[0]], \\\n",
    "           'Test loss':round(scores[0], 4), 'Test accuracy':round(scores[1], 4)}\n",
    "\n",
    "results = results.append(new_row, ignore_index=True)"
   ]
  },
  {
   "cell_type": "code",
   "execution_count": 25,
   "metadata": {
    "scrolled": false
   },
   "outputs": [
    {
     "data": {
      "text/html": [
       "<div>\n",
       "<style scoped>\n",
       "    .dataframe tbody tr th:only-of-type {\n",
       "        vertical-align: middle;\n",
       "    }\n",
       "\n",
       "    .dataframe tbody tr th {\n",
       "        vertical-align: top;\n",
       "    }\n",
       "\n",
       "    .dataframe thead th {\n",
       "        text-align: right;\n",
       "    }\n",
       "</style>\n",
       "<table border=\"1\" class=\"dataframe\">\n",
       "  <thead>\n",
       "    <tr style=\"text-align: right;\">\n",
       "      <th></th>\n",
       "      <th>Sample</th>\n",
       "      <th>Train</th>\n",
       "      <th>Test</th>\n",
       "      <th>Test loss</th>\n",
       "      <th>Test accuracy</th>\n",
       "    </tr>\n",
       "  </thead>\n",
       "  <tbody>\n",
       "    <tr>\n",
       "      <th>0</th>\n",
       "      <td>Baseline</td>\n",
       "      <td>грузовик</td>\n",
       "      <td>автомобиль</td>\n",
       "      <td>1.7097</td>\n",
       "      <td>0.3948</td>\n",
       "    </tr>\n",
       "    <tr>\n",
       "      <th>1</th>\n",
       "      <td>With more filters</td>\n",
       "      <td>грузовик</td>\n",
       "      <td>автомобиль</td>\n",
       "      <td>1.7643</td>\n",
       "      <td>0.3690</td>\n",
       "    </tr>\n",
       "    <tr>\n",
       "      <th>2</th>\n",
       "      <td>With more layers</td>\n",
       "      <td>грузовик</td>\n",
       "      <td>автомобиль</td>\n",
       "      <td>2.2496</td>\n",
       "      <td>0.2152</td>\n",
       "    </tr>\n",
       "    <tr>\n",
       "      <th>3</th>\n",
       "      <td>With fully connected networks</td>\n",
       "      <td>грузовик</td>\n",
       "      <td>автомобиль</td>\n",
       "      <td>1.7586</td>\n",
       "      <td>0.3931</td>\n",
       "    </tr>\n",
       "  </tbody>\n",
       "</table>\n",
       "</div>"
      ],
      "text/plain": [
       "                          Sample     Train        Test  Test loss  \\\n",
       "0                       Baseline  грузовик  автомобиль     1.7097   \n",
       "1              With more filters  грузовик  автомобиль     1.7643   \n",
       "2               With more layers  грузовик  автомобиль     2.2496   \n",
       "3  With fully connected networks  грузовик  автомобиль     1.7586   \n",
       "\n",
       "   Test accuracy  \n",
       "0         0.3948  \n",
       "1         0.3690  \n",
       "2         0.2152  \n",
       "3         0.3931  "
      ]
     },
     "execution_count": 25,
     "metadata": {},
     "output_type": "execute_result"
    }
   ],
   "source": [
    "results"
   ]
  },
  {
   "cell_type": "markdown",
   "metadata": {},
   "source": [
    "## Выводы:\n",
    "\n",
    "**Получилось странное явление в том, что увеличение фильтров и увеличение слоёв привело к снижению тестовой точности.\n",
    "Это видимо связано с недостаточно правильной настройкой параметров, иначе эти показатели, а особенно показатель полносвязной сети должны были показать максимально высокие результаты тестовой точности.**"
   ]
  },
  {
   "cell_type": "code",
   "execution_count": null,
   "metadata": {},
   "outputs": [],
   "source": []
  }
 ],
 "metadata": {
  "accelerator": "GPU",
  "colab": {
   "collapsed_sections": [],
   "name": "Web3.ipynb",
   "provenance": []
  },
  "kernelspec": {
   "display_name": "Python 3",
   "language": "python",
   "name": "python3"
  },
  "language_info": {
   "codemirror_mode": {
    "name": "ipython",
    "version": 3
   },
   "file_extension": ".py",
   "mimetype": "text/x-python",
   "name": "python",
   "nbconvert_exporter": "python",
   "pygments_lexer": "ipython3",
   "version": "3.8.5"
  }
 },
 "nbformat": 4,
 "nbformat_minor": 1
}
