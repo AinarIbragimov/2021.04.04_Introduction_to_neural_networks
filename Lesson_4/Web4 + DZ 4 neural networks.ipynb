{
 "cells": [
  {
   "cell_type": "markdown",
   "metadata": {
    "id": "j9uRd98UFzPL"
   },
   "source": [
    "# Введение в искусственные нейронные сети\n",
    "# Урок 4. Сверточные нейронные сети (CNN)"
   ]
  },
  {
   "cell_type": "markdown",
   "metadata": {},
   "source": [
    "## Домашнее задание\n",
    "\n",
    "1. обучить рукописную сверточную нейронную сеть (с падением размера ядра свертки и последовательностью блоков свертка-пулинг (conv-pool)-(conv-pool)-...) на датасете cifar-10\n",
    "2. оценить рост точности при увеличении ширины сети (больше фильтров)\n",
    "3. оценить рост точности при увеличении глубины сети (больше слоев)\n",
    "4. *сравнить с точностью полносвязной сети для этой выборки\n"
   ]
  },
  {
   "cell_type": "code",
   "execution_count": 8,
   "metadata": {},
   "outputs": [],
   "source": [
    "import numpy as np\n",
    "import pandas as pd\n",
    "import matplotlib.pyplot as plt\n",
    "\n",
    "from tensorflow.keras.models import Model\n",
    "from tensorflow.keras.datasets import cifar10\n",
    "from tensorflow.keras.preprocessing.image import ImageDataGenerator\n",
    "from tensorflow.keras.utils import to_categorical\n",
    "from tensorflow.keras.models import Sequential\n",
    "from tensorflow.keras.layers import Input, Dense, Dropout, Activation, Flatten\n",
    "from tensorflow.keras.layers import Conv2D, MaxPooling2D\n",
    "\n",
    "from tensorflow.keras.utils import plot_model\n",
    "from tensorflow.keras import initializers\n",
    "import os\n",
    "from sklearn.metrics import classification_report"
   ]
  },
  {
   "cell_type": "code",
   "execution_count": 9,
   "metadata": {},
   "outputs": [],
   "source": [
    "classes = ['самолет', 'автомобиль', 'птица', 'кот', 'олень', 'собака', 'лягушка', 'лошадь', 'корабль', 'грузовик']"
   ]
  },
  {
   "cell_type": "code",
   "execution_count": 10,
   "metadata": {},
   "outputs": [
    {
     "name": "stdout",
     "output_type": "stream",
     "text": [
      "X_train shape: (50000, 32, 32, 3)\n",
      "50000 тренировочные примеры\n",
      "10000 тестовые примеры\n"
     ]
    }
   ],
   "source": [
    "# разделение тренировочной и тестовой выборки\n",
    "(X_train, y_train), (X_test, y_test) = cifar10.load_data()\n",
    "print('X_train shape:', X_train.shape)\n",
    "print(X_train.shape[0], 'тренировочные примеры')\n",
    "print(X_test.shape[0], 'тестовые примеры')\n",
    "\n",
    "# преобразование матрицы чисел 0-9 в бинарную матрицу чисел 0-1\n",
    "y_train = to_categorical(y_train, 10)\n",
    "y_test = to_categorical(y_test, 10)\n",
    "\n",
    "X_train = X_train / 255.0\n",
    "X_test = X_test / 255.0"
   ]
  },
  {
   "cell_type": "code",
   "execution_count": 11,
   "metadata": {
    "scrolled": true
   },
   "outputs": [
    {
     "data": {
      "image/png": "[encoded data removed]",
      "text/plain": [
       "<Figure size 432x288 with 1 Axes>"
      ]
     },
     "metadata": {
      "needs_background": "light"
     },
     "output_type": "display_data"
    }
   ],
   "source": [
    "N = 11\n",
    "\n",
    "plt.imshow(X_test[N])\n",
    "plt.title(classes[np.argmax(y_test[N,:])])\n",
    "plt.show()"
   ]
  },
  {
   "cell_type": "code",
   "execution_count": 12,
   "metadata": {},
   "outputs": [],
   "source": [
    "results = pd.DataFrame(columns=['Sample', 'Train', 'Test', 'Test loss', 'Test accuracy']) # сводная таблица результатов\n",
    "\n",
    "batch_size = 512\n",
    "epochs = 10\n",
    "\n",
    "step = [] # шаг\n",
    "desc = [] # описание\n",
    "\n",
    "train_acc = [] # результат на трейне\n",
    "test_acc = [] # результат на тесте"
   ]
  },
  {
   "cell_type": "markdown",
   "metadata": {},
   "source": [
    "### 1. Обучить рукописную сверточную нейронную сеть (с падением размера ядра свертки и последовательностью блоков свертка-пулинг (conv-pool)-(conv-pool)-...) на датасете cifar-10"
   ]
  },
  {
   "cell_type": "code",
   "execution_count": 13,
   "metadata": {
    "scrolled": true
   },
   "outputs": [
    {
     "name": "stdout",
     "output_type": "stream",
     "text": [
      "Model: \"sequential_1\"\n",
      "_________________________________________________________________\n",
      "Layer (type)                 Output Shape              Param #   \n",
      "=================================================================\n",
      "conv2d_4 (Conv2D)            (None, 32, 32, 16)        448       \n",
      "_________________________________________________________________\n",
      "max_pooling2d_4 (MaxPooling2 (None, 16, 16, 16)        0         \n",
      "_________________________________________________________________\n",
      "conv2d_5 (Conv2D)            (None, 16, 16, 32)        4640      \n",
      "_________________________________________________________________\n",
      "max_pooling2d_5 (MaxPooling2 (None, 8, 8, 32)          0         \n",
      "_________________________________________________________________\n",
      "conv2d_6 (Conv2D)            (None, 8, 8, 64)          18496     \n",
      "_________________________________________________________________\n",
      "max_pooling2d_6 (MaxPooling2 (None, 4, 4, 64)          0         \n",
      "_________________________________________________________________\n",
      "conv2d_7 (Conv2D)            (None, 2, 2, 128)         73856     \n",
      "_________________________________________________________________\n",
      "max_pooling2d_7 (MaxPooling2 (None, 1, 1, 128)         0         \n",
      "_________________________________________________________________\n",
      "flatten_1 (Flatten)          (None, 128)               0         \n",
      "_________________________________________________________________\n",
      "dense_5 (Dense)              (None, 512)               66048     \n",
      "_________________________________________________________________\n",
      "activation_5 (Activation)    (None, 512)               0         \n",
      "_________________________________________________________________\n",
      "dense_6 (Dense)              (None, 256)               131328    \n",
      "_________________________________________________________________\n",
      "activation_6 (Activation)    (None, 256)               0         \n",
      "_________________________________________________________________\n",
      "dense_7 (Dense)              (None, 128)               32896     \n",
      "_________________________________________________________________\n",
      "activation_7 (Activation)    (None, 128)               0         \n",
      "_________________________________________________________________\n",
      "dense_8 (Dense)              (None, 64)                8256      \n",
      "_________________________________________________________________\n",
      "activation_8 (Activation)    (None, 64)                0         \n",
      "_________________________________________________________________\n",
      "dropout_1 (Dropout)          (None, 64)                0         \n",
      "_________________________________________________________________\n",
      "dense_9 (Dense)              (None, 10)                650       \n",
      "_________________________________________________________________\n",
      "activation_9 (Activation)    (None, 10)                0         \n",
      "=================================================================\n",
      "Total params: 336,618\n",
      "Trainable params: 336,618\n",
      "Non-trainable params: 0\n",
      "_________________________________________________________________\n"
     ]
    }
   ],
   "source": [
    "from tensorflow.keras.losses import categorical_crossentropy\n",
    "\n",
    "# конфигурирование слоев нейросети\n",
    "model = Sequential()\n",
    "\n",
    "# слои нейросети отвественные за свертку и max-pooling\n",
    "model.add(Conv2D(16, (3, 3), padding='same', input_shape=X_train.shape[1:]))\n",
    "model.add(MaxPooling2D(pool_size=(2, 2)))\n",
    "model.add(Conv2D(32, (3, 3), padding='same'))\n",
    "model.add(MaxPooling2D(pool_size=(2, 2)))\n",
    "model.add(Conv2D(64, (3, 3), padding='same'))\n",
    "model.add(MaxPooling2D(pool_size=(2, 2)))\n",
    "model.add(Conv2D(128, (3, 3)))\n",
    "model.add(MaxPooling2D(pool_size=(2, 2)))\n",
    "\n",
    "# полносвязные слои нейронной сети\n",
    "model.add(Flatten())\n",
    "model.add(Dense(512))\n",
    "model.add(Activation('relu'))\n",
    "model.add(Dense(256))\n",
    "model.add(Activation('relu'))\n",
    "model.add(Dense(128))\n",
    "model.add(Activation('relu'))\n",
    "model.add(Dense(64))\n",
    "model.add(Activation('relu'))\n",
    "model.add(Dropout(0.5))\n",
    "model.add(Dense(10))\n",
    "model.add(Activation('softmax'))\n",
    "\n",
    "model.summary()\n",
    "\n",
    "# компиляция модели\n",
    "model.compile(loss=categorical_crossentropy,\n",
    "              optimizer='SGD',\n",
    "              metrics=[\"accuracy\"])"
   ]
  },
  {
   "cell_type": "code",
   "execution_count": 14,
   "metadata": {},
   "outputs": [
    {
     "name": "stdout",
     "output_type": "stream",
     "text": [
      "Epoch 1/10\n",
      "98/98 [==============================] - 16s 158ms/step - loss: 2.3037 - accuracy: 0.0990 - val_loss: 2.2972 - val_accuracy: 0.1242\n",
      "Epoch 2/10\n",
      "98/98 [==============================] - 15s 154ms/step - loss: 2.2965 - accuracy: 0.1218 - val_loss: 2.2919 - val_accuracy: 0.1602\n",
      "Epoch 3/10\n",
      "98/98 [==============================] - 15s 150ms/step - loss: 2.2909 - accuracy: 0.1419 - val_loss: 2.2849 - val_accuracy: 0.1966\n",
      "Epoch 4/10\n",
      "98/98 [==============================] - 15s 150ms/step - loss: 2.2842 - accuracy: 0.1535 - val_loss: 2.2755 - val_accuracy: 0.2099\n",
      "Epoch 5/10\n",
      "98/98 [==============================] - 15s 156ms/step - loss: 2.2738 - accuracy: 0.1644 - val_loss: 2.2610 - val_accuracy: 0.2201\n",
      "Epoch 6/10\n",
      "98/98 [==============================] - 15s 152ms/step - loss: 2.2604 - accuracy: 0.1734 - val_loss: 2.2373 - val_accuracy: 0.2215\n",
      "Epoch 7/10\n",
      "98/98 [==============================] - 15s 150ms/step - loss: 2.2379 - accuracy: 0.1824 - val_loss: 2.2041 - val_accuracy: 0.2540\n",
      "Epoch 8/10\n",
      "98/98 [==============================] - 15s 149ms/step - loss: 2.2063 - accuracy: 0.1935 - val_loss: 2.1523 - val_accuracy: 0.2644\n",
      "Epoch 9/10\n",
      "98/98 [==============================] - 15s 148ms/step - loss: 2.1678 - accuracy: 0.2099 - val_loss: 2.0967 - val_accuracy: 0.2825\n",
      "Epoch 10/10\n",
      "98/98 [==============================] - 15s 149ms/step - loss: 2.1286 - accuracy: 0.2172 - val_loss: 2.0628 - val_accuracy: 0.2809\n"
     ]
    },
    {
     "data": {
      "text/plain": [
       "<tensorflow.python.keras.callbacks.History at 0x1c01ce9ab80>"
      ]
     },
     "execution_count": 14,
     "metadata": {},
     "output_type": "execute_result"
    }
   ],
   "source": [
    "model.fit(X_train, y_train,\n",
    "              batch_size=batch_size,\n",
    "              epochs=epochs,\n",
    "              validation_data=(X_test, y_test),\n",
    "              shuffle=True)"
   ]
  },
  {
   "cell_type": "code",
   "execution_count": 15,
   "metadata": {},
   "outputs": [
    {
     "name": "stdout",
     "output_type": "stream",
     "text": [
      "1563/1563 [==============================] - 7s 5ms/step - loss: 2.0647 - accuracy: 0.2794\n",
      "313/313 [==============================] - 1s 5ms/step - loss: 2.0628 - accuracy: 0.2809\n",
      "train_loss: 2.0646955966949463, train_accuracy: 0.2793799936771393\n",
      "test_loss: 2.0628440380096436, test_accuracy: 0.2809000015258789\n"
     ]
    }
   ],
   "source": [
    "# проверка работы обученной модели\n",
    "train_loss, train_m = model.evaluate(X_train, y_train, verbose=1)\n",
    "test_loss, test_m = model.evaluate(X_test, y_test, verbose=1)\n",
    "print(f'train_loss: {train_loss}, train_accuracy: {train_m}')\n",
    "print(f'test_loss: {test_loss}, test_accuracy: {test_m}')\n",
    "\n",
    "step.append(1)\n",
    "desc.append('Baseline')\n",
    "train_acc.append(round(train_m,2))\n",
    "test_acc.append(round(test_m,2))"
   ]
  },
  {
   "cell_type": "code",
   "execution_count": 16,
   "metadata": {
    "scrolled": true
   },
   "outputs": [
    {
     "name": "stdout",
     "output_type": "stream",
     "text": [
      "313/313 [==============================] - 1s 5ms/step - loss: 2.0628 - accuracy: 0.2809\n",
      "Test loss: 2.0628440380096436\n",
      "Test accuracy: 0.2809000015258789\n"
     ]
    },
    {
     "data": {
      "image/png": "[encoded data removed]",
      "text/plain": [
       "<Figure size 432x288 with 1 Axes>"
      ]
     },
     "metadata": {
      "needs_background": "light"
     },
     "output_type": "display_data"
    }
   ],
   "source": [
    "N = 11\n",
    "scores = model.evaluate(X_test, y_test, verbose=1)\n",
    "print('Test loss:', scores[0])\n",
    "print('Test accuracy:', scores[1])\n",
    "\n",
    "y_p = model.predict(X_test[N:N+1])\n",
    "y_t = np.argmax(y_test[N:N+1], axis = 1 )\n",
    "y_i = np.argmax(y_p, axis = 1 )\n",
    "plt.imshow(X_test[N])\n",
    "plt.title(f'это : {classes[y_t[0]]} - опознан как : {classes[y_i[0]]}')\n",
    "plt.show()\n",
    "\n",
    "new_row = {'Sample':'CNN Baseline', 'Train':classes[y_t[0]], 'Test': classes[y_i[0]], \\\n",
    "           'Test loss':round(scores[0], 4), 'Test accuracy':round(scores[1], 4)}\n",
    "\n",
    "results = results.append(new_row, ignore_index=True)"
   ]
  },
  {
   "cell_type": "code",
   "execution_count": 17,
   "metadata": {
    "scrolled": true
   },
   "outputs": [
    {
     "data": {
      "text/html": [
       "<div>\n",
       "<style scoped>\n",
       "    .dataframe tbody tr th:only-of-type {\n",
       "        vertical-align: middle;\n",
       "    }\n",
       "\n",
       "    .dataframe tbody tr th {\n",
       "        vertical-align: top;\n",
       "    }\n",
       "\n",
       "    .dataframe thead th {\n",
       "        text-align: right;\n",
       "    }\n",
       "</style>\n",
       "<table border=\"1\" class=\"dataframe\">\n",
       "  <thead>\n",
       "    <tr style=\"text-align: right;\">\n",
       "      <th></th>\n",
       "      <th>Sample</th>\n",
       "      <th>Train</th>\n",
       "      <th>Test</th>\n",
       "      <th>Test loss</th>\n",
       "      <th>Test accuracy</th>\n",
       "    </tr>\n",
       "  </thead>\n",
       "  <tbody>\n",
       "    <tr>\n",
       "      <th>0</th>\n",
       "      <td>CNN Baseline</td>\n",
       "      <td>грузовик</td>\n",
       "      <td>грузовик</td>\n",
       "      <td>2.0628</td>\n",
       "      <td>0.2809</td>\n",
       "    </tr>\n",
       "  </tbody>\n",
       "</table>\n",
       "</div>"
      ],
      "text/plain": [
       "         Sample     Train      Test  Test loss  Test accuracy\n",
       "0  CNN Baseline  грузовик  грузовик     2.0628         0.2809"
      ]
     },
     "execution_count": 17,
     "metadata": {},
     "output_type": "execute_result"
    }
   ],
   "source": [
    "results"
   ]
  },
  {
   "cell_type": "markdown",
   "metadata": {},
   "source": [
    "### 2. Оценить рост точности при увеличении ширины сети (больше фильтров)"
   ]
  },
  {
   "cell_type": "code",
   "execution_count": 18,
   "metadata": {},
   "outputs": [
    {
     "name": "stdout",
     "output_type": "stream",
     "text": [
      "Model: \"sequential_2\"\n",
      "_________________________________________________________________\n",
      "Layer (type)                 Output Shape              Param #   \n",
      "=================================================================\n",
      "conv2d_8 (Conv2D)            (None, 32, 32, 32)        896       \n",
      "_________________________________________________________________\n",
      "conv2d_9 (Conv2D)            (None, 30, 30, 32)        9248      \n",
      "_________________________________________________________________\n",
      "max_pooling2d_8 (MaxPooling2 (None, 15, 15, 32)        0         \n",
      "_________________________________________________________________\n",
      "conv2d_10 (Conv2D)           (None, 15, 15, 128)       36992     \n",
      "_________________________________________________________________\n",
      "conv2d_11 (Conv2D)           (None, 13, 13, 128)       147584    \n",
      "_________________________________________________________________\n",
      "max_pooling2d_9 (MaxPooling2 (None, 6, 6, 128)         0         \n",
      "_________________________________________________________________\n",
      "flatten_2 (Flatten)          (None, 4608)              0         \n",
      "_________________________________________________________________\n",
      "dense_10 (Dense)             (None, 512)               2359808   \n",
      "_________________________________________________________________\n",
      "dense_11 (Dense)             (None, 10)                5130      \n",
      "=================================================================\n",
      "Total params: 2,559,658\n",
      "Trainable params: 2,559,658\n",
      "Non-trainable params: 0\n",
      "_________________________________________________________________\n"
     ]
    }
   ],
   "source": [
    "# конфигурирование слоев нейросети\n",
    "model2 = Sequential()\n",
    "\n",
    "# слои нейросети отвественные за свертку и max-pooling\n",
    "model2.add(Conv2D(32, (3, 3), activation='relu', padding='same', input_shape=X_train.shape[1:]))\n",
    "model2.add(Conv2D(32, (3, 3), activation='relu'))\n",
    "model2.add(MaxPooling2D(pool_size=(2, 2)))\n",
    "\n",
    "model2.add(Conv2D(128, (3, 3), activation='relu', padding='same'))\n",
    "model2.add(Conv2D(128, (3, 3), activation='relu'))\n",
    "model2.add(MaxPooling2D(pool_size=(2, 2)))\n",
    "\n",
    "# полносвязные слои нейронной сети\n",
    "model2.add(Flatten())\n",
    "model2.add(Dense(512, activation='relu'))\n",
    "model2.add(Dense(10, activation='softmax'))\n",
    "\n",
    "model2.summary()\n",
    "# компиляция модели\n",
    "model2.compile(loss='categorical_crossentropy',\n",
    "              optimizer='SGD',\n",
    "              metrics=['accuracy'])"
   ]
  },
  {
   "cell_type": "code",
   "execution_count": 19,
   "metadata": {},
   "outputs": [
    {
     "name": "stdout",
     "output_type": "stream",
     "text": [
      "Epoch 1/10\n",
      "98/98 [==============================] - 87s 883ms/step - loss: 2.2917 - accuracy: 0.1338 - val_loss: 2.2654 - val_accuracy: 0.1683\n",
      "Epoch 2/10\n",
      "98/98 [==============================] - 83s 847ms/step - loss: 2.2456 - accuracy: 0.1915 - val_loss: 2.1499 - val_accuracy: 0.2279\n",
      "Epoch 3/10\n",
      "98/98 [==============================] - 87s 889ms/step - loss: 2.1178 - accuracy: 0.2473 - val_loss: 2.0167 - val_accuracy: 0.2795\n",
      "Epoch 4/10\n",
      "98/98 [==============================] - 88s 899ms/step - loss: 2.0511 - accuracy: 0.2656 - val_loss: 1.9589 - val_accuracy: 0.3111\n",
      "Epoch 5/10\n",
      "98/98 [==============================] - 85s 863ms/step - loss: 1.9775 - accuracy: 0.2970 - val_loss: 1.8899 - val_accuracy: 0.3286\n",
      "Epoch 6/10\n",
      "98/98 [==============================] - 89s 904ms/step - loss: 1.9106 - accuracy: 0.3256 - val_loss: 1.9886 - val_accuracy: 0.2992\n",
      "Epoch 7/10\n",
      "98/98 [==============================] - 91s 927ms/step - loss: 1.8793 - accuracy: 0.3367 - val_loss: 1.8019 - val_accuracy: 0.3625\n",
      "Epoch 8/10\n",
      "98/98 [==============================] - 88s 897ms/step - loss: 1.8273 - accuracy: 0.3581 - val_loss: 1.7641 - val_accuracy: 0.3873\n",
      "Epoch 9/10\n",
      "98/98 [==============================] - 89s 909ms/step - loss: 1.7870 - accuracy: 0.3681 - val_loss: 1.7668 - val_accuracy: 0.3828\n",
      "Epoch 10/10\n",
      "98/98 [==============================] - 90s 920ms/step - loss: 1.7506 - accuracy: 0.3848 - val_loss: 1.7196 - val_accuracy: 0.3907\n"
     ]
    },
    {
     "data": {
      "text/plain": [
       "<tensorflow.python.keras.callbacks.History at 0x1c01e41ce20>"
      ]
     },
     "execution_count": 19,
     "metadata": {},
     "output_type": "execute_result"
    }
   ],
   "source": [
    "model2.fit(X_train, y_train,\n",
    "              batch_size=batch_size,\n",
    "              epochs=epochs,\n",
    "              validation_data=(X_test, y_test),\n",
    "              shuffle=True)"
   ]
  },
  {
   "cell_type": "code",
   "execution_count": 20,
   "metadata": {},
   "outputs": [
    {
     "name": "stdout",
     "output_type": "stream",
     "text": [
      "1563/1563 [==============================] - 29s 19ms/step - loss: 1.7151 - accuracy: 0.3905\n",
      "313/313 [==============================] - 6s 19ms/step - loss: 1.7196 - accuracy: 0.3907\n",
      "train_loss: 1.715128779411316, train_accuracy: 0.390500009059906\n",
      "test_loss: 1.7196314334869385, test_accuracy: 0.39070001244544983\n"
     ]
    }
   ],
   "source": [
    "# проверка работы обученной модели\n",
    "train_loss, train_m = model2.evaluate(X_train, y_train, verbose=1)\n",
    "test_loss, test_m = model2.evaluate(X_test, y_test, verbose=1)\n",
    "print(f'train_loss: {train_loss}, train_accuracy: {train_m}')\n",
    "print(f'test_loss: {test_loss}, test_accuracy: {test_m}')\n",
    "\n",
    "step.append(1)\n",
    "desc.append('More filters')\n",
    "train_acc.append(round(train_m,2))\n",
    "test_acc.append(round(test_m,2))"
   ]
  },
  {
   "cell_type": "code",
   "execution_count": 21,
   "metadata": {},
   "outputs": [
    {
     "name": "stdout",
     "output_type": "stream",
     "text": [
      "313/313 [==============================] - 6s 19ms/step - loss: 1.7196 - accuracy: 0.3907\n",
      "Test loss: 1.7196314334869385\n",
      "Test accuracy: 0.39070001244544983\n"
     ]
    },
    {
     "data": {
      "image/png": "[encoded data removed]",
      "text/plain": [
       "<Figure size 432x288 with 1 Axes>"
      ]
     },
     "metadata": {
      "needs_background": "light"
     },
     "output_type": "display_data"
    }
   ],
   "source": [
    "N = 11\n",
    "scores = model2.evaluate(X_test, y_test, verbose=1)\n",
    "print('Test loss:', scores[0])\n",
    "print('Test accuracy:', scores[1])\n",
    "\n",
    "y_p = model.predict(X_test[N:N+1])\n",
    "y_t = np.argmax(y_test[N:N+1], axis = 1 )\n",
    "y_i = np.argmax(y_p, axis = 1 )\n",
    "plt.imshow(X_test[N])\n",
    "plt.title(f'это : {classes[y_t[0]]} - опознан как : {classes[y_i[0]]}')\n",
    "plt.show()\n",
    "\n",
    "new_row = {'Sample':'CNN with more filters', 'Train':classes[y_t[0]], 'Test': classes[y_i[0]], \\\n",
    "           'Test loss':round(scores[0], 4), 'Test accuracy':round(scores[1], 4)}\n",
    "\n",
    "results = results.append(new_row, ignore_index=True)"
   ]
  },
  {
   "cell_type": "code",
   "execution_count": 22,
   "metadata": {},
   "outputs": [
    {
     "data": {
      "text/html": [
       "<div>\n",
       "<style scoped>\n",
       "    .dataframe tbody tr th:only-of-type {\n",
       "        vertical-align: middle;\n",
       "    }\n",
       "\n",
       "    .dataframe tbody tr th {\n",
       "        vertical-align: top;\n",
       "    }\n",
       "\n",
       "    .dataframe thead th {\n",
       "        text-align: right;\n",
       "    }\n",
       "</style>\n",
       "<table border=\"1\" class=\"dataframe\">\n",
       "  <thead>\n",
       "    <tr style=\"text-align: right;\">\n",
       "      <th></th>\n",
       "      <th>Sample</th>\n",
       "      <th>Train</th>\n",
       "      <th>Test</th>\n",
       "      <th>Test loss</th>\n",
       "      <th>Test accuracy</th>\n",
       "    </tr>\n",
       "  </thead>\n",
       "  <tbody>\n",
       "    <tr>\n",
       "      <th>0</th>\n",
       "      <td>CNN Baseline</td>\n",
       "      <td>грузовик</td>\n",
       "      <td>грузовик</td>\n",
       "      <td>2.0628</td>\n",
       "      <td>0.2809</td>\n",
       "    </tr>\n",
       "    <tr>\n",
       "      <th>1</th>\n",
       "      <td>CNN with more filters</td>\n",
       "      <td>грузовик</td>\n",
       "      <td>грузовик</td>\n",
       "      <td>1.7196</td>\n",
       "      <td>0.3907</td>\n",
       "    </tr>\n",
       "  </tbody>\n",
       "</table>\n",
       "</div>"
      ],
      "text/plain": [
       "                  Sample     Train      Test  Test loss  Test accuracy\n",
       "0           CNN Baseline  грузовик  грузовик     2.0628         0.2809\n",
       "1  CNN with more filters  грузовик  грузовик     1.7196         0.3907"
      ]
     },
     "execution_count": 22,
     "metadata": {},
     "output_type": "execute_result"
    }
   ],
   "source": [
    "results"
   ]
  },
  {
   "cell_type": "markdown",
   "metadata": {},
   "source": [
    "### 3. Оценить рост точности при увеличении глубины сети (больше слоев)"
   ]
  },
  {
   "cell_type": "code",
   "execution_count": 23,
   "metadata": {
    "scrolled": true
   },
   "outputs": [
    {
     "name": "stdout",
     "output_type": "stream",
     "text": [
      "Model: \"sequential_3\"\n",
      "_________________________________________________________________\n",
      "Layer (type)                 Output Shape              Param #   \n",
      "=================================================================\n",
      "conv2d_12 (Conv2D)           (None, 32, 32, 32)        896       \n",
      "_________________________________________________________________\n",
      "activation_10 (Activation)   (None, 32, 32, 32)        0         \n",
      "_________________________________________________________________\n",
      "conv2d_13 (Conv2D)           (None, 30, 30, 32)        9248      \n",
      "_________________________________________________________________\n",
      "activation_11 (Activation)   (None, 30, 30, 32)        0         \n",
      "_________________________________________________________________\n",
      "max_pooling2d_10 (MaxPooling (None, 15, 15, 32)        0         \n",
      "_________________________________________________________________\n",
      "dropout_2 (Dropout)          (None, 15, 15, 32)        0         \n",
      "_________________________________________________________________\n",
      "conv2d_14 (Conv2D)           (None, 15, 15, 64)        18496     \n",
      "_________________________________________________________________\n",
      "activation_12 (Activation)   (None, 15, 15, 64)        0         \n",
      "_________________________________________________________________\n",
      "conv2d_15 (Conv2D)           (None, 13, 13, 64)        36928     \n",
      "_________________________________________________________________\n",
      "activation_13 (Activation)   (None, 13, 13, 64)        0         \n",
      "_________________________________________________________________\n",
      "max_pooling2d_11 (MaxPooling (None, 6, 6, 64)          0         \n",
      "_________________________________________________________________\n",
      "dropout_3 (Dropout)          (None, 6, 6, 64)          0         \n",
      "_________________________________________________________________\n",
      "conv2d_16 (Conv2D)           (None, 6, 6, 64)          36928     \n",
      "_________________________________________________________________\n",
      "activation_14 (Activation)   (None, 6, 6, 64)          0         \n",
      "_________________________________________________________________\n",
      "conv2d_17 (Conv2D)           (None, 4, 4, 64)          36928     \n",
      "_________________________________________________________________\n",
      "activation_15 (Activation)   (None, 4, 4, 64)          0         \n",
      "_________________________________________________________________\n",
      "max_pooling2d_12 (MaxPooling (None, 2, 2, 64)          0         \n",
      "_________________________________________________________________\n",
      "dropout_4 (Dropout)          (None, 2, 2, 64)          0         \n",
      "_________________________________________________________________\n",
      "flatten_3 (Flatten)          (None, 256)               0         \n",
      "_________________________________________________________________\n",
      "dense_12 (Dense)             (None, 512)               131584    \n",
      "_________________________________________________________________\n",
      "activation_16 (Activation)   (None, 512)               0         \n",
      "_________________________________________________________________\n",
      "dropout_5 (Dropout)          (None, 512)               0         \n",
      "_________________________________________________________________\n",
      "dense_13 (Dense)             (None, 10)                5130      \n",
      "_________________________________________________________________\n",
      "activation_17 (Activation)   (None, 10)                0         \n",
      "=================================================================\n",
      "Total params: 276,138\n",
      "Trainable params: 276,138\n",
      "Non-trainable params: 0\n",
      "_________________________________________________________________\n"
     ]
    }
   ],
   "source": [
    "# конфигурирование слоев нейросети\n",
    "model3 = Sequential()\n",
    "\n",
    "# слои нейросети отвественные за свертку и max-pooling\n",
    "model3.add(Conv2D(32, (3, 3), padding='same', input_shape=X_train.shape[1:]))\n",
    "model3.add(Activation('relu'))\n",
    "model3.add(Conv2D(32, (3, 3)))\n",
    "model3.add(Activation('relu'))\n",
    "model3.add(MaxPooling2D(pool_size=(2, 2)))\n",
    "model3.add(Dropout(0.25))\n",
    "\n",
    "model3.add(Conv2D(64, (3, 3), padding='same'))\n",
    "model3.add(Activation('relu'))\n",
    "model3.add(Conv2D(64, (3, 3)))\n",
    "model3.add(Activation('relu'))\n",
    "model3.add(MaxPooling2D(pool_size=(2, 2)))\n",
    "model3.add(Dropout(0.25))\n",
    "\n",
    "model3.add(Conv2D(64, (3, 3), padding='same'))\n",
    "model3.add(Activation('relu'))\n",
    "model3.add(Conv2D(64, (3, 3)))\n",
    "model3.add(Activation('relu'))\n",
    "model3.add(MaxPooling2D(pool_size=(2, 2)))\n",
    "model3.add(Dropout(0.25))\n",
    "\n",
    "\n",
    "# полносвязные слои нейронной сети\n",
    "model3.add(Flatten())\n",
    "model3.add(Dense(512))\n",
    "model3.add(Activation('relu'))\n",
    "model3.add(Dropout(0.5))\n",
    "model3.add(Dense(10))\n",
    "model3.add(Activation('softmax'))\n",
    "\n",
    "model3.summary()\n",
    "# компиляция модели\n",
    "model3.compile(loss='categorical_crossentropy',\n",
    "              optimizer='SGD',\n",
    "              metrics=['accuracy'])"
   ]
  },
  {
   "cell_type": "code",
   "execution_count": 24,
   "metadata": {},
   "outputs": [
    {
     "name": "stdout",
     "output_type": "stream",
     "text": [
      "Epoch 1/10\n",
      "98/98 [==============================] - 59s 588ms/step - loss: 2.3079 - accuracy: 0.0971 - val_loss: 2.3022 - val_accuracy: 0.1145\n",
      "Epoch 2/10\n",
      "98/98 [==============================] - 61s 622ms/step - loss: 2.3038 - accuracy: 0.0990 - val_loss: 2.3014 - val_accuracy: 0.1153\n",
      "Epoch 3/10\n",
      "98/98 [==============================] - 61s 623ms/step - loss: 2.3021 - accuracy: 0.1044 - val_loss: 2.3005 - val_accuracy: 0.1370\n",
      "Epoch 4/10\n",
      "98/98 [==============================] - 60s 612ms/step - loss: 2.3002 - accuracy: 0.1106 - val_loss: 2.2991 - val_accuracy: 0.1563\n",
      "Epoch 5/10\n",
      "98/98 [==============================] - 58s 594ms/step - loss: 2.2984 - accuracy: 0.1137 - val_loss: 2.2966 - val_accuracy: 0.1598\n",
      "Epoch 6/10\n",
      "98/98 [==============================] - 60s 606ms/step - loss: 2.2952 - accuracy: 0.1170 - val_loss: 2.2919 - val_accuracy: 0.1721\n",
      "Epoch 7/10\n",
      "98/98 [==============================] - 61s 618ms/step - loss: 2.2891 - accuracy: 0.1257 - val_loss: 2.2808 - val_accuracy: 0.1789\n",
      "Epoch 8/10\n",
      "98/98 [==============================] - 58s 596ms/step - loss: 2.2750 - accuracy: 0.1351 - val_loss: 2.2554 - val_accuracy: 0.1944\n",
      "Epoch 9/10\n",
      "98/98 [==============================] - 58s 595ms/step - loss: 2.2441 - accuracy: 0.1522 - val_loss: 2.2075 - val_accuracy: 0.2028\n",
      "Epoch 10/10\n",
      "98/98 [==============================] - 58s 595ms/step - loss: 2.2026 - accuracy: 0.1754 - val_loss: 2.1718 - val_accuracy: 0.2085\n"
     ]
    }
   ],
   "source": [
    "history_3 = model3.fit(X_train, y_train,\n",
    "                        batch_size=batch_size,\n",
    "                        epochs=epochs,\n",
    "                        validation_data=(X_test, y_test))    "
   ]
  },
  {
   "cell_type": "code",
   "execution_count": 25,
   "metadata": {},
   "outputs": [
    {
     "name": "stdout",
     "output_type": "stream",
     "text": [
      "1563/1563 [==============================] - 19s 12ms/step - loss: 2.1738 - accuracy: 0.2037\n",
      "313/313 [==============================] - 4s 12ms/step - loss: 2.1718 - accuracy: 0.2085\n",
      "train_loss: 2.173809766769409, train_accuracy: 0.2036599963903427\n",
      "test_loss: 2.1718368530273438, test_accuracy: 0.2084999978542328\n"
     ]
    }
   ],
   "source": [
    "# проверка работы обученной модели\n",
    "train_loss, train_m = model3.evaluate(X_train, y_train, verbose=1)\n",
    "test_loss, test_m = model3.evaluate(X_test, y_test, verbose=1)\n",
    "print(f'train_loss: {train_loss}, train_accuracy: {train_m}')\n",
    "print(f'test_loss: {test_loss}, test_accuracy: {test_m}')\n",
    "\n",
    "step.append(1)\n",
    "desc.append('More layers')\n",
    "train_acc.append(round(train_m,2))\n",
    "test_acc.append(round(test_m,2))\n"
   ]
  },
  {
   "cell_type": "code",
   "execution_count": 26,
   "metadata": {},
   "outputs": [
    {
     "name": "stdout",
     "output_type": "stream",
     "text": [
      "313/313 [==============================] - 5s 14ms/step - loss: 2.1718 - accuracy: 0.2085\n",
      "Test loss: 2.1718368530273438\n",
      "Test accuracy: 0.2084999978542328\n"
     ]
    },
    {
     "data": {
      "image/png": "[encoded data removed]",
      "text/plain": [
       "<Figure size 432x288 with 1 Axes>"
      ]
     },
     "metadata": {
      "needs_background": "light"
     },
     "output_type": "display_data"
    }
   ],
   "source": [
    "N = 11\n",
    "scores = model3.evaluate(X_test, y_test, verbose=1)\n",
    "print('Test loss:', scores[0])\n",
    "print('Test accuracy:', scores[1])\n",
    "\n",
    "y_p = model.predict(X_test[N:N+1])\n",
    "y_t = np.argmax(y_test[N:N+1], axis = 1 )\n",
    "y_i = np.argmax(y_p, axis = 1 )\n",
    "plt.imshow(X_test[N])\n",
    "plt.title(f'это : {classes[y_t[0]]} - опознан как : {classes[y_i[0]]}')\n",
    "plt.show()\n",
    "\n",
    "new_row = {'Sample':'CNN with more layers', 'Train':classes[y_t[0]], 'Test': classes[y_i[0]], \\\n",
    "           'Test loss':round(scores[0], 4), 'Test accuracy':round(scores[1], 4)}\n",
    "\n",
    "results = results.append(new_row, ignore_index=True)"
   ]
  },
  {
   "cell_type": "code",
   "execution_count": 27,
   "metadata": {},
   "outputs": [
    {
     "data": {
      "text/html": [
       "<div>\n",
       "<style scoped>\n",
       "    .dataframe tbody tr th:only-of-type {\n",
       "        vertical-align: middle;\n",
       "    }\n",
       "\n",
       "    .dataframe tbody tr th {\n",
       "        vertical-align: top;\n",
       "    }\n",
       "\n",
       "    .dataframe thead th {\n",
       "        text-align: right;\n",
       "    }\n",
       "</style>\n",
       "<table border=\"1\" class=\"dataframe\">\n",
       "  <thead>\n",
       "    <tr style=\"text-align: right;\">\n",
       "      <th></th>\n",
       "      <th>Sample</th>\n",
       "      <th>Train</th>\n",
       "      <th>Test</th>\n",
       "      <th>Test loss</th>\n",
       "      <th>Test accuracy</th>\n",
       "    </tr>\n",
       "  </thead>\n",
       "  <tbody>\n",
       "    <tr>\n",
       "      <th>0</th>\n",
       "      <td>CNN Baseline</td>\n",
       "      <td>грузовик</td>\n",
       "      <td>грузовик</td>\n",
       "      <td>2.0628</td>\n",
       "      <td>0.2809</td>\n",
       "    </tr>\n",
       "    <tr>\n",
       "      <th>1</th>\n",
       "      <td>CNN with more filters</td>\n",
       "      <td>грузовик</td>\n",
       "      <td>грузовик</td>\n",
       "      <td>1.7196</td>\n",
       "      <td>0.3907</td>\n",
       "    </tr>\n",
       "    <tr>\n",
       "      <th>2</th>\n",
       "      <td>CNN with more layers</td>\n",
       "      <td>грузовик</td>\n",
       "      <td>грузовик</td>\n",
       "      <td>2.1718</td>\n",
       "      <td>0.2085</td>\n",
       "    </tr>\n",
       "  </tbody>\n",
       "</table>\n",
       "</div>"
      ],
      "text/plain": [
       "                  Sample     Train      Test  Test loss  Test accuracy\n",
       "0           CNN Baseline  грузовик  грузовик     2.0628         0.2809\n",
       "1  CNN with more filters  грузовик  грузовик     1.7196         0.3907\n",
       "2   CNN with more layers  грузовик  грузовик     2.1718         0.2085"
      ]
     },
     "execution_count": 27,
     "metadata": {},
     "output_type": "execute_result"
    }
   ],
   "source": [
    "results"
   ]
  },
  {
   "cell_type": "markdown",
   "metadata": {},
   "source": [
    "### 4.\\* Сравнить с точностью полносвязной сети для этой выборки."
   ]
  },
  {
   "cell_type": "code",
   "execution_count": 28,
   "metadata": {},
   "outputs": [
    {
     "name": "stdout",
     "output_type": "stream",
     "text": [
      "Model: \"sequential_4\"\n",
      "_________________________________________________________________\n",
      "Layer (type)                 Output Shape              Param #   \n",
      "=================================================================\n",
      "flatten_4 (Flatten)          (None, 3072)              0         \n",
      "_________________________________________________________________\n",
      "dense_14 (Dense)             (None, 512)               1573376   \n",
      "_________________________________________________________________\n",
      "activation_18 (Activation)   (None, 512)               0         \n",
      "_________________________________________________________________\n",
      "dropout_6 (Dropout)          (None, 512)               0         \n",
      "_________________________________________________________________\n",
      "dense_15 (Dense)             (None, 10)                5130      \n",
      "_________________________________________________________________\n",
      "activation_19 (Activation)   (None, 10)                0         \n",
      "=================================================================\n",
      "Total params: 1,578,506\n",
      "Trainable params: 1,578,506\n",
      "Non-trainable params: 0\n",
      "_________________________________________________________________\n"
     ]
    }
   ],
   "source": [
    "# конфигурирование слоев нейросети\n",
    "model4 = Sequential()\n",
    "\n",
    "# полносвязные слои нейронной сети\n",
    "model4.add(Flatten(input_shape=X_train.shape[1:]))\n",
    "model4.add(Dense(512))\n",
    "model4.add(Activation('relu'))\n",
    "model4.add(Dropout(0.5))\n",
    "model4.add(Dense(10))\n",
    "model4.add(Activation('softmax'))\n",
    "\n",
    "model4.summary()\n",
    "# компиляция модели\n",
    "model4.compile(loss='categorical_crossentropy',\n",
    "              optimizer='SGD',\n",
    "              metrics=['accuracy'])"
   ]
  },
  {
   "cell_type": "code",
   "execution_count": 29,
   "metadata": {},
   "outputs": [
    {
     "name": "stdout",
     "output_type": "stream",
     "text": [
      "Epoch 1/10\n",
      "98/98 [==============================] - 3s 23ms/step - loss: 2.3055 - accuracy: 0.1616 - val_loss: 2.0218 - val_accuracy: 0.3005\n",
      "Epoch 2/10\n",
      "98/98 [==============================] - 2s 21ms/step - loss: 2.0443 - accuracy: 0.2657 - val_loss: 1.9436 - val_accuracy: 0.3289\n",
      "Epoch 3/10\n",
      "98/98 [==============================] - 3s 27ms/step - loss: 1.9755 - accuracy: 0.2974 - val_loss: 1.8960 - val_accuracy: 0.3495\n",
      "Epoch 4/10\n",
      "98/98 [==============================] - 2s 21ms/step - loss: 1.9318 - accuracy: 0.3124 - val_loss: 1.8607 - val_accuracy: 0.3646\n",
      "Epoch 5/10\n",
      "98/98 [==============================] - 2s 21ms/step - loss: 1.9093 - accuracy: 0.3279 - val_loss: 1.8382 - val_accuracy: 0.3642\n",
      "Epoch 6/10\n",
      "98/98 [==============================] - 3s 27ms/step - loss: 1.8779 - accuracy: 0.3345 - val_loss: 1.8160 - val_accuracy: 0.3750\n",
      "Epoch 7/10\n",
      "98/98 [==============================] - 2s 21ms/step - loss: 1.8563 - accuracy: 0.3456 - val_loss: 1.7987 - val_accuracy: 0.3791\n",
      "Epoch 8/10\n",
      "98/98 [==============================] - 2s 22ms/step - loss: 1.8490 - accuracy: 0.3501 - val_loss: 1.7849 - val_accuracy: 0.3844 \n",
      "Epoch 9/10\n",
      "98/98 [==============================] - 2s 21ms/step - loss: 1.8247 - accuracy: 0.3630 - val_loss: 1.7696 - val_accuracy: 0.3936\n",
      "Epoch 10/10\n",
      "98/98 [==============================] - 3s 26ms/step - loss: 1.8127 - accuracy: 0.3613 - val_loss: 1.7566 - val_accuracy: 0.4015\n"
     ]
    }
   ],
   "source": [
    "history_4 = model4.fit(X_train, y_train,\n",
    "                        batch_size=batch_size,\n",
    "                        epochs=epochs,\n",
    "                        validation_data=(X_test, y_test))"
   ]
  },
  {
   "cell_type": "code",
   "execution_count": 30,
   "metadata": {},
   "outputs": [
    {
     "name": "stdout",
     "output_type": "stream",
     "text": [
      "1563/1563 - 2s - loss: 1.7513 - accuracy: 0.4011\n",
      "313/313 - 0s - loss: 1.7566 - accuracy: 0.4015\n",
      "train_loss: 1.751306414604187, train_accuracy: 0.40105998516082764\n",
      "test_loss: 1.7566466331481934, test_accuracy: 0.40149998664855957\n"
     ]
    }
   ],
   "source": [
    "# проверка работы обученной модели\n",
    "train_loss, train_m = model4.evaluate(X_train, y_train, verbose=2)\n",
    "test_loss, test_m = model4.evaluate(X_test, y_test, verbose=2)\n",
    "print(f'train_loss: {train_loss}, train_accuracy: {train_m}')\n",
    "print(f'test_loss: {test_loss}, test_accuracy: {test_m}')\n",
    "\n",
    "step.append(1)\n",
    "desc.append('Fully connected networks')\n",
    "train_acc.append(round(train_m,2))\n",
    "test_acc.append(round(test_m,2))\n"
   ]
  },
  {
   "cell_type": "code",
   "execution_count": 31,
   "metadata": {},
   "outputs": [
    {
     "name": "stdout",
     "output_type": "stream",
     "text": [
      "313/313 [==============================] - 1s 2ms/step - loss: 1.7566 - accuracy: 0.4015\n",
      "Test loss: 1.7566466331481934\n",
      "Test accuracy: 0.40149998664855957\n"
     ]
    },
    {
     "data": {
      "image/png": "[encoded data removed]",
      "text/plain": [
       "<Figure size 432x288 with 1 Axes>"
      ]
     },
     "metadata": {
      "needs_background": "light"
     },
     "output_type": "display_data"
    }
   ],
   "source": [
    "N = 11\n",
    "scores = model4.evaluate(X_test, y_test, verbose=1)\n",
    "print('Test loss:', scores[0])\n",
    "print('Test accuracy:', scores[1])\n",
    "\n",
    "y_p = model.predict(X_test[N:N+1])\n",
    "y_t = np.argmax(y_test[N:N+1], axis = 1 )\n",
    "y_i = np.argmax(y_p, axis = 1 )\n",
    "plt.imshow(X_test[N])\n",
    "plt.title(f'это : {classes[y_t[0]]} - опознан как : {classes[y_i[0]]}')\n",
    "plt.show()\n",
    "\n",
    "new_row = {'Sample':'CNN with fully connected networks', 'Train':classes[y_t[0]], 'Test': classes[y_i[0]], \\\n",
    "           'Test loss':round(scores[0], 4), 'Test accuracy':round(scores[1], 4)}\n",
    "\n",
    "results = results.append(new_row, ignore_index=True)"
   ]
  },
  {
   "cell_type": "code",
   "execution_count": 32,
   "metadata": {},
   "outputs": [
    {
     "data": {
      "text/html": [
       "<div>\n",
       "<style scoped>\n",
       "    .dataframe tbody tr th:only-of-type {\n",
       "        vertical-align: middle;\n",
       "    }\n",
       "\n",
       "    .dataframe tbody tr th {\n",
       "        vertical-align: top;\n",
       "    }\n",
       "\n",
       "    .dataframe thead th {\n",
       "        text-align: right;\n",
       "    }\n",
       "</style>\n",
       "<table border=\"1\" class=\"dataframe\">\n",
       "  <thead>\n",
       "    <tr style=\"text-align: right;\">\n",
       "      <th></th>\n",
       "      <th>Sample</th>\n",
       "      <th>Train</th>\n",
       "      <th>Test</th>\n",
       "      <th>Test loss</th>\n",
       "      <th>Test accuracy</th>\n",
       "    </tr>\n",
       "  </thead>\n",
       "  <tbody>\n",
       "    <tr>\n",
       "      <th>0</th>\n",
       "      <td>CNN Baseline</td>\n",
       "      <td>грузовик</td>\n",
       "      <td>грузовик</td>\n",
       "      <td>2.0628</td>\n",
       "      <td>0.2809</td>\n",
       "    </tr>\n",
       "    <tr>\n",
       "      <th>1</th>\n",
       "      <td>CNN with more filters</td>\n",
       "      <td>грузовик</td>\n",
       "      <td>грузовик</td>\n",
       "      <td>1.7196</td>\n",
       "      <td>0.3907</td>\n",
       "    </tr>\n",
       "    <tr>\n",
       "      <th>2</th>\n",
       "      <td>CNN with more layers</td>\n",
       "      <td>грузовик</td>\n",
       "      <td>грузовик</td>\n",
       "      <td>2.1718</td>\n",
       "      <td>0.2085</td>\n",
       "    </tr>\n",
       "    <tr>\n",
       "      <th>3</th>\n",
       "      <td>CNN with fully connected networks</td>\n",
       "      <td>грузовик</td>\n",
       "      <td>грузовик</td>\n",
       "      <td>1.7566</td>\n",
       "      <td>0.4015</td>\n",
       "    </tr>\n",
       "  </tbody>\n",
       "</table>\n",
       "</div>"
      ],
      "text/plain": [
       "                              Sample     Train      Test  Test loss  \\\n",
       "0                       CNN Baseline  грузовик  грузовик     2.0628   \n",
       "1              CNN with more filters  грузовик  грузовик     1.7196   \n",
       "2               CNN with more layers  грузовик  грузовик     2.1718   \n",
       "3  CNN with fully connected networks  грузовик  грузовик     1.7566   \n",
       "\n",
       "   Test accuracy  \n",
       "0         0.2809  \n",
       "1         0.3907  \n",
       "2         0.2085  \n",
       "3         0.4015  "
      ]
     },
     "execution_count": 32,
     "metadata": {},
     "output_type": "execute_result"
    }
   ],
   "source": [
    "results"
   ]
  },
  {
   "cell_type": "markdown",
   "metadata": {},
   "source": [
    "## Выводы:\n",
    "\n",
    "**Использование модели с увеличением фильтров увеличил тестовую точность. Использование модели с большим количеством слоёв снизил тестовую точность, а использование полносвязной сети показал максимальную тестовую точность.**"
   ]
  },
  {
   "cell_type": "code",
   "execution_count": null,
   "metadata": {},
   "outputs": [],
   "source": []
  }
 ],
 "metadata": {
  "accelerator": "GPU",
  "colab": {
   "collapsed_sections": [],
   "name": "Web3.ipynb",
   "provenance": []
  },
  "kernelspec": {
   "display_name": "Python 3",
   "language": "python",
   "name": "python3"
  },
  "language_info": {
   "codemirror_mode": {
    "name": "ipython",
    "version": 3
   },
   "file_extension": ".py",
   "mimetype": "text/x-python",
   "name": "python",
   "nbconvert_exporter": "python",
   "pygments_lexer": "ipython3",
   "version": "3.8.5"
  }
 },
 "nbformat": 4,
 "nbformat_minor": 1
}
