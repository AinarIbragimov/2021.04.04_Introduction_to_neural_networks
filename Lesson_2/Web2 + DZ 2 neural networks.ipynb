{
 "cells": [
  {
   "cell_type": "markdown",
   "metadata": {
    "id": "XvhEhpGm9U8z"
   },
   "source": [
    "# Введение в искусственные нейронные сети\n",
    "# Урок 2. Keras"
   ]
  },
  {
   "cell_type": "markdown",
   "metadata": {
    "id": "LmKjkEH-9U84"
   },
   "source": [
    "## Содержание методического пособия:\n",
    "\n",
    "\n",
    "<ol>\n",
    "<li>Способы создания нейросетей</li>\n",
    "<li>Что такое Keras</li>\n",
    "<li>Основы синтаксиса</li>\n",
    "<li>Простая нейросеть на Keras</li>\n",
    "<li>Оптимизаторы</li>\n",
    "<li>Callback'и</li>\n",
    "</ol>"
   ]
  },
  {
   "cell_type": "markdown",
   "metadata": {
    "id": "9gV6aaON9U86"
   },
   "source": [
    "## Способы создания нейросетей\n",
    "\n",
    "Нейросети это математические модели. Программируя на любом языке можно решать задачи, связанные с математикой. Однако встает вопрос, какой язык подойдет для этого больше? Не считая учебных нейросетей, нейросети как правило работают с большим количеством данных. Поэтому, чтобы обучение нейросетей происходило с приемлимой скоростью нужно использовать быстрый язык. Например Си. Но так как язык Си - это язык с низким уровнем абстракции, то программировать и модифицировать на нем нейросети было бы крайне затруднительно. \n",
    "\n",
    "Хорошо может подойти для этих целей язык Python. Так как он с одной стороны имеет высокий уровень абстракции, с другой стороны операции с массивами данных могут сделать его библиотеки, написанные на Си. Таким способом мы пользовались на первом уроке. Однако, если писать нейросети таким образом, то будет много повторяющегося кода, поскольку архитектуры нейросетей остаются одинаковыми и, зачастую, у них только меняются параметры. Кроме этого нам может понадобиться хорошо знать архитектуры самых разных нейронных сетей, чтобы реализовать их вручную. Работа таким образом затруднительна для людей, не имеющих достаточной подготовки, а для имеющих может быть наоборот рутиной.\n",
    "\n",
    "Существуют фреймворки для созданий нейронных сетей. Они являются, пожалуй основным рабочим способом создания нейронных сетей. Вот их неполный перечень:\n",
    "\n",
    "1. TensorFlow\n",
    "2. PyTorch\n",
    "3. Keras\n",
    "4. Microsoft Cognitive Toolkit (CNTK)\n",
    "5. Caffe\n",
    "\n",
    "<img src='https://drive.google.com/uc?export=view&id=1Udb8e5TQCRgaaiSje8sCks8M2Rw-UcpV'>"
   ]
  },
  {
   "cell_type": "markdown",
   "metadata": {
    "id": "lJzIJYo-JXOW"
   },
   "source": [
    "Все эти инструменты отранжированы в порядке возрастания уровня абстракции. Соответственно, говоря о плюсах и минусах того или иного инструмента, мы должны понимать, в принципе плюсы и минусы повышения уровня абстракции. Чем он выше, тем меньше производительность, и тем меньше его гибкость и, наоборот.\n",
    "\n",
    "Самый популярный фреймворк для создания нейросетей TensorFlow. Самый популярный для обучения - Keras. На этом уроке мы изучим с вами Keras, а на следующим TensorFlow. Также стоит отметить, что эти фреймворки взаимосвязаны - Keras как правило работает поверх TensorFlow, а сам TensorFlow позволяет пользовать средствами Keras при необходимости."
   ]
  },
  {
   "cell_type": "markdown",
   "metadata": {
    "id": "b1uUklH29U88"
   },
   "source": [
    "## Что такое Keras\n",
    "\n",
    "Keras появился относительно недавно - в 2015 г. Но за это время стал одним из самых популярных фреймворков для создания нейросетей и фактически стандартом для использования его начинающими.\n",
    "\n",
    "В чем причина его популярности? Keras позволяет создавать на высоком уровне абстракции. Т.е. не нужно вручную реализовать с помощью математикаподобного кода те или иные элементы нейронной сети. Мы можем оперировать слоями, количеством нейронов в них, выбором функции активации и т.д. В то же время keras содержит инструментарий для всего того, что может понадобиться для работы - например ряд встроенных датасетов, возможность обрабатывать изображения.\n",
    "\n",
    "В техническом плане Keras это оболочка над инструментами меньшей степени абстракции. На выбор он может работать поверх TensorFlow, Microsoft Cognitive Toolkit, Theano.\n",
    "\n",
    "Keras как и любой высокоабстрактный инструмент имеет изъяны в качестве меньшей гибкости и производительности, чем тот же tensorflow.\n",
    "\n",
    "Стоит также отметить, что Google официально поддерживает Keras, его автор François Chollet, является сотрудником Google. TensorFlow сам в свою очередь позволяет использовать возможности Keras, т.е. в нем заложена возможность переходить на более высокой уровень абстракции.\n",
    "\n",
    "В данном уроке мы с вами рассмотрим пример обучения нейронной сети с помощью Keras. Но прежде давайте посмотрим на основы синтаксиса Keras и стандартные задачи, которые нужно выполнить при обучении нейронной сети."
   ]
  },
  {
   "cell_type": "markdown",
   "metadata": {
    "id": "iRJ_I6hu9U8-"
   },
   "source": [
    "## Основы синтаксиса"
   ]
  },
  {
   "cell_type": "markdown",
   "metadata": {
    "id": "Sars-tTz9U9A"
   },
   "source": [
    "**Установка и работа с данными**"
   ]
  },
  {
   "cell_type": "markdown",
   "metadata": {
    "id": "8w3sHXOV9U9B"
   },
   "source": [
    "Для начала необходимо установить keras."
   ]
  },
  {
   "cell_type": "code",
   "execution_count": 1,
   "metadata": {
    "id": "05hfRCv09U9D",
    "scrolled": true
   },
   "outputs": [],
   "source": [
    "# !pip install keras"
   ]
  },
  {
   "cell_type": "code",
   "execution_count": 2,
   "metadata": {},
   "outputs": [],
   "source": [
    "# !pip install tensorflow-gpu"
   ]
  },
  {
   "cell_type": "code",
   "execution_count": 3,
   "metadata": {
    "colab": {
     "base_uri": "https://localhost:8080/",
     "height": 35
    },
    "id": "zR9dvBWLJdfa",
    "outputId": "bacd931f-6699-4028-ae1e-2dc077a2eb1e"
   },
   "outputs": [
    {
     "data": {
      "text/plain": [
       "'2.4.3'"
      ]
     },
     "execution_count": 3,
     "metadata": {},
     "output_type": "execute_result"
    }
   ],
   "source": [
    "import keras\n",
    "keras.__version__"
   ]
  },
  {
   "cell_type": "code",
   "execution_count": 4,
   "metadata": {
    "colab": {
     "base_uri": "https://localhost:8080/",
     "height": 35
    },
    "id": "3fwDFMMPJDFE",
    "outputId": "20fd5d40-936e-425f-fd32-099f3337618a"
   },
   "outputs": [
    {
     "data": {
      "text/plain": [
       "'tensorflow'"
      ]
     },
     "execution_count": 4,
     "metadata": {},
     "output_type": "execute_result"
    }
   ],
   "source": [
    "keras.backend.backend()"
   ]
  },
  {
   "cell_type": "markdown",
   "metadata": {
    "id": "EAwWzAS29U9F"
   },
   "source": [
    "Давайте попробуем получить датасет mnist и проанализировать его содержимое."
   ]
  },
  {
   "cell_type": "code",
   "execution_count": 5,
   "metadata": {
    "colab": {
     "base_uri": "https://localhost:8080/"
    },
    "id": "p6MGnz8EJoaW",
    "outputId": "f9c54fab-eae5-42f5-874c-0383a00664c1"
   },
   "outputs": [
    {
     "name": "stdout",
     "output_type": "stream",
     "text": [
      "(60000, 28, 28) (10000, 28, 28)\n",
      "(60000,)\n"
     ]
    }
   ],
   "source": [
    "import matplotlib.pyplot as plt\n",
    "\n",
    "from keras.datasets import mnist\n",
    "import numpy as np\n",
    "\n",
    "\n",
    "(X_train, y_train_labels), (X_test, y_test_labels) = mnist.load_data()\n",
    "\n",
    "print(X_train.shape, X_test.shape)\n",
    "print(y_train_labels.shape)"
   ]
  },
  {
   "cell_type": "code",
   "execution_count": 6,
   "metadata": {
    "colab": {
     "base_uri": "https://localhost:8080/",
     "height": 283
    },
    "id": "lMcBd9o8LmLH",
    "outputId": "40a77738-ae7d-401f-932b-85719fd745b3"
   },
   "outputs": [
    {
     "name": "stdout",
     "output_type": "stream",
     "text": [
      "Label is 1\n"
     ]
    },
    {
     "data": {
      "image/png": "[encoded data removed]",
      "text/plain": [
       "<Figure size 432x288 with 1 Axes>"
      ]
     },
     "metadata": {
      "needs_background": "light"
     },
     "output_type": "display_data"
    }
   ],
   "source": [
    "ind = np.random.randint(0, X_train.shape[0])\n",
    "plt.imshow(X_train[ind], cmap='gray')\n",
    "print(f'Label is {y_train_labels[ind]}')"
   ]
  },
  {
   "cell_type": "markdown",
   "metadata": {
    "id": "DZiKILQd9U9L"
   },
   "source": [
    "В нашем случае наш тренировочный датасет состоит из 60 000 изображений и тестовый из 10 000 и они поделены по умолчанию.\n",
    "\n",
    "Нам теперь нужно конверитировать значения пикселей из вида от 0 до 255 в набор значений от 0 до 1.\n",
    "\n",
    "<img src='https://slideplayer.com/slide/13293044/79/images/9/Data+Normalization+Normalizing+the+data+make+neural+network+easier+to+learn..jpg'>\n",
    "\n"
   ]
  },
  {
   "cell_type": "code",
   "execution_count": 7,
   "metadata": {
    "colab": {
     "base_uri": "https://localhost:8080/"
    },
    "id": "WBuaTmSTKW-V",
    "outputId": "ef9b01d4-6716-4ddf-d9a8-10379e678d26"
   },
   "outputs": [
    {
     "data": {
      "text/plain": [
       "(0, 255)"
      ]
     },
     "execution_count": 7,
     "metadata": {},
     "output_type": "execute_result"
    }
   ],
   "source": [
    "X_train.min(), X_train.max()"
   ]
  },
  {
   "cell_type": "code",
   "execution_count": 8,
   "metadata": {
    "colab": {
     "base_uri": "https://localhost:8080/"
    },
    "id": "M6s8m-_8MEwx",
    "outputId": "9df22563-3fa0-46c0-a684-91d3588f16b6"
   },
   "outputs": [
    {
     "data": {
      "text/plain": [
       "(0.0, 1.0)"
      ]
     },
     "execution_count": 8,
     "metadata": {},
     "output_type": "execute_result"
    }
   ],
   "source": [
    "# Нормировка\n",
    "X_train = X_train / 255.0\n",
    "X_test = X_test / 255.0\n",
    "X_train.min(), X_train.max()"
   ]
  },
  {
   "cell_type": "code",
   "execution_count": 9,
   "metadata": {
    "colab": {
     "base_uri": "https://localhost:8080/"
    },
    "id": "L4loJteUNIAp",
    "outputId": "3a747dd2-de8d-4e1c-84b8-8ed6dca5f7d1"
   },
   "outputs": [
    {
     "data": {
      "text/plain": [
       "((60000, 784), (10000, 784))"
      ]
     },
     "execution_count": 9,
     "metadata": {},
     "output_type": "execute_result"
    }
   ],
   "source": [
    "# Вытягивание признаков\n",
    "X_train = X_train.reshape((-1, 28 * 28))\n",
    "X_test = X_test.reshape((-1, 28 * 28))\n",
    "\n",
    "X_train.shape, X_test.shape"
   ]
  },
  {
   "cell_type": "markdown",
   "metadata": {
    "id": "jnUt9U3_9U9x"
   },
   "source": [
    "## Простая нейросеть на Keras"
   ]
  },
  {
   "cell_type": "markdown",
   "metadata": {
    "id": "Y6btW5Oz9U9W"
   },
   "source": [
    "### **Создание модели**"
   ]
  },
  {
   "cell_type": "markdown",
   "metadata": {
    "id": "jgVdsO619U9Y"
   },
   "source": [
    "После первичной подготовки данных дальше как правило следует создание модели нейронной сети, которая будет учиться на этих данных.\n",
    "\n",
    "Ниже типичный код учебной нейросети."
   ]
  },
  {
   "cell_type": "code",
   "execution_count": 10,
   "metadata": {
    "colab": {
     "base_uri": "https://localhost:8080/"
    },
    "id": "n4d7k7H6ScCz",
    "outputId": "9aa178a8-02b7-4155-8237-a18d2a13d57b"
   },
   "outputs": [
    {
     "name": "stdout",
     "output_type": "stream",
     "text": [
      "Model: \"sequential\"\n",
      "_________________________________________________________________\n",
      "Layer (type)                 Output Shape              Param #   \n",
      "=================================================================\n",
      "dense (Dense)                (None, 5)                 55        \n",
      "_________________________________________________________________\n",
      "dense_1 (Dense)              (None, 1)                 6         \n",
      "=================================================================\n",
      "Total params: 61\n",
      "Trainable params: 61\n",
      "Non-trainable params: 0\n",
      "_________________________________________________________________\n"
     ]
    }
   ],
   "source": [
    "from keras.layers import Dense\n",
    "from keras.models import Sequential\n",
    "\n",
    "\n",
    "# define the keras model\n",
    "model = Sequential()\n",
    "model.add(Dense(5, input_shape=(10,), activation='relu'))\n",
    "model.add(Dense(1, activation='sigmoid'))\n",
    "\n",
    "model.summary()"
   ]
  },
  {
   "cell_type": "markdown",
   "metadata": {
    "id": "lb6IkKpN9U9c"
   },
   "source": [
    "Давайте разберемся с теми командами, которые нам встетились в этом коде.\n",
    "\n",
    "Sequential - позволяет создать нейросети, где слои строятся последовательно. Сигнал в них передается от одного слоя к другому. В противовес этой разновидности есть нейросети, где сигнал может не сразу передаваться в следующий слой. Такие нейросети мы разберем в следующих уроках.\n",
    "\n",
    "Dense - позволяет каждому нейрону быть связанному с другим нейронном. В противовес этому может быть необходимость не делать так много связей. Неполносвязнные архитектуры мы также разберем на этом курсе, они основа компьютерного зрения.\n",
    "\n",
    "Цифры 5, 1 обозначают количество нейронов в каждом конкретном слое\n",
    "\n",
    "Activation - позволяет определить формулу по которой будет активироваться нейрон."
   ]
  },
  {
   "cell_type": "markdown",
   "metadata": {
    "id": "x-EtjCLMSijt"
   },
   "source": [
    "Давайте попробуем обучить нейросеть различать рукописные цифры."
   ]
  },
  {
   "cell_type": "code",
   "execution_count": 11,
   "metadata": {
    "colab": {
     "base_uri": "https://localhost:8080/"
    },
    "id": "aB40PpZ5Nu7v",
    "outputId": "7faf0e57-378e-459e-b940-232701f8cef6"
   },
   "outputs": [
    {
     "name": "stdout",
     "output_type": "stream",
     "text": [
      "Model: \"sequential_1\"\n",
      "_________________________________________________________________\n",
      "Layer (type)                 Output Shape              Param #   \n",
      "=================================================================\n",
      "dense_2 (Dense)              (None, 64)                50240     \n",
      "_________________________________________________________________\n",
      "dense_3 (Dense)              (None, 32)                2080      \n",
      "_________________________________________________________________\n",
      "dense_4 (Dense)              (None, 10)                330       \n",
      "=================================================================\n",
      "Total params: 52,650\n",
      "Trainable params: 52,650\n",
      "Non-trainable params: 0\n",
      "_________________________________________________________________\n"
     ]
    }
   ],
   "source": [
    "model = Sequential()\n",
    "model.add(Dense(64, input_shape=(28 * 28,), activation='relu'))\n",
    "model.add(Dense(32, activation='relu'))\n",
    "model.add(Dense(10, activation='sigmoid'))\n",
    "\n",
    "model.summary()"
   ]
  },
  {
   "cell_type": "code",
   "execution_count": 12,
   "metadata": {
    "colab": {
     "base_uri": "https://localhost:8080/"
    },
    "id": "krP76FRIRfnW",
    "outputId": "fa77069d-cdb2-4bf3-8590-cf92b9c0e948"
   },
   "outputs": [
    {
     "name": "stdout",
     "output_type": "stream",
     "text": [
      "Model: \"sequential_2\"\n",
      "_________________________________________________________________\n",
      "Layer (type)                 Output Shape              Param #   \n",
      "=================================================================\n",
      "dense_5 (Dense)              (None, 64)                50240     \n",
      "_________________________________________________________________\n",
      "dense_6 (Dense)              (None, 32)                2080      \n",
      "_________________________________________________________________\n",
      "dense_7 (Dense)              (None, 10)                330       \n",
      "=================================================================\n",
      "Total params: 52,650\n",
      "Trainable params: 52,650\n",
      "Non-trainable params: 0\n",
      "_________________________________________________________________\n"
     ]
    }
   ],
   "source": [
    "# is the same\n",
    "model = Sequential([\n",
    "    Dense(64, input_shape=(28 * 28,), activation='relu'),\n",
    "    Dense(32, activation='relu'),\n",
    "    Dense(10, activation='sigmoid')\n",
    "])\n",
    "\n",
    "model.summary()"
   ]
  },
  {
   "cell_type": "code",
   "execution_count": 13,
   "metadata": {
    "colab": {
     "base_uri": "https://localhost:8080/",
     "height": 369
    },
    "id": "E3fc6f4tR0T2",
    "outputId": "62e79fbc-fd1f-4665-dcb8-1c8140ca14a6"
   },
   "outputs": [
    {
     "name": "stdout",
     "output_type": "stream",
     "text": [
      "('Failed to import pydot. You must `pip install pydot` and install graphviz (https://graphviz.gitlab.io/download/), ', 'for `pydotprint` to work.')\n"
     ]
    }
   ],
   "source": [
    "from keras.utils import plot_model\n",
    "\n",
    "plot_model(model)"
   ]
  },
  {
   "cell_type": "code",
   "execution_count": 14,
   "metadata": {
    "colab": {
     "base_uri": "https://localhost:8080/"
    },
    "id": "nC-XItTxSB0p",
    "outputId": "85a15f84-6369-4d4b-fda0-90a3826691ac"
   },
   "outputs": [
    {
     "data": {
      "text/plain": [
       "{'name': 'sequential_2',\n",
       " 'layers': [{'class_name': 'InputLayer',\n",
       "   'config': {'batch_input_shape': (None, 784),\n",
       "    'dtype': 'float32',\n",
       "    'sparse': False,\n",
       "    'ragged': False,\n",
       "    'name': 'dense_5_input'}},\n",
       "  {'class_name': 'Dense',\n",
       "   'config': {'name': 'dense_5',\n",
       "    'trainable': True,\n",
       "    'batch_input_shape': (None, 784),\n",
       "    'dtype': 'float32',\n",
       "    'units': 64,\n",
       "    'activation': 'relu',\n",
       "    'use_bias': True,\n",
       "    'kernel_initializer': {'class_name': 'GlorotUniform',\n",
       "     'config': {'seed': None}},\n",
       "    'bias_initializer': {'class_name': 'Zeros', 'config': {}},\n",
       "    'kernel_regularizer': None,\n",
       "    'bias_regularizer': None,\n",
       "    'activity_regularizer': None,\n",
       "    'kernel_constraint': None,\n",
       "    'bias_constraint': None}},\n",
       "  {'class_name': 'Dense',\n",
       "   'config': {'name': 'dense_6',\n",
       "    'trainable': True,\n",
       "    'dtype': 'float32',\n",
       "    'units': 32,\n",
       "    'activation': 'relu',\n",
       "    'use_bias': True,\n",
       "    'kernel_initializer': {'class_name': 'GlorotUniform',\n",
       "     'config': {'seed': None}},\n",
       "    'bias_initializer': {'class_name': 'Zeros', 'config': {}},\n",
       "    'kernel_regularizer': None,\n",
       "    'bias_regularizer': None,\n",
       "    'activity_regularizer': None,\n",
       "    'kernel_constraint': None,\n",
       "    'bias_constraint': None}},\n",
       "  {'class_name': 'Dense',\n",
       "   'config': {'name': 'dense_7',\n",
       "    'trainable': True,\n",
       "    'dtype': 'float32',\n",
       "    'units': 10,\n",
       "    'activation': 'sigmoid',\n",
       "    'use_bias': True,\n",
       "    'kernel_initializer': {'class_name': 'GlorotUniform',\n",
       "     'config': {'seed': None}},\n",
       "    'bias_initializer': {'class_name': 'Zeros', 'config': {}},\n",
       "    'kernel_regularizer': None,\n",
       "    'bias_regularizer': None,\n",
       "    'activity_regularizer': None,\n",
       "    'kernel_constraint': None,\n",
       "    'bias_constraint': None}}]}"
      ]
     },
     "execution_count": 14,
     "metadata": {},
     "output_type": "execute_result"
    }
   ],
   "source": [
    "config = model.get_config()\n",
    "config"
   ]
  },
  {
   "cell_type": "code",
   "execution_count": 15,
   "metadata": {
    "colab": {
     "base_uri": "https://localhost:8080/"
    },
    "id": "W8AWxvh-JL2e",
    "outputId": "210ad421-fcfc-4cc8-cb9b-d95a226e915c"
   },
   "outputs": [
    {
     "name": "stdout",
     "output_type": "stream",
     "text": [
      "Model: \"sequential_3\"\n",
      "_________________________________________________________________\n",
      "Layer (type)                 Output Shape              Param #   \n",
      "=================================================================\n",
      "dense_8 (Dense)              (None, 6)                 4710      \n",
      "_________________________________________________________________\n",
      "dense_9 (Dense)              (None, 1)                 7         \n",
      "=================================================================\n",
      "Total params: 4,717\n",
      "Trainable params: 4,717\n",
      "Non-trainable params: 0\n",
      "_________________________________________________________________\n"
     ]
    }
   ],
   "source": [
    "model = Sequential([\n",
    "    Dense(6, input_shape=(28 * 28,), activation='relu'),\n",
    "    Dense(1, activation='sigmoid')\n",
    "])\n",
    "\n",
    "model.summary()"
   ]
  },
  {
   "cell_type": "code",
   "execution_count": 16,
   "metadata": {
    "colab": {
     "base_uri": "https://localhost:8080/"
    },
    "id": "shppTOWBJCrZ",
    "outputId": "9cd4dfe9-e0ea-4132-8f83-e73d0865b03e"
   },
   "outputs": [
    {
     "name": "stdout",
     "output_type": "stream",
     "text": [
      "Model: \"sequential_2\"\n",
      "_________________________________________________________________\n",
      "Layer (type)                 Output Shape              Param #   \n",
      "=================================================================\n",
      "dense_5 (Dense)              (None, 64)                50240     \n",
      "_________________________________________________________________\n",
      "dense_6 (Dense)              (None, 32)                2080      \n",
      "_________________________________________________________________\n",
      "dense_7 (Dense)              (None, 10)                330       \n",
      "=================================================================\n",
      "Total params: 52,650\n",
      "Trainable params: 52,650\n",
      "Non-trainable params: 0\n",
      "_________________________________________________________________\n"
     ]
    }
   ],
   "source": [
    "model = model.from_config(config)\n",
    "model.summary()"
   ]
  },
  {
   "cell_type": "markdown",
   "metadata": {
    "id": "iVWaIK2l9U9e"
   },
   "source": [
    "### **Компиляция модели**\n",
    "\n",
    "На этапе компиляции модель с заданными параметрами ранее создается. Вот типичный учебный пример:"
   ]
  },
  {
   "cell_type": "code",
   "execution_count": 17,
   "metadata": {
    "id": "MInwRm_7OcYJ"
   },
   "outputs": [],
   "source": [
    "model.compile(loss='categorical_crossentropy', optimizer='SGD', metrics=['accuracy'])"
   ]
  },
  {
   "cell_type": "markdown",
   "metadata": {
    "id": "IDbetrHA9U9i"
   },
   "source": [
    "Однако на этой стадии мы должны сделать еще некоторые настройки нейронной сети. Разберем команды из кода выше.\n",
    "\n",
    "- loss - позволяет задать формулу, по которой будет определяться степень ошибки нейронной сети.\n",
    "- optimizer - позволяет задать алгоритм, который будет осуществлять изменения весов по всей нейронной сети (backpropagation).\n",
    "- metrics - позволяет определить критерии, по которым будет оцениваться степень обученности нейросети.\n",
    "    "
   ]
  },
  {
   "cell_type": "markdown",
   "metadata": {
    "id": "KH-Cy6Iy9U9l"
   },
   "source": [
    "### **Передача данных для обучения нейросети**\n",
    "\n",
    "После того как нейросеть создана, можно передавать ей данные для обучения. Ниже типичный пример кода для этого.\n"
   ]
  },
  {
   "cell_type": "code",
   "execution_count": 18,
   "metadata": {
    "colab": {
     "base_uri": "https://localhost:8080/"
    },
    "id": "t8wSpGUvSKYC",
    "outputId": "9d8601e7-b7cd-4799-b890-8ef362bf32f3"
   },
   "outputs": [
    {
     "data": {
      "text/plain": [
       "array([5, 0, 4, 1, 9], dtype=uint8)"
      ]
     },
     "execution_count": 18,
     "metadata": {},
     "output_type": "execute_result"
    }
   ],
   "source": [
    "y_train_labels[:5]"
   ]
  },
  {
   "cell_type": "code",
   "execution_count": 19,
   "metadata": {
    "colab": {
     "base_uri": "https://localhost:8080/"
    },
    "id": "7FVfRog_SMgT",
    "outputId": "853a2c34-516d-4709-b7ef-d0be09483b19"
   },
   "outputs": [
    {
     "data": {
      "text/plain": [
       "array([[0., 0., 0., 0., 0., 1., 0., 0., 0., 0.],\n",
       "       [1., 0., 0., 0., 0., 0., 0., 0., 0., 0.],\n",
       "       [0., 0., 0., 0., 1., 0., 0., 0., 0., 0.],\n",
       "       [0., 1., 0., 0., 0., 0., 0., 0., 0., 0.],\n",
       "       [0., 0., 0., 0., 0., 0., 0., 0., 0., 1.]], dtype=float32)"
      ]
     },
     "execution_count": 19,
     "metadata": {},
     "output_type": "execute_result"
    }
   ],
   "source": [
    "from keras.utils import to_categorical\n",
    "\n",
    "\n",
    "y_train = to_categorical(y_train_labels)\n",
    "y_test = to_categorical(y_test_labels)\n",
    "\n",
    "y_train[:5]"
   ]
  },
  {
   "cell_type": "markdown",
   "metadata": {
    "id": "fqBRW_s6ac0m"
   },
   "source": [
    "<img src='https://drive.google.com/uc?export=view&id=1j8SxKYEi12jzJXi_bPO28q5SV9emuu0Y'>"
   ]
  },
  {
   "cell_type": "code",
   "execution_count": 20,
   "metadata": {
    "colab": {
     "base_uri": "https://localhost:8080/"
    },
    "id": "_v47tBDpZcEu",
    "outputId": "4c678382-46bb-48aa-d14a-e8c6aae6a412"
   },
   "outputs": [
    {
     "data": {
      "text/plain": [
       "(60000, 784)"
      ]
     },
     "execution_count": 20,
     "metadata": {},
     "output_type": "execute_result"
    }
   ],
   "source": [
    "X_train.shape"
   ]
  },
  {
   "cell_type": "code",
   "execution_count": 21,
   "metadata": {
    "colab": {
     "base_uri": "https://localhost:8080/"
    },
    "id": "dgGt_UruOtFZ",
    "outputId": "0c9069f2-069c-44ae-d6b6-c7356611f904"
   },
   "outputs": [
    {
     "name": "stdout",
     "output_type": "stream",
     "text": [
      "Epoch 1/5\n",
      "4800/4800 [==============================] - 8s 1ms/step - loss: 0.8098 - accuracy: 0.7606 - val_loss: 0.2679 - val_accuracy: 0.9220\n",
      "Epoch 2/5\n",
      "4800/4800 [==============================] - 5s 981us/step - loss: 0.2624 - accuracy: 0.9251 - val_loss: 0.1966 - val_accuracy: 0.9450\n",
      "Epoch 3/5\n",
      "4800/4800 [==============================] - 5s 943us/step - loss: 0.1955 - accuracy: 0.9430 - val_loss: 0.1722 - val_accuracy: 0.9503\n",
      "Epoch 4/5\n",
      "4800/4800 [==============================] - 5s 952us/step - loss: 0.1555 - accuracy: 0.9550 - val_loss: 0.1502 - val_accuracy: 0.9586\n",
      "Epoch 5/5\n",
      "4800/4800 [==============================] - 5s 947us/step - loss: 0.1279 - accuracy: 0.9622 - val_loss: 0.1371 - val_accuracy: 0.9601\n"
     ]
    }
   ],
   "source": [
    "# передача обучающего датасета keras модели\n",
    "\n",
    "# # можно явно указать валидационный датасет\n",
    "# history = model.fit(X_train, y_train,\n",
    "#                     epochs=5,\n",
    "#                     batch_size=128,\n",
    "#                     verbose=1,\n",
    "#                     validation_data=(X_test, y_test)\n",
    "#                     )\n",
    "\n",
    "\n",
    "# либо можно указать разбиение на валидацию\n",
    "history = model.fit(X_train, y_train,\n",
    "                    epochs=5,\n",
    "                    batch_size=10, \n",
    "                    verbose=1, validation_split=0.2)"
   ]
  },
  {
   "cell_type": "markdown",
   "metadata": {
    "id": "tFt0A6m59U9q"
   },
   "source": [
    "Разберем команды из этого примера.\n",
    "\n",
    "- X_train, y_train - содержат все обучающие данные\n",
    "- epochs - определяет сколько раз через нейросеть должен пройти весь набор данных\n",
    "- bath_size - определяет количество обучающих примеров передающихся нейросети на каждой итерации обучения.\n",
    "- verbose - позволяет определять информацию, которую вы видите во время обучения нейронной сети.\n",
    "- validation data - содержат все валидационные данные"
   ]
  },
  {
   "cell_type": "code",
   "execution_count": 22,
   "metadata": {
    "colab": {
     "base_uri": "https://localhost:8080/"
    },
    "id": "z-_BvJsjVOOY",
    "outputId": "9011169b-fbed-4efc-af24-e73314140c95"
   },
   "outputs": [
    {
     "data": {
      "text/plain": [
       "{'loss': [0.48102396726608276,\n",
       "  0.24316178262233734,\n",
       "  0.18904443085193634,\n",
       "  0.15399697422981262,\n",
       "  0.1310674548149109],\n",
       " 'accuracy': [0.862708330154419,\n",
       "  0.929729163646698,\n",
       "  0.9450416564941406,\n",
       "  0.9558125138282776,\n",
       "  0.9616458415985107],\n",
       " 'val_loss': [0.26788491010665894,\n",
       "  0.19659055769443512,\n",
       "  0.17223908007144928,\n",
       "  0.1502414494752884,\n",
       "  0.1371210366487503],\n",
       " 'val_accuracy': [0.921999990940094,\n",
       "  0.9449999928474426,\n",
       "  0.9503333568572998,\n",
       "  0.9585833549499512,\n",
       "  0.9600833058357239]}"
      ]
     },
     "execution_count": 22,
     "metadata": {},
     "output_type": "execute_result"
    }
   ],
   "source": [
    "history.history"
   ]
  },
  {
   "cell_type": "code",
   "execution_count": 23,
   "metadata": {
    "colab": {
     "base_uri": "https://localhost:8080/",
     "height": 265
    },
    "id": "xKpOPxNobbJ8",
    "outputId": "753dfdc1-9afc-42b2-d534-444b3fbfee6b"
   },
   "outputs": [
    {
     "data": {
      "image/png": "[encoded data removed]",
      "text/plain": [
       "<Figure size 432x288 with 1 Axes>"
      ]
     },
     "metadata": {
      "needs_background": "light"
     },
     "output_type": "display_data"
    }
   ],
   "source": [
    "train_acc = history.history['accuracy']\n",
    "val_acc = history.history['val_accuracy']\n",
    "\n",
    "plt.plot(train_acc, label='train')\n",
    "plt.plot(val_acc, label='val')\n",
    "plt.legend();"
   ]
  },
  {
   "cell_type": "code",
   "execution_count": 24,
   "metadata": {
    "colab": {
     "base_uri": "https://localhost:8080/"
    },
    "id": "t26sY8YAXi1O",
    "outputId": "5819808b-47a0-4594-dd6c-8e1def0e07f5"
   },
   "outputs": [
    {
     "name": "stdout",
     "output_type": "stream",
     "text": [
      "Epoch 1/5\n",
      "100/100 [==============================] - 1s 10ms/step - loss: 0.1106 - accuracy: 0.9685 - val_loss: 0.1208 - val_accuracy: 0.9649\n",
      "Epoch 2/5\n",
      "100/100 [==============================] - 1s 7ms/step - loss: 0.1079 - accuracy: 0.9695 - val_loss: 0.1199 - val_accuracy: 0.9649\n",
      "Epoch 3/5\n",
      "100/100 [==============================] - 1s 7ms/step - loss: 0.1069 - accuracy: 0.9698 - val_loss: 0.1195 - val_accuracy: 0.9645\n",
      "Epoch 4/5\n",
      "100/100 [==============================] - 1s 8ms/step - loss: 0.1061 - accuracy: 0.9698 - val_loss: 0.1191 - val_accuracy: 0.9654\n",
      "Epoch 5/5\n",
      "100/100 [==============================] - 1s 8ms/step - loss: 0.1055 - accuracy: 0.9702 - val_loss: 0.1186 - val_accuracy: 0.9652\n"
     ]
    }
   ],
   "source": [
    "# steps_per_epoch\n",
    "\n",
    "history = model.fit(X_train, y_train,\n",
    "                    epochs=5,\n",
    "                    steps_per_epoch=100, \n",
    "                    verbose=1,\n",
    "                    validation_data=(X_test, y_test))"
   ]
  },
  {
   "cell_type": "markdown",
   "metadata": {
    "id": "P7ERG-o79U9s"
   },
   "source": [
    "### **Оценка обученности нейронной сети**\n",
    "\n",
    "Следующей стадией может быть проверка обученности нейронной сети. Команда Keras для этих целей."
   ]
  },
  {
   "cell_type": "code",
   "execution_count": 25,
   "metadata": {
    "colab": {
     "base_uri": "https://localhost:8080/"
    },
    "id": "Xy_ZHJLRPZu1",
    "outputId": "8dee06c1-7a63-4273-fdd3-34a9fc88d1d5"
   },
   "outputs": [
    {
     "name": "stdout",
     "output_type": "stream",
     "text": [
      "79/79 [==============================] - 0s 1ms/step - loss: 0.1186 - accuracy: 0.9652\n"
     ]
    },
    {
     "data": {
      "text/plain": [
       "(0.11858048290014267, 0.9652000069618225)"
      ]
     },
     "execution_count": 25,
     "metadata": {},
     "output_type": "execute_result"
    }
   ],
   "source": [
    "loss, metric = model.evaluate(X_test, y_test, batch_size=128)\n",
    "loss, metric"
   ]
  },
  {
   "cell_type": "markdown",
   "metadata": {
    "id": "JEEb6PjLPerM"
   },
   "source": [
    "В данном случае мы просто указываем какую модель на каких данных мы хотим проверить."
   ]
  },
  {
   "cell_type": "markdown",
   "metadata": {
    "id": "UHT1j0AX9U9t"
   },
   "source": [
    "### **Запуск нейронной сети для выполнения работы**\n",
    "\n",
    "На этой стадии мы можем попробовать запустить нейронную сеть на данных которые мы хотели бы чтобы она оценила. Осуществить распознавания объекта на фотографии например.\n",
    "Вот код для этих целей.\n",
    "\n",
    "В качестве аргумента здесь указывается массив данных."
   ]
  },
  {
   "cell_type": "code",
   "execution_count": 26,
   "metadata": {
    "colab": {
     "base_uri": "https://localhost:8080/"
    },
    "id": "LsCce3lEBVkh",
    "outputId": "872caf0a-35b0-40f7-fca4-7401488923d7"
   },
   "outputs": [
    {
     "data": {
      "text/plain": [
       "(1, 784)"
      ]
     },
     "execution_count": 26,
     "metadata": {},
     "output_type": "execute_result"
    }
   ],
   "source": [
    "X_test[0][None].shape"
   ]
  },
  {
   "cell_type": "code",
   "execution_count": 27,
   "metadata": {
    "colab": {
     "base_uri": "https://localhost:8080/"
    },
    "id": "E12l3cq6P4_O",
    "outputId": "62266d23-45c2-40c4-fe5b-8ac698bd9a7c"
   },
   "outputs": [
    {
     "data": {
      "text/plain": [
       "array([[2.0474863e-01, 5.1975936e-02, 9.7147417e-01, 9.9745369e-01,\n",
       "        1.2530684e-03, 1.4184019e-01, 5.4253205e-06, 9.9997419e-01,\n",
       "        8.2070357e-01, 7.1264821e-01]], dtype=float32)"
      ]
     },
     "execution_count": 27,
     "metadata": {},
     "output_type": "execute_result"
    }
   ],
   "source": [
    "predictions = model.predict(X_test[0][None])\n",
    "predictions"
   ]
  },
  {
   "cell_type": "code",
   "execution_count": 28,
   "metadata": {
    "colab": {
     "base_uri": "https://localhost:8080/"
    },
    "id": "AasIPpL0TpgN",
    "outputId": "1dcfd74a-9234-4a4c-dce0-b4dc5e1502e2"
   },
   "outputs": [
    {
     "data": {
      "text/plain": [
       "array([7], dtype=int64)"
      ]
     },
     "execution_count": 28,
     "metadata": {},
     "output_type": "execute_result"
    }
   ],
   "source": [
    "pred_labels = np.argmax(predictions, axis=1)\n",
    "pred_labels"
   ]
  },
  {
   "cell_type": "code",
   "execution_count": 29,
   "metadata": {
    "colab": {
     "base_uri": "https://localhost:8080/"
    },
    "id": "47wK4mK8T0dp",
    "outputId": "58e9787a-25b5-4d4a-ff61-c3e58e86e117"
   },
   "outputs": [
    {
     "data": {
      "text/plain": [
       "array([7, 2, 1], dtype=uint8)"
      ]
     },
     "execution_count": 29,
     "metadata": {},
     "output_type": "execute_result"
    }
   ],
   "source": [
    "y_test_labels[:3]"
   ]
  },
  {
   "cell_type": "markdown",
   "metadata": {
    "id": "LoL6FC9I9U9v"
   },
   "source": [
    "Мы с вами рассмотрели основные стадии процесса обучения нейросети и команды Keras. Безусловно, здесь приведен далеко неполный перечень возможностей Keras. У Keras есть также возможность сохранять созданную нейросеть, запускать уже имеющиюся, различные средства для создания нейросетей разных архитектур и другое. С чем-то из арсенала Keras мы с вами познакомимся по ходу курса, а с остальным вы можете познакомиться на сайте Keras в разделе документация."
   ]
  },
  {
   "cell_type": "code",
   "execution_count": 30,
   "metadata": {
    "id": "He1a5EemElpX"
   },
   "outputs": [],
   "source": [
    "# Save the weights to disk\n",
    "model.save_weights('model_weights.h5')\n",
    "\n",
    "# Save the model to disk\n",
    "model.save('model.h5')"
   ]
  },
  {
   "cell_type": "code",
   "execution_count": 31,
   "metadata": {
    "colab": {
     "base_uri": "https://localhost:8080/"
    },
    "id": "KMZ55yhLUvK8",
    "outputId": "554b9d36-a4de-4ed1-a3eb-891755810346"
   },
   "outputs": [
    {
     "name": "stdout",
     "output_type": "stream",
     "text": [
      "Model: \"sequential_2\"\n",
      "_________________________________________________________________\n",
      "Layer (type)                 Output Shape              Param #   \n",
      "=================================================================\n",
      "dense_5 (Dense)              (None, 64)                50240     \n",
      "_________________________________________________________________\n",
      "dense_6 (Dense)              (None, 32)                2080      \n",
      "_________________________________________________________________\n",
      "dense_7 (Dense)              (None, 10)                330       \n",
      "=================================================================\n",
      "Total params: 52,650\n",
      "Trainable params: 52,650\n",
      "Non-trainable params: 0\n",
      "_________________________________________________________________\n"
     ]
    }
   ],
   "source": [
    "from keras.models import load_model\n",
    "\n",
    "# Load the model from disk\n",
    "load_model('model.h5').summary()\n",
    "\n",
    "\n",
    "# load_model('model_weights.h5')  # ValueError: No model found in config file"
   ]
  },
  {
   "cell_type": "code",
   "execution_count": 32,
   "metadata": {
    "id": "tBcv2921UQWm",
    "scrolled": true
   },
   "outputs": [],
   "source": [
    "# Load the model weights from disk\n",
    "# model.from_config()\n",
    "model.load_weights('model_weights.h5')"
   ]
  },
  {
   "cell_type": "markdown",
   "metadata": {
    "id": "a8zh5g-GBQIp"
   },
   "source": [
    "## Оптимизаторы"
   ]
  },
  {
   "cell_type": "markdown",
   "metadata": {
    "id": "kxsnVzGpcI3o"
   },
   "source": [
    "<img src='https://drive.google.com/uc?export=view&id=12D44wSjCypIi0O9N6Uj36w5tWkhW79pG'>\n"
   ]
  },
  {
   "cell_type": "markdown",
   "metadata": {
    "id": "6P0Cn9WIpXUN"
   },
   "source": [
    "Основные проблемы, которые могут возникнуть в процессе оптимизации:\n",
    "1. Застревание в локальных минимумах или седловых точках, коих может быть очень много.\n",
    "2. Сложный ландшафт целевой функции: плато чередуются с регионами сильной нелинейности. Производная на плато практически равна нулю, а внезапный обрыв, наоборот, может отправить нас слишком далеко.\n",
    "3. Слишком маленькая скорость обучения заставляет алгоритм сходиться очень долго и застревать в локальных минимумах, слишком большая — «пролетать» узкие глобальные минимумы или вовсе расходиться.\n",
    "\n",
    "<img src='https://drive.google.com/uc?export=view&id=13JItksqmvlEe7ponSpskIWEmAFdXD4CW' width=500>"
   ]
  },
  {
   "cell_type": "markdown",
   "metadata": {
    "id": "kyz4Zvsffeq4"
   },
   "source": [
    "### SGD (+ momentum)\n"
   ]
  },
  {
   "cell_type": "markdown",
   "metadata": {
    "id": "sqtk507kfVDI"
   },
   "source": [
    "\n",
    "<img src='https://drive.google.com/uc?export=view&id=1JMoY1y1oZUtiicvCuhxhliiLBLoNl7bA'>\n",
    "\n",
    "Правило обновления весов w с градиентом g, когда импульс == 0:\n",
    "\n",
    "$w^{k} = w^{k-1} - \\eta * {\\nabla Q(w^{k-1}, X)}$\n",
    "\n",
    "Правило обновления весов w с градиентом g, когда импульс > 0:\n",
    "\n",
    "$velocity = momentum * velocity - \\eta * {\\nabla Q(w^{k-1}, X)}$<br>\n",
    "$w^{k} = w^{k-1} + velocity$\n",
    "\n",
    "<img src='https://drive.google.com/uc?export=view&id=1h0u3hNo2cjDRoq0FVdXIScgRo6Iq687y'>"
   ]
  },
  {
   "cell_type": "markdown",
   "metadata": {
    "id": "QnMoeBWF3f8g"
   },
   "source": [
    "Объяснение, как работает SGB + Momentum [здесь](https://youtu.be/CKLwvuKWQjo).\n",
    "\n",
    "Засчет добавления импульса получается сглаживание оптимизации.\n",
    "\n",
    "|$t_1$|$t_2$|..|$t_n$|\n",
    "|--|--|--|--|\n",
    "|$g_1$|$g_2$|..|$g_n$|\n",
    "\n",
    "$\\gamma = 0.5$\n",
    "\n",
    "$v_1 = g_1$<br>\n",
    "$v_2 = \\gamma * v_1 + g_2 = 0.5 * g_1 + g_2$<br>\n",
    "$v_3 = \\gamma * v_2 + g_3 = \\gamma (\\gamma * v_1 + g_2) + g_3 = \\gamma^2 * g_1 + \\gamma * g_2 + g_3 = 0.25 * g_1 + 0.5 * g_2 + g_3$<br>"
   ]
  },
  {
   "cell_type": "code",
   "execution_count": 33,
   "metadata": {
    "colab": {
     "base_uri": "https://localhost:8080/"
    },
    "id": "_Tu3Q9bHf1ld",
    "outputId": "70a37f2a-0cbf-4a80-a9d1-e1044090ea15"
   },
   "outputs": [
    {
     "data": {
      "text/plain": [
       "<tensorflow.python.keras.optimizer_v2.gradient_descent.SGD at 0x24906080520>"
      ]
     },
     "execution_count": 33,
     "metadata": {},
     "output_type": "execute_result"
    }
   ],
   "source": [
    "from keras.optimizers import SGD\n",
    "SGD(learning_rate=0.01, momentum=0.5)"
   ]
  },
  {
   "cell_type": "markdown",
   "metadata": {
    "id": "0M5994xKfjOb"
   },
   "source": [
    "### AdaGrad"
   ]
  },
  {
   "cell_type": "markdown",
   "metadata": {
    "id": "J25L4PhmfSRz"
   },
   "source": [
    "\n",
    "Объяснение, как работает Adagrad [здесь](https://youtu.be/GSmW59dM0-o).\n",
    "\n",
    "Gradient Descent:\n",
    "$ w^{k} = w^{k-1} - \\eta\\nabla Q(w^{k-1}, X)$.\n",
    "\n",
    "В Adagrad используются разные скорости обучения в зависимости от итерации:\n",
    "<h3>$ w^{k} = w^{k-1} - \\eta_{k}\\nabla Q(w^{k-1}, X) $</h3>\n",
    "\n",
    "<h2>$\\eta_{k} = \\frac{\\eta}{\\sqrt{\\alpha_k + \\epsilon}}$</h2>\n",
    "где  $\\epsilon$ - маленькое число, чтобы не было деления на ноль.\n",
    "<h4>$\\alpha_k = \\sum_{i=0}^k{\\nabla Q(w^{k-1}, X)}^2$</h4>\n",
    "\n",
    "Обновление весов:\n",
    "\n",
    "<h4>$ w^{k} = w^{k-1} - \\eta_k\\nabla Q(w^{k-1}, X)$</h4>\n",
    "\n",
    "Получается, что когда $\\alpha$ становится большим числом, то $\\eta_{k}$ становится меньше, то есть с увеличением итерации - уменьшается скорость обучения, а значит и уменьшается скорость изменения весов.\n",
    "\n",
    "Но есть одна очень большая проблема - чем больше итераций, тем $\\alpha$ больше, скорость обучения меньше, это приведет к тому, что изменение весов может стать совсем незаметным. Но это решаемо с помощью RMSProp."
   ]
  },
  {
   "cell_type": "code",
   "execution_count": 34,
   "metadata": {
    "colab": {
     "base_uri": "https://localhost:8080/"
    },
    "id": "zm7TVF096CEx",
    "outputId": "c5b7e7a6-9517-47a2-ab4e-593e7140228f"
   },
   "outputs": [
    {
     "data": {
      "text/plain": [
       "<tensorflow.python.keras.optimizer_v2.adagrad.Adagrad at 0x24906080bb0>"
      ]
     },
     "execution_count": 34,
     "metadata": {},
     "output_type": "execute_result"
    }
   ],
   "source": [
    "from keras.optimizers import Adagrad\n",
    "Adagrad(learning_rate=0.001, initial_accumulator_value=0.1, epsilon=1e-07)"
   ]
  },
  {
   "cell_type": "markdown",
   "metadata": {
    "id": "foVu35djfmbo"
   },
   "source": [
    "### RMSProp (Leaky AdaGrad)"
   ]
  },
  {
   "cell_type": "markdown",
   "metadata": {
    "id": "25V9xgaiVPhf"
   },
   "source": [
    "Объяснение, как работает RMSprop [здесь](https://youtu.be/9wFBbAQixBM).\n",
    "\n",
    "Этот оптимизатор исправляет проблему с неизменяемыми весами в Adagrad засчет введения ограничения на градиенты весов.\n",
    "\n",
    "<h2>$\\eta_{k} = \\frac{\\eta}{\\sqrt{W_{avg_k} + \\epsilon}}$</h2>\n",
    "где  $\\epsilon$ - маленькое число, чтобы не было деления на ноль.\n",
    "\n",
    "$W_{avg_{0}} = 0$\n",
    "\n",
    "<h4>$W_{avg_k} = \\rho * W_{avg_{k-1}}+(1-\\rho){\\nabla Q(w^{k-1}, X)}^2$</h4>\n",
    "\n",
    "Обновление весов:\n",
    "\n",
    "<h4>$ w^{k} = w^{k-1} - \\eta_k\\nabla Q(w^{k-1}, X)$</h4>\n"
   ]
  },
  {
   "cell_type": "code",
   "execution_count": 35,
   "metadata": {
    "colab": {
     "base_uri": "https://localhost:8080/"
    },
    "id": "46PwnfPPVQiZ",
    "outputId": "4b562ce6-b7f1-4b37-85c2-9fe3f48110ff"
   },
   "outputs": [
    {
     "data": {
      "text/plain": [
       "<tensorflow.python.keras.optimizer_v2.rmsprop.RMSprop at 0x24906080100>"
      ]
     },
     "execution_count": 35,
     "metadata": {},
     "output_type": "execute_result"
    }
   ],
   "source": [
    "from keras.optimizers import RMSprop\n",
    "RMSprop(learning_rate=0.001, rho=0.9, epsilon=1e-07)"
   ]
  },
  {
   "cell_type": "markdown",
   "metadata": {
    "id": "k7iOYaeOfqbS"
   },
   "source": [
    "### Adam"
   ]
  },
  {
   "cell_type": "markdown",
   "metadata": {
    "id": "O_VvTqscfgQN"
   },
   "source": [
    "Здесь соединились два плюса предыдущих оптимизаторов:\n",
    "1. Импульс (дает сглаживание оптимизации)\n",
    "2. Постепенное уменьшение скорости обучения\n",
    "\n",
    "<h4>$V_{k} = \\beta_1 * V_{k-1} + g_k$</h4>\n",
    "\n",
    "<h4>$W_{avg_k} = \\beta_2 * W_{avg_{k-1}}+(1-\\beta_2){\\nabla Q(w^{k-1}, X)}^2$</h4>\n",
    "\n",
    "Обновление весов:\n",
    "<h4>$ w^{k} = w^{k-1} - \\frac{\\eta * V_k}{\\sqrt{W_{avg_k} + \\epsilon}}$</h4>\n"
   ]
  },
  {
   "cell_type": "code",
   "execution_count": 36,
   "metadata": {
    "colab": {
     "base_uri": "https://localhost:8080/"
    },
    "id": "_NBYrY81fgrI",
    "outputId": "c6f55eec-29dd-4910-83a9-2a3939bd1bad"
   },
   "outputs": [
    {
     "data": {
      "text/plain": [
       "<tensorflow.python.keras.optimizer_v2.adam.Adam at 0x24906080670>"
      ]
     },
     "execution_count": 36,
     "metadata": {},
     "output_type": "execute_result"
    }
   ],
   "source": [
    "from keras.optimizers import Adam\n",
    "Adam(learning_rate=0.001, beta_1=0.9, beta_2=0.999, epsilon=1e-07)"
   ]
  },
  {
   "cell_type": "markdown",
   "metadata": {
    "id": "dxH-XG1jcIKs"
   },
   "source": [
    "### Эксперимент с разными оптимизаторами для одной начальной модели\n",
    "\n",
    "1. создаем модель model\n",
    "2. сохраняем ее веса (это начальная точка) model.save_weights('model.h5')\n",
    "3.\\* создаем рабочую модель $model_i$, куда будем загружать эти веса (она должна быть идентичной структуры) \n",
    "4.\\* загружаем веса $model_i$.load_weights('model.h5')\n",
    "5.\\* компилируем $model_i$, с одним из оптимизаторов\n",
    "6. вычисляем ошибку для $model_i$, без обучения (т.к. все модели начинают с одной точки, то все ошибки должны быть одинаковые, но будем контролировать это и считаем каждый раз заново)\n",
    "7. проводим обучение модели и пишем ошибки в истории history\n",
    "8. выводим ошибки для 0-го момента и каждой эпохи обучения по тестовой и валидационной частям данных\n",
    "\n",
    "*Либо пункты сохранения воспроизводимости можно заменить фиксацией псевдо рандома:\n",
    "\n",
    "\n",
    "```\n",
    "# for reproducible weights initialization\n",
    "import tensorflow as tf\n",
    "tf.random.set_seed(1)\n",
    "\n",
    "# model.layers[0].weights\n",
    "```\n",
    "\n"
   ]
  },
  {
   "cell_type": "code",
   "execution_count": 37,
   "metadata": {
    "colab": {
     "base_uri": "https://localhost:8080/"
    },
    "id": "L2Frdm7VYNWh",
    "outputId": "85341db5-20d6-4a6d-b043-c6e24ef68384"
   },
   "outputs": [
    {
     "name": "stdout",
     "output_type": "stream",
     "text": [
      "Model: \"sequential_4\"\n",
      "_________________________________________________________________\n",
      "Layer (type)                 Output Shape              Param #   \n",
      "=================================================================\n",
      "dense_10 (Dense)             (None, 64)                50240     \n",
      "_________________________________________________________________\n",
      "dense_11 (Dense)             (None, 32)                2080      \n",
      "_________________________________________________________________\n",
      "dense_12 (Dense)             (None, 10)                330       \n",
      "=================================================================\n",
      "Total params: 52,650\n",
      "Trainable params: 52,650\n",
      "Non-trainable params: 0\n",
      "_________________________________________________________________\n"
     ]
    }
   ],
   "source": [
    "# создаем модель model\n",
    "model = Sequential([\n",
    "    Dense(64, activation='relu', input_shape=(784,)),\n",
    "    Dense(32, activation='relu'),\n",
    "    Dense(10, activation='sigmoid'),\n",
    "])\n",
    "\n",
    "model_c = Sequential()\n",
    "model_c = model\n",
    "model_c.summary()"
   ]
  },
  {
   "cell_type": "code",
   "execution_count": 38,
   "metadata": {
    "colab": {
     "base_uri": "https://localhost:8080/",
     "height": 1000
    },
    "id": "jaqCLGg3w_Nl",
    "outputId": "431aa173-239a-46d8-bb29-006ef568d49d"
   },
   "outputs": [
    {
     "name": "stdout",
     "output_type": "stream",
     "text": [
      "Epoch 1/5\n",
      "1875/1875 [==============================] - 3s 1ms/step - loss: 0.6746 - accuracy: 0.8175 - val_loss: 0.3184 - val_accuracy: 0.9083\n",
      "Epoch 2/5\n",
      "1875/1875 [==============================] - 2s 1ms/step - loss: 0.2978 - accuracy: 0.9139 - val_loss: 0.2540 - val_accuracy: 0.9254\n",
      "Epoch 3/5\n",
      "1875/1875 [==============================] - 2s 1ms/step - loss: 0.2466 - accuracy: 0.9295 - val_loss: 0.2198 - val_accuracy: 0.9343\n",
      "Epoch 4/5\n",
      "1875/1875 [==============================] - 2s 1ms/step - loss: 0.2140 - accuracy: 0.9384 - val_loss: 0.1971 - val_accuracy: 0.9429\n",
      "Epoch 5/5\n",
      "1875/1875 [==============================] - 2s 1ms/step - loss: 0.1895 - accuracy: 0.9447 - val_loss: 0.1777 - val_accuracy: 0.9471\n",
      "Epoch 1/5\n",
      "1875/1875 [==============================] - 3s 1ms/step - loss: 1.4709 - accuracy: 0.6219 - val_loss: 0.8566 - val_accuracy: 0.8287\n",
      "Epoch 2/5\n",
      "1875/1875 [==============================] - 2s 1ms/step - loss: 0.7152 - accuracy: 0.8399 - val_loss: 0.5655 - val_accuracy: 0.8669\n",
      "Epoch 3/5\n",
      "1875/1875 [==============================] - 2s 1ms/step - loss: 0.5411 - accuracy: 0.8686 - val_loss: 0.4673 - val_accuracy: 0.8814\n",
      "Epoch 4/5\n",
      "1875/1875 [==============================] - 2s 1ms/step - loss: 0.4661 - accuracy: 0.8827 - val_loss: 0.4173 - val_accuracy: 0.8903\n",
      "Epoch 5/5\n",
      "1875/1875 [==============================] - 2s 1ms/step - loss: 0.4233 - accuracy: 0.8903 - val_loss: 0.3861 - val_accuracy: 0.8971\n",
      "Epoch 1/5\n",
      "1875/1875 [==============================] - 3s 1ms/step - loss: 0.2785 - accuracy: 0.9192 - val_loss: 0.1459 - val_accuracy: 0.9539\n",
      "Epoch 2/5\n",
      "1875/1875 [==============================] - 3s 1ms/step - loss: 0.1311 - accuracy: 0.9608 - val_loss: 0.1124 - val_accuracy: 0.9670\n",
      "Epoch 3/5\n",
      "1875/1875 [==============================] - 3s 1ms/step - loss: 0.1021 - accuracy: 0.9701 - val_loss: 0.1018 - val_accuracy: 0.9703\n",
      "Epoch 4/5\n",
      "1875/1875 [==============================] - 3s 1ms/step - loss: 0.0862 - accuracy: 0.9746 - val_loss: 0.0956 - val_accuracy: 0.9735\n",
      "Epoch 5/5\n",
      "1875/1875 [==============================] - 2s 1ms/step - loss: 0.0753 - accuracy: 0.9782 - val_loss: 0.0994 - val_accuracy: 0.9722\n",
      "Epoch 1/5\n",
      "1875/1875 [==============================] - 3s 1ms/step - loss: 0.2821 - accuracy: 0.9180 - val_loss: 0.1504 - val_accuracy: 0.9512\n",
      "Epoch 2/5\n",
      "1875/1875 [==============================] - 3s 1ms/step - loss: 0.1292 - accuracy: 0.9612 - val_loss: 0.1254 - val_accuracy: 0.9611\n",
      "Epoch 3/5\n",
      "1875/1875 [==============================] - 2s 1ms/step - loss: 0.0949 - accuracy: 0.9707 - val_loss: 0.1034 - val_accuracy: 0.9672\n",
      "Epoch 4/5\n",
      "1875/1875 [==============================] - 2s 1ms/step - loss: 0.0761 - accuracy: 0.9766 - val_loss: 0.0882 - val_accuracy: 0.9732\n",
      "Epoch 5/5\n",
      "1875/1875 [==============================] - 3s 1ms/step - loss: 0.0616 - accuracy: 0.9812 - val_loss: 0.0935 - val_accuracy: 0.9714\n"
     ]
    },
    {
     "data": {
      "image/png": "[encoded data removed]",
      "text/plain": [
       "<Figure size 1152x504 with 1 Axes>"
      ]
     },
     "metadata": {
      "needs_background": "light"
     },
     "output_type": "display_data"
    },
    {
     "name": "stdout",
     "output_type": "stream",
     "text": [
      "Wall time: 59.6 s\n"
     ]
    }
   ],
   "source": [
    "%%time\n",
    "\n",
    "# создаем модель model\n",
    "model = Sequential([\n",
    "    Dense(64, activation='relu', input_shape=(784,)),\n",
    "    Dense(32, activation='relu'),\n",
    "    Dense(10, activation='sigmoid'),\n",
    "])\n",
    "\n",
    "# сохраняем ее веса (это начальная точка) model.save_weights('model.h5')\n",
    "model.save_weights('model_weights.h5')\n",
    "\n",
    "# будем сохранять модели в словарь\n",
    "models = {}\n",
    "\n",
    "\n",
    "plt.figure(figsize=(16, 7))\n",
    "colors = ['g', 'b', 'r', 'y']\n",
    "\n",
    "num_epochs = 5\n",
    "batch_size = 32\n",
    "\n",
    "# вектор для вывода результатов\n",
    "epoch = np.arange(num_epochs+1)\n",
    "\n",
    "# будем изменять оптимизаторы\n",
    "for i, i_optim in enumerate([keras.optimizers.SGD(),\n",
    "                             keras.optimizers.Adagrad(),\n",
    "                             keras.optimizers.RMSprop(),\n",
    "                             keras.optimizers.Adam()]):\n",
    "    \n",
    "    # создаем рабочую модель  model_i, куда будем загружать эти веса (она должна быть идентичной структуры)\n",
    "    model_i = Sequential([\n",
    "        Dense(64, activation='relu', input_shape=(784,)),\n",
    "        Dense(32, activation='relu'),\n",
    "        Dense(10, activation='sigmoid'),\n",
    "    ])\n",
    "    \n",
    "    # загружаем веса model_i.load_weights('model.h5')\n",
    "    model_i.load_weights('model_weights.h5')\n",
    "    \n",
    "    # компилируем model_i с одним из оптимизаторов\n",
    "    model_i.compile(\n",
    "        optimizer=i_optim,\n",
    "        loss='categorical_crossentropy',\n",
    "        metrics=['accuracy'],\n",
    "        )\n",
    "    \n",
    "    # вычисляем ошибку для modeli без обучения\n",
    "    h0_train = model_i.evaluate(X_train, y_train, verbose=0)\n",
    "    h0_val = model_i.evaluate(X_test, y_test, verbose=0)\n",
    "\n",
    "    # проводим обучение модели \n",
    "    h = model_i.fit(X_train, y_train,\n",
    "                    epochs=num_epochs,\n",
    "                    batch_size=batch_size,\n",
    "                    validation_data=(X_test, y_test),\n",
    "                    verbose=1)\n",
    "    \n",
    "    # записываем обученную модель в словарь\n",
    "    models[i_optim.get_config()['name']] = model_i\n",
    "\n",
    "    # картинки\n",
    "    plt.plot(epoch, np.log([h0_train[0]] + h.history['loss']),\n",
    "             '-', c=colors[i],\n",
    "             label=model_i.optimizer.get_config()['name'] + ' train')\n",
    "    plt.plot(epoch, np.log([h0_val[0]] + h.history['val_loss']),\n",
    "             '--', c=colors[i],\n",
    "             label=model_i.optimizer.get_config()['name'] + ' val')\n",
    "\n",
    "plt.legend()\n",
    "plt.title('нейросети от оптимизатора log(loss)')\n",
    "plt.xlabel('epoch')\n",
    "plt.ylabel('log(loss)')\n",
    "plt.show()"
   ]
  },
  {
   "cell_type": "code",
   "execution_count": 39,
   "metadata": {
    "colab": {
     "base_uri": "https://localhost:8080/",
     "height": 1000
    },
    "id": "W5S9qdlubn7m",
    "outputId": "f1fde779-0d67-4b6f-f131-be6e2cb8004e"
   },
   "outputs": [
    {
     "name": "stdout",
     "output_type": "stream",
     "text": [
      "Epoch 1/5\n",
      "1875/1875 [==============================] - 3s 1ms/step - loss: 0.6446 - accuracy: 0.8267 - val_loss: 0.3283 - val_accuracy: 0.9057\n",
      "Epoch 2/5\n",
      "1875/1875 [==============================] - 2s 1ms/step - loss: 0.3009 - accuracy: 0.9132 - val_loss: 0.2590 - val_accuracy: 0.9257\n",
      "Epoch 3/5\n",
      "1875/1875 [==============================] - 2s 1ms/step - loss: 0.2513 - accuracy: 0.9283 - val_loss: 0.2291 - val_accuracy: 0.9340\n",
      "Epoch 4/5\n",
      "1875/1875 [==============================] - 2s 1ms/step - loss: 0.2188 - accuracy: 0.9374 - val_loss: 0.2085 - val_accuracy: 0.9395\n",
      "Epoch 5/5\n",
      "1875/1875 [==============================] - 2s 1ms/step - loss: 0.1942 - accuracy: 0.9447 - val_loss: 0.1863 - val_accuracy: 0.9441\n",
      "Epoch 1/5\n",
      "1875/1875 [==============================] - 3s 1ms/step - loss: 1.3839 - accuracy: 0.6520 - val_loss: 0.8155 - val_accuracy: 0.8265\n",
      "Epoch 2/5\n",
      "1875/1875 [==============================] - 2s 1ms/step - loss: 0.6700 - accuracy: 0.8453 - val_loss: 0.5483 - val_accuracy: 0.8707\n",
      "Epoch 3/5\n",
      "1875/1875 [==============================] - 2s 1ms/step - loss: 0.5169 - accuracy: 0.8705 - val_loss: 0.4602 - val_accuracy: 0.8837\n",
      "Epoch 4/5\n",
      "1875/1875 [==============================] - 2s 1ms/step - loss: 0.4533 - accuracy: 0.8826 - val_loss: 0.4158 - val_accuracy: 0.8919\n",
      "Epoch 5/5\n",
      "1875/1875 [==============================] - 2s 1ms/step - loss: 0.4167 - accuracy: 0.8904 - val_loss: 0.3879 - val_accuracy: 0.8973\n",
      "Epoch 1/5\n",
      "1875/1875 [==============================] - 3s 1ms/step - loss: 0.2846 - accuracy: 0.9180 - val_loss: 0.1549 - val_accuracy: 0.9523\n",
      "Epoch 2/5\n",
      "1875/1875 [==============================] - 3s 1ms/step - loss: 0.1393 - accuracy: 0.9594 - val_loss: 0.1268 - val_accuracy: 0.9638\n",
      "Epoch 3/5\n",
      "1875/1875 [==============================] - 2s 1ms/step - loss: 0.1075 - accuracy: 0.9677 - val_loss: 0.1209 - val_accuracy: 0.9653\n",
      "Epoch 4/5\n",
      "1875/1875 [==============================] - 2s 1ms/step - loss: 0.0890 - accuracy: 0.9738 - val_loss: 0.1199 - val_accuracy: 0.9678\n",
      "Epoch 5/5\n",
      "1875/1875 [==============================] - 2s 1ms/step - loss: 0.0780 - accuracy: 0.9775 - val_loss: 0.1404 - val_accuracy: 0.9629\n",
      "Epoch 1/5\n",
      "1875/1875 [==============================] - 3s 1ms/step - loss: 0.2862 - accuracy: 0.9185 - val_loss: 0.1501 - val_accuracy: 0.9542\n",
      "Epoch 2/5\n",
      "1875/1875 [==============================] - 2s 1ms/step - loss: 0.1304 - accuracy: 0.9613 - val_loss: 0.1242 - val_accuracy: 0.9628\n",
      "Epoch 3/5\n",
      "1875/1875 [==============================] - 2s 1ms/step - loss: 0.0954 - accuracy: 0.9707 - val_loss: 0.0993 - val_accuracy: 0.9703\n",
      "Epoch 4/5\n",
      "1875/1875 [==============================] - 2s 1ms/step - loss: 0.0770 - accuracy: 0.9762 - val_loss: 0.0954 - val_accuracy: 0.9726\n",
      "Epoch 5/5\n",
      "1875/1875 [==============================] - 2s 1ms/step - loss: 0.0622 - accuracy: 0.9807 - val_loss: 0.1159 - val_accuracy: 0.9670\n"
     ]
    },
    {
     "data": {
      "image/png": "[encoded data removed]",
      "text/plain": [
       "<Figure size 1152x504 with 1 Axes>"
      ]
     },
     "metadata": {
      "needs_background": "light"
     },
     "output_type": "display_data"
    },
    {
     "name": "stdout",
     "output_type": "stream",
     "text": [
      "Wall time: 58.3 s\n"
     ]
    }
   ],
   "source": [
    "%%time\n",
    "\n",
    "# будем сохранять модели в словарь\n",
    "models = {}\n",
    "\n",
    "plt.figure(figsize=(16, 7))\n",
    "colors = ['g', 'b', 'r', 'y']\n",
    "\n",
    "num_epochs = 5\n",
    "batch_size = 32\n",
    "\n",
    "# вектор для вывода результатов\n",
    "epoch = np.arange(num_epochs+1)\n",
    "\n",
    "# будем изменять оптимизаторы\n",
    "for i, i_optim in enumerate([keras.optimizers.SGD(),\n",
    "                             keras.optimizers.Adagrad(),\n",
    "                             keras.optimizers.RMSprop(),\n",
    "                             keras.optimizers.Adam()]):\n",
    "    \n",
    "    # создаем рабочую модель  model_i с зафиксированными весами\n",
    "    import tensorflow as tf\n",
    "    tf.random.set_seed(1)\n",
    "    \n",
    "    model_i = Sequential([\n",
    "        Dense(64, activation='relu', input_shape=(784,)),\n",
    "        Dense(32, activation='relu'),\n",
    "        Dense(10, activation='sigmoid'),\n",
    "    ])\n",
    "    \n",
    "    # компилируем model_i с одним из оптимизаторов\n",
    "    model_i.compile(\n",
    "        optimizer=i_optim,\n",
    "        loss='categorical_crossentropy',\n",
    "        metrics=['accuracy'],\n",
    "        )\n",
    "    \n",
    "    # вычисляем ошибку для modeli без обучения\n",
    "    h0_train = model_i.evaluate(X_train, y_train, verbose=0)\n",
    "    h0_val = model_i.evaluate(X_test, y_test, verbose=0)\n",
    "\n",
    "    # проводим обучение модели \n",
    "    h = model_i.fit(X_train, y_train,\n",
    "                    epochs=num_epochs,\n",
    "                    batch_size=batch_size,\n",
    "                    validation_data=(X_test, y_test),\n",
    "                    verbose=1)\n",
    "\n",
    "    # записываем обученную модель в словарь\n",
    "    models[i_optim.get_config()['name']] = model_i\n",
    "\n",
    "    # картинки\n",
    "    plt.plot(epoch, np.log([h0_train[0]] + h.history['loss']),\n",
    "             '-', c=colors[i],\n",
    "             label=model_i.optimizer.get_config()['name'] + ' train')\n",
    "    plt.plot(epoch, np.log([h0_val[0]] + h.history['val_loss']),\n",
    "             '--', c=colors[i],\n",
    "             label=model_i.optimizer.get_config()['name'] + ' val')\n",
    "\n",
    "plt.legend()\n",
    "plt.title('нейросети от оптимизатора log(loss)')\n",
    "plt.xlabel('epoch')\n",
    "plt.ylabel('log(loss)')\n",
    "plt.show()"
   ]
  },
  {
   "cell_type": "code",
   "execution_count": 40,
   "metadata": {
    "id": "dgbiKEaBdxvX"
   },
   "outputs": [],
   "source": [
    "model_i = models['Adam']"
   ]
  },
  {
   "cell_type": "code",
   "execution_count": 41,
   "metadata": {
    "colab": {
     "base_uri": "https://localhost:8080/"
    },
    "id": "viS_E5s6z2UU",
    "outputId": "8730d97c-49c3-49af-df07-092348df1d76"
   },
   "outputs": [
    {
     "data": {
      "text/plain": [
       "{'name': 'Adam',\n",
       " 'learning_rate': 0.001,\n",
       " 'decay': 0.0,\n",
       " 'beta_1': 0.9,\n",
       " 'beta_2': 0.999,\n",
       " 'epsilon': 1e-07,\n",
       " 'amsgrad': False}"
      ]
     },
     "execution_count": 41,
     "metadata": {},
     "output_type": "execute_result"
    }
   ],
   "source": [
    "model_i.optimizer.get_config()"
   ]
  },
  {
   "cell_type": "code",
   "execution_count": 42,
   "metadata": {
    "colab": {
     "base_uri": "https://localhost:8080/",
     "height": 208
    },
    "id": "wj7fhqd3FKFe",
    "outputId": "b7902b3b-17db-4c6b-b4c0-02c84d9f2faa"
   },
   "outputs": [
    {
     "data": {
      "image/png": "[encoded data removed]",
      "text/plain": [
       "<Figure size 1080x360 with 5 Axes>"
      ]
     },
     "metadata": {
      "needs_background": "light"
     },
     "output_type": "display_data"
    }
   ],
   "source": [
    "N = 5\n",
    "y_pred = model_i.predict(X_test[:N, :])\n",
    "y_pred_class = np.argmax(y_pred, axis=1)\n",
    "plt.figure(figsize=(3 * N, 5))\n",
    "\n",
    "for i in range(N):\n",
    "  plt.subplot(1, N, i+1)\n",
    "  plt.imshow(X_test[i,:].reshape(28, 28))\n",
    "  plt.xlabel(str(y_pred_class[i]))\n",
    "plt.show()  "
   ]
  },
  {
   "cell_type": "code",
   "execution_count": 43,
   "metadata": {
    "colab": {
     "base_uri": "https://localhost:8080/"
    },
    "id": "Q561c6eaGxcB",
    "outputId": "a316e532-d014-4b01-d2c2-ca88654e8003"
   },
   "outputs": [
    {
     "data": {
      "text/plain": [
       "array([7, 2, 1, 0, 4], dtype=int64)"
      ]
     },
     "execution_count": 43,
     "metadata": {},
     "output_type": "execute_result"
    }
   ],
   "source": [
    "y_pred_class"
   ]
  },
  {
   "cell_type": "markdown",
   "metadata": {
    "id": "GbNuvIG1PmZw"
   },
   "source": [
    "## Callbacks"
   ]
  },
  {
   "cell_type": "markdown",
   "metadata": {
    "id": "oYMQ6xrjQX62"
   },
   "source": [
    "Callback (обратные вызовы) – набор функций, применяемых в определенные моменты во время процедуры обучения. Вы можете использовать функции callback чтобы получить информацию о внутреннем состоянии модели в процессе обучения. Нужно передавать список callback’ов (именованным аргументом callbacks) методу .fit() модели. Подходящие методы callback будут вызваны на каждой стадии обучения.\n",
    "\n",
    "Рассмотрим основные callback'и, с остальными можете ознакомиться в [документации](https://ru-keras.com/callbacks/)."
   ]
  },
  {
   "cell_type": "markdown",
   "metadata": {
    "id": "JiZzcPnyVHd6"
   },
   "source": [
    "### ModelCheckpoint\n"
   ]
  },
  {
   "cell_type": "markdown",
   "metadata": {
    "id": "1MvJSJWqQwFy"
   },
   "source": [
    "Сохранение модели после каждой эпохи.\n",
    "\n",
    "Filepath может содержать именованные опции форматирования, заполняемые значениями epoch и ключами в logs (передаваемыми on_epoch_end).\n",
    "\n",
    "К примеру: если filepath назван weights.{epoch:02d}-{val_loss:.2f}.hdf5, тогда модель будет сохраняться с номером эпохи и validation_loss в имени файла.\n",
    "\n",
    "**Аргументы:**\n",
    "\n",
    "— filepath: строка, путь сохранения модели\n",
    "\n",
    "— monitor: параметр для мониторинга\n",
    "\n",
    "— verbose: режим отображения, 0 или 1\n",
    "\n",
    "— save_best_only: если save_best_only=True, если результат текущей эпохи хуже предыдущей, он не будет сохранен.\n",
    "\n",
    "— save_weights_only: если True, тогда будут сохраняться только веса модели (model.save_weights(filepath)), в противном случае будет сохраняться вся модель (model.save(filepath)).\n",
    "\n",
    "— mode: один из {auto, min, max}. Если save_best_only=True, решение о перезаписи текущего файла будет приниматься в зависимости от уменьшения/увеличения параметра мониторинга. Для val_acc, необходим max, для val_loss необходим min. В auto режиме, mode выбирается в зависимости от имени monitor.\n",
    "\n",
    "— period: Интервал (число эпох) между сохранениями."
   ]
  },
  {
   "cell_type": "code",
   "execution_count": 44,
   "metadata": {
    "colab": {
     "base_uri": "https://localhost:8080/"
    },
    "id": "mvE9-jJQPpJS",
    "outputId": "573b9808-423c-4d82-b1fd-556ec17cda22"
   },
   "outputs": [
    {
     "name": "stdout",
     "output_type": "stream",
     "text": [
      "WARNING:tensorflow:`period` argument is deprecated. Please use `save_freq` to specify the frequency in number of batches seen.\n",
      "Epoch 1/5\n",
      "1875/1875 [==============================] - 3s 1ms/step - loss: 0.4940 - accuracy: 0.8571 - val_loss: 0.1405 - val_accuracy: 0.9561\n",
      "\n",
      "Epoch 00001: saving model to model_best_1_0.14\n",
      "INFO:tensorflow:Assets written to: model_best_1_0.14\\assets\n",
      "Epoch 2/5\n",
      "1875/1875 [==============================] - 2s 1ms/step - loss: 0.1395 - accuracy: 0.9594 - val_loss: 0.1155 - val_accuracy: 0.9634\n",
      "\n",
      "Epoch 00002: saving model to model_best_2_0.12\n",
      "INFO:tensorflow:Assets written to: model_best_2_0.12\\assets\n",
      "Epoch 3/5\n",
      "1875/1875 [==============================] - 2s 1ms/step - loss: 0.0948 - accuracy: 0.9713 - val_loss: 0.0935 - val_accuracy: 0.9703\n",
      "\n",
      "Epoch 00003: saving model to model_best_3_0.09\n",
      "INFO:tensorflow:Assets written to: model_best_3_0.09\\assets\n",
      "Epoch 4/5\n",
      "1875/1875 [==============================] - 2s 1ms/step - loss: 0.0715 - accuracy: 0.9789 - val_loss: 0.1026 - val_accuracy: 0.9698\n",
      "\n",
      "Epoch 00004: saving model to model_best_4_0.10\n",
      "INFO:tensorflow:Assets written to: model_best_4_0.10\\assets\n",
      "Epoch 5/5\n",
      "1875/1875 [==============================] - 2s 1ms/step - loss: 0.0579 - accuracy: 0.9824 - val_loss: 0.1102 - val_accuracy: 0.9690\n",
      "\n",
      "Epoch 00005: saving model to model_best_5_0.11\n",
      "INFO:tensorflow:Assets written to: model_best_5_0.11\\assets\n"
     ]
    },
    {
     "data": {
      "text/plain": [
       "<tensorflow.python.keras.callbacks.History at 0x24906369610>"
      ]
     },
     "execution_count": 44,
     "metadata": {},
     "output_type": "execute_result"
    }
   ],
   "source": [
    "from keras.callbacks import ModelCheckpoint\n",
    "\n",
    "model_checkpoint = ModelCheckpoint(filepath='model_best_{epoch}_{val_loss:.2f}',\n",
    "                                   monitor='val_loss',\n",
    "                                   verbose=1,\n",
    "                                   save_best_only=False,\n",
    "                                   save_weights_only=False,\n",
    "                                   mode='auto',\n",
    "                                   period=1) \n",
    "\n",
    "model.compile(optimizer=keras.optimizers.Adam(learning_rate=0.001),\n",
    "              loss='categorical_crossentropy',\n",
    "              metrics=['accuracy'])\n",
    "\n",
    "model.fit(X_train, y_train,\n",
    "          epochs=num_epochs,\n",
    "          batch_size=batch_size,\n",
    "          validation_data=(X_test, y_test),\n",
    "          verbose=1,\n",
    "          callbacks=[model_checkpoint])"
   ]
  },
  {
   "cell_type": "markdown",
   "metadata": {
    "id": "6w0-iQxhQyPo"
   },
   "source": [
    "### EarlyStopping\n"
   ]
  },
  {
   "cell_type": "markdown",
   "metadata": {
    "id": "0EEE6-F0SRJM"
   },
   "source": [
    "Прекращение обучения, когда параметр monitor перестает улучшаться.\n",
    "\n",
    "**Аргументы**\n",
    "\n",
    "— monitor: параметр для мониторинга\n",
    "\n",
    "— min_delta: минимальное значение изменения величины monitor, расцениваемое как улучшение, то есть, если абсолютное изменение меньше min_delta, то улучшение не засчитывается\n",
    "\n",
    "— patience: число эпох, за которые величина monitor не улучшается, после которых обучение будет остановлено. Проверочные величины могут производиться не после каждой эпохи если validation_freq (model.fit(validation_freq=5)) больше единицы.\n",
    "\n",
    "— verbose: режим отображения, 0 или 1.\n",
    "\n",
    "— mode: один из {auto, min, max}. В режиме min, обучение остановится когда величина monitor перестанет уменьшаться; в режиме max, обучение остановится когда величина monitor перестанет увеличиваться; в режиме auto, mode выбирается в зависимости от имени monitor.\n",
    "\n",
    "— baseline: значение, которое должна достичь величина monitor. Обучение прекратится, если модель не достигла baseline.\n",
    "\n",
    "— restore_best_weights: восстанавливать ли веса модели с эпохи с лучшем значением параметра monitor. Если False, веса модели будут загружены из последней шага обучения."
   ]
  },
  {
   "cell_type": "code",
   "execution_count": 45,
   "metadata": {
    "colab": {
     "base_uri": "https://localhost:8080/"
    },
    "id": "lbEB2k-zSNl8",
    "outputId": "30cbdadf-8977-4c2f-a43a-21eda17fb2d6"
   },
   "outputs": [
    {
     "name": "stdout",
     "output_type": "stream",
     "text": [
      "Epoch 1/5\n",
      "1875/1875 [==============================] - 2s 1ms/step - loss: 0.0509 - accuracy: 0.9833 - val_loss: 0.0836 - val_accuracy: 0.9749\n",
      "Epoch 2/5\n",
      "1875/1875 [==============================] - 2s 1ms/step - loss: 0.0441 - accuracy: 0.9862 - val_loss: 0.0866 - val_accuracy: 0.9750\n",
      "Epoch 00002: early stopping\n"
     ]
    },
    {
     "data": {
      "text/plain": [
       "<tensorflow.python.keras.callbacks.History at 0x249474b7d60>"
      ]
     },
     "execution_count": 45,
     "metadata": {},
     "output_type": "execute_result"
    }
   ],
   "source": [
    "from keras.callbacks import EarlyStopping\n",
    "\n",
    "early_stop = EarlyStopping(monitor='val_loss',\n",
    "                           min_delta=0,\n",
    "                           patience=1,\n",
    "                           verbose=1,\n",
    "                           mode='auto',\n",
    "                           baseline=None,\n",
    "                           restore_best_weights=False)\n",
    "\n",
    "\n",
    "model.fit(X_train, y_train,\n",
    "          epochs=num_epochs,\n",
    "          batch_size=batch_size,\n",
    "          validation_data=(X_test, y_test),\n",
    "          verbose=1,\n",
    "          callbacks=[early_stop])"
   ]
  },
  {
   "cell_type": "markdown",
   "metadata": {
    "id": "mO3P_Dg9Tytp"
   },
   "source": [
    "### ReduceLROnPlateau"
   ]
  },
  {
   "cell_type": "markdown",
   "metadata": {
    "id": "43m3Tyw2TyiI"
   },
   "source": [
    "Уменьшение скорости обучения, когда метрика перестала улучшаться.\n",
    "\n",
    "Модели зачастую работают лучше если уменьшать скорость обучения. Этот callback следит за параметром monitor и, если не происходит улучшения за patience эпох, уменьшает скорость обучения.\n",
    "\n",
    "\n",
    "**Аргументы**\n",
    "\n",
    "— monitor:  параметр для мониторинга\n",
    "\n",
    "— factor: коэффициент уменьшения скорости обучения. new_lr = lr * factor\n",
    "\n",
    "— patience: число эпох, за которые величина monitor не улучшается, после которых обучение будет остановлено. Проверочные величины могут производиться не после каждой эпохи если validation_freq (model.fit(validation_freq=5)) больше единицы.\n",
    "\n",
    "— verbose: int. 0: «тихий» режим, 1: выводить сообщения\n",
    "\n",
    "— mode: один из {auto, min, max}. В режиме min, скорость обучения уменьшится когда величина monitor перестанет уменьшаться; в режиме max, скорость обучения уменьшится когда величина monitor перестанет увеличиваться; в режиме auto, mode выбирается в зависимости от имени monitor.\n",
    "\n",
    "— min_delta: минимальное значение изменения величины monitor, расцениваемое как улучшение, то есть, если абсолютное изменение меньше min_delta, то улучшение не засчитывается\n",
    "\n",
    "— cooldown: число эпох после уменьшения скорости обучения, которые должны пройти, прежде чем стандартный процесс уменьшения возобновится.\n",
    "\n",
    "— min_lr: нижняя граница скорости обучения"
   ]
  },
  {
   "cell_type": "code",
   "execution_count": 46,
   "metadata": {
    "colab": {
     "base_uri": "https://localhost:8080/"
    },
    "id": "F0RUMg1mT6Y_",
    "outputId": "fb264961-b267-4a83-c25e-14961b757d3e"
   },
   "outputs": [
    {
     "name": "stdout",
     "output_type": "stream",
     "text": [
      "Epoch 1/5\n",
      "1875/1875 [==============================] - 2s 1ms/step - loss: 0.0357 - accuracy: 0.9885 - val_loss: 0.0812 - val_accuracy: 0.9771\n",
      "Epoch 2/5\n",
      "1875/1875 [==============================] - 2s 1ms/step - loss: 0.0314 - accuracy: 0.9900 - val_loss: 0.0890 - val_accuracy: 0.9743\n",
      "\n",
      "Epoch 00002: ReduceLROnPlateau reducing learning rate to 0.00010000000474974513.\n",
      "Epoch 3/5\n",
      "1875/1875 [==============================] - 2s 1ms/step - loss: 0.0163 - accuracy: 0.9952 - val_loss: 0.0750 - val_accuracy: 0.9797\n",
      "Epoch 4/5\n",
      "1875/1875 [==============================] - 2s 1ms/step - loss: 0.0119 - accuracy: 0.9972 - val_loss: 0.0778 - val_accuracy: 0.9788\n",
      "\n",
      "Epoch 00004: ReduceLROnPlateau reducing learning rate to 1.0000000474974514e-05.\n",
      "Epoch 5/5\n",
      "1875/1875 [==============================] - 2s 1ms/step - loss: 0.0096 - accuracy: 0.9982 - val_loss: 0.0758 - val_accuracy: 0.9796\n",
      "\n",
      "Epoch 00005: ReduceLROnPlateau reducing learning rate to 1.0000000656873453e-06.\n"
     ]
    },
    {
     "data": {
      "text/plain": [
       "<tensorflow.python.keras.callbacks.History at 0x2492ac4b0d0>"
      ]
     },
     "execution_count": 46,
     "metadata": {},
     "output_type": "execute_result"
    }
   ],
   "source": [
    "from keras.callbacks import ReduceLROnPlateau\n",
    "\n",
    "reduce_lr = ReduceLROnPlateau(monitor='val_accuracy',\n",
    "                              factor=0.1,\n",
    "                              patience=0,\n",
    "                              verbose=1,\n",
    "                              mode='auto',\n",
    "                              min_delta=0.0001,\n",
    "                              cooldown=0,\n",
    "                              min_lr=1e-10) \n",
    "\n",
    "model.fit(X_train, y_train,\n",
    "          epochs=num_epochs,\n",
    "          batch_size=batch_size,\n",
    "          validation_data=(X_test, y_test),\n",
    "          verbose=1,\n",
    "          callbacks=[reduce_lr])"
   ]
  },
  {
   "cell_type": "markdown",
   "metadata": {
    "id": "NRSQbmXD9U98"
   },
   "source": [
    "## Домашнее задание <a class='anchor' id='hw'>\n",
    "\n",
    "Используем набор примеров fashion-MNIST\n",
    "1. Опишите - какой результат нейросети получен в зависимости от:\n",
    "  - числа нейронов в слое (для 2-х слойной сети), \n",
    "  - числа слоев (2, 3, 5, 10) при близких размерах сети (близкое число тренируемых параметров).\n",
    "  - фиксируйте для тренировочного и тестового набора метрики accuracy.\n",
    "2.  Проверьте работу разных оптимизаторов (SGD, Adam, RMSProp) для одной из моделей п.1. Фиксируйте для тренировочного и тестового набора метрики accuracy.\n",
    "\n",
    "3. Сделайте вывод - что помогло вам улучшить качество классификации в нейросети на тестовом наборе? \n",
    "\n",
    "4. Для одного варианта сети сформируйте матрицу ошибок по классам. Оцените качество модели по каждому классу отдельно (полнота, точность)."
   ]
  },
  {
   "cell_type": "code",
   "execution_count": 48,
   "metadata": {},
   "outputs": [
    {
     "data": {
      "text/plain": [
       "'2.4.3'"
      ]
     },
     "execution_count": 48,
     "metadata": {},
     "output_type": "execute_result"
    }
   ],
   "source": [
    "import keras\n",
    "keras.__version__"
   ]
  },
  {
   "cell_type": "code",
   "execution_count": 49,
   "metadata": {},
   "outputs": [
    {
     "data": {
      "text/plain": [
       "'tensorflow'"
      ]
     },
     "execution_count": 49,
     "metadata": {},
     "output_type": "execute_result"
    }
   ],
   "source": [
    "keras.backend.backend()"
   ]
  },
  {
   "cell_type": "code",
   "execution_count": 50,
   "metadata": {},
   "outputs": [
    {
     "name": "stdout",
     "output_type": "stream",
     "text": [
      "(60000, 28, 28) (10000, 28, 28)\n",
      "(60000,)\n"
     ]
    }
   ],
   "source": [
    "import matplotlib.pyplot as plt\n",
    "\n",
    "from keras.datasets import mnist\n",
    "import numpy as np\n",
    "\n",
    "\n",
    "(X_train, y_train_labels), (X_test, y_test_labels) = mnist.load_data()\n",
    "\n",
    "print(X_train.shape, X_test.shape)\n",
    "print(y_train_labels.shape)"
   ]
  },
  {
   "cell_type": "code",
   "execution_count": 51,
   "metadata": {},
   "outputs": [
    {
     "name": "stdout",
     "output_type": "stream",
     "text": [
      "Label is 0\n"
     ]
    },
    {
     "data": {
      "image/png": "[encoded data removed]",
      "text/plain": [
       "<Figure size 432x288 with 1 Axes>"
      ]
     },
     "metadata": {
      "needs_background": "light"
     },
     "output_type": "display_data"
    }
   ],
   "source": [
    "ind = np.random.randint(0, X_train.shape[0])\n",
    "plt.imshow(X_train[ind], cmap='gray')\n",
    "print(f'Label is {y_train_labels[ind]}')"
   ]
  },
  {
   "cell_type": "code",
   "execution_count": 52,
   "metadata": {},
   "outputs": [
    {
     "data": {
      "text/plain": [
       "(0.0, 1.0)"
      ]
     },
     "execution_count": 52,
     "metadata": {},
     "output_type": "execute_result"
    }
   ],
   "source": [
    "# Нормировка\n",
    "X_train = X_train / 255.0\n",
    "X_test = X_test / 255.0\n",
    "X_train.min(), X_train.max()"
   ]
  },
  {
   "cell_type": "code",
   "execution_count": 53,
   "metadata": {},
   "outputs": [
    {
     "data": {
      "text/plain": [
       "((60000, 784), (10000, 784))"
      ]
     },
     "execution_count": 53,
     "metadata": {},
     "output_type": "execute_result"
    }
   ],
   "source": [
    "# Вытягивание признаков\n",
    "X_train = X_train.reshape((-1, 28 * 28))\n",
    "X_test = X_test.reshape((-1, 28 * 28))\n",
    "\n",
    "X_train.shape, X_test.shape"
   ]
  },
  {
   "cell_type": "markdown",
   "metadata": {},
   "source": [
    "### 1. Опишите - какой результат нейросети получен в зависимости от:\n",
    "  - числа нейронов в слое (для 2-х слойной сети), \n",
    "  - числа слоев (2, 3, 5, 10) при близких размерах сети (близкое число тренируемых параметров).\n",
    "  - фиксируйте для тренировочного и тестового набора метрики accuracy."
   ]
  },
  {
   "cell_type": "markdown",
   "metadata": {},
   "source": [
    "### a) числа нейронов в слое (для 2-х слойной сети),"
   ]
  },
  {
   "cell_type": "code",
   "execution_count": 56,
   "metadata": {},
   "outputs": [
    {
     "name": "stdout",
     "output_type": "stream",
     "text": [
      "Model: \"sequential_16\"\n",
      "_________________________________________________________________\n",
      "Layer (type)                 Output Shape              Param #   \n",
      "=================================================================\n",
      "dense_42 (Dense)             (None, 64)                50240     \n",
      "_________________________________________________________________\n",
      "dense_43 (Dense)             (None, 32)                2080      \n",
      "_________________________________________________________________\n",
      "dense_44 (Dense)             (None, 10)                330       \n",
      "=================================================================\n",
      "Total params: 52,650\n",
      "Trainable params: 52,650\n",
      "Non-trainable params: 0\n",
      "_________________________________________________________________\n"
     ]
    }
   ],
   "source": [
    "model = Sequential([\n",
    "    Dense(64, input_shape=(28 * 28,), activation='relu'),\n",
    "    Dense(32, activation='relu'),\n",
    "    Dense(10, activation='sigmoid')\n",
    "])\n",
    "\n",
    "model.summary()"
   ]
  },
  {
   "cell_type": "code",
   "execution_count": 57,
   "metadata": {},
   "outputs": [],
   "source": [
    "model.compile(loss='categorical_crossentropy', optimizer='SGD', metrics=['accuracy'])"
   ]
  },
  {
   "cell_type": "code",
   "execution_count": 60,
   "metadata": {},
   "outputs": [],
   "source": [
    "from keras.utils import to_categorical\n",
    "\n",
    "\n",
    "y_train = to_categorical(y_train_labels)\n",
    "y_test = to_categorical(y_test_labels)\n"
   ]
  },
  {
   "cell_type": "code",
   "execution_count": 61,
   "metadata": {},
   "outputs": [
    {
     "name": "stdout",
     "output_type": "stream",
     "text": [
      "Epoch 1/5\n",
      "469/469 [==============================] - 1s 2ms/step - loss: 1.9649 - accuracy: 0.3458 - val_loss: 0.8165 - val_accuracy: 0.8084\n",
      "Epoch 2/5\n",
      "469/469 [==============================] - 1s 2ms/step - loss: 0.7079 - accuracy: 0.8242 - val_loss: 0.4740 - val_accuracy: 0.8711\n",
      "Epoch 3/5\n",
      "469/469 [==============================] - 1s 2ms/step - loss: 0.4640 - accuracy: 0.8705 - val_loss: 0.3798 - val_accuracy: 0.8941\n",
      "Epoch 4/5\n",
      "469/469 [==============================] - 1s 2ms/step - loss: 0.3771 - accuracy: 0.8934 - val_loss: 0.3387 - val_accuracy: 0.9038\n",
      "Epoch 5/5\n",
      "469/469 [==============================] - 1s 2ms/step - loss: 0.3404 - accuracy: 0.9026 - val_loss: 0.3106 - val_accuracy: 0.9108\n"
     ]
    }
   ],
   "source": [
    "history = model.fit(X_train, y_train,\n",
    "                    epochs=5,\n",
    "                    batch_size=128,\n",
    "                    verbose=1,\n",
    "                    validation_data=(X_test, y_test)\n",
    "                    )"
   ]
  },
  {
   "cell_type": "code",
   "execution_count": 62,
   "metadata": {},
   "outputs": [
    {
     "data": {
      "image/png": "[encoded data removed]",
      "text/plain": [
       "<Figure size 432x288 with 1 Axes>"
      ]
     },
     "metadata": {
      "needs_background": "light"
     },
     "output_type": "display_data"
    }
   ],
   "source": [
    "train_acc = history.history['accuracy']\n",
    "val_acc = history.history['val_accuracy']\n",
    "\n",
    "plt.plot(train_acc, label='train')\n",
    "plt.plot(val_acc, label='val')\n",
    "plt.legend();"
   ]
  },
  {
   "cell_type": "code",
   "execution_count": 63,
   "metadata": {},
   "outputs": [
    {
     "name": "stdout",
     "output_type": "stream",
     "text": [
      "Epoch 1/5\n",
      "4800/4800 [==============================] - 6s 1ms/step - loss: 0.5273 - accuracy: 0.8501 - val_loss: 0.2054 - val_accuracy: 0.9429\n",
      "Epoch 2/5\n",
      "4800/4800 [==============================] - 5s 1ms/step - loss: 0.1952 - accuracy: 0.9432 - val_loss: 0.1642 - val_accuracy: 0.9519\n",
      "Epoch 3/5\n",
      "4800/4800 [==============================] - 5s 1ms/step - loss: 0.1455 - accuracy: 0.9579 - val_loss: 0.1476 - val_accuracy: 0.9563\n",
      "Epoch 4/5\n",
      "4800/4800 [==============================] - 5s 1ms/step - loss: 0.1186 - accuracy: 0.9645 - val_loss: 0.1518 - val_accuracy: 0.9538\n",
      "Epoch 5/5\n",
      "4800/4800 [==============================] - 5s 1ms/step - loss: 0.1058 - accuracy: 0.9673 - val_loss: 0.1317 - val_accuracy: 0.9600\n",
      "Epoch 1/5\n",
      "4800/4800 [==============================] - 6s 1ms/step - loss: 0.4473 - accuracy: 0.8682 - val_loss: 0.1614 - val_accuracy: 0.9523\n",
      "Epoch 2/5\n",
      "4800/4800 [==============================] - 5s 1ms/step - loss: 0.1459 - accuracy: 0.9551 - val_loss: 0.1308 - val_accuracy: 0.9621\n",
      "Epoch 3/5\n",
      "4800/4800 [==============================] - 6s 1ms/step - loss: 0.1004 - accuracy: 0.9690 - val_loss: 0.1161 - val_accuracy: 0.9669\n",
      "Epoch 4/5\n",
      "4800/4800 [==============================] - 5s 1ms/step - loss: 0.0743 - accuracy: 0.9765 - val_loss: 0.1107 - val_accuracy: 0.9686\n",
      "Epoch 5/5\n",
      "4800/4800 [==============================] - 5s 1ms/step - loss: 0.0581 - accuracy: 0.9816 - val_loss: 0.1114 - val_accuracy: 0.9695\n",
      "Epoch 1/5\n",
      "4800/4800 [==============================] - 6s 1ms/step - loss: 0.3964 - accuracy: 0.8836 - val_loss: 0.1486 - val_accuracy: 0.9546\n",
      "Epoch 2/5\n",
      "4800/4800 [==============================] - 6s 1ms/step - loss: 0.1135 - accuracy: 0.9659 - val_loss: 0.1061 - val_accuracy: 0.9688\n",
      "Epoch 3/5\n",
      "4800/4800 [==============================] - 6s 1ms/step - loss: 0.0726 - accuracy: 0.9784 - val_loss: 0.0993 - val_accuracy: 0.9707\n",
      "Epoch 4/5\n",
      "4800/4800 [==============================] - 6s 1ms/step - loss: 0.0508 - accuracy: 0.9839 - val_loss: 0.1142 - val_accuracy: 0.9661\n",
      "Epoch 5/5\n",
      "4800/4800 [==============================] - 7s 1ms/step - loss: 0.0406 - accuracy: 0.9869 - val_loss: 0.1069 - val_accuracy: 0.9698\n"
     ]
    }
   ],
   "source": [
    "import pandas as pd\n",
    "\n",
    "results = []\n",
    "for close_layer_neurons in [32, 64, 128]:\n",
    "    # define the keras model\n",
    "    test_model = Sequential([\n",
    "        Dense(close_layer_neurons, input_shape=(28 * 28,), activation='relu'),\n",
    "        # Dense(32, activation='relu'),\n",
    "        Dense(10, activation='sigmoid'),\n",
    "    ])\n",
    "    test_model.compile(optimizer='adam',\n",
    "                       loss='categorical_crossentropy',\n",
    "                       metrics=['accuracy'])\n",
    "    history = test_model.fit(X_train, y_train,\n",
    "                    epochs=5,\n",
    "                    batch_size=10,\n",
    "                    validation_split=0.2)\n",
    "    results.append(pd.DataFrame(history.history))"
   ]
  },
  {
   "cell_type": "code",
   "execution_count": 64,
   "metadata": {
    "scrolled": true
   },
   "outputs": [
    {
     "data": {
      "text/html": [
       "<div>\n",
       "<style scoped>\n",
       "    .dataframe tbody tr th:only-of-type {\n",
       "        vertical-align: middle;\n",
       "    }\n",
       "\n",
       "    .dataframe tbody tr th {\n",
       "        vertical-align: top;\n",
       "    }\n",
       "\n",
       "    .dataframe thead th {\n",
       "        text-align: right;\n",
       "    }\n",
       "</style>\n",
       "<table border=\"1\" class=\"dataframe\">\n",
       "  <thead>\n",
       "    <tr style=\"text-align: right;\">\n",
       "      <th></th>\n",
       "      <th>neurons</th>\n",
       "      <th>loss</th>\n",
       "      <th>accuracy</th>\n",
       "      <th>val_loss</th>\n",
       "      <th>val_accuracy</th>\n",
       "    </tr>\n",
       "  </thead>\n",
       "  <tbody>\n",
       "    <tr>\n",
       "      <th>0</th>\n",
       "      <td>32</td>\n",
       "      <td>0.107924</td>\n",
       "      <td>0.966937</td>\n",
       "      <td>0.131667</td>\n",
       "      <td>0.960000</td>\n",
       "    </tr>\n",
       "    <tr>\n",
       "      <th>1</th>\n",
       "      <td>64</td>\n",
       "      <td>0.061972</td>\n",
       "      <td>0.980396</td>\n",
       "      <td>0.111390</td>\n",
       "      <td>0.969500</td>\n",
       "    </tr>\n",
       "    <tr>\n",
       "      <th>2</th>\n",
       "      <td>128</td>\n",
       "      <td>0.043586</td>\n",
       "      <td>0.985917</td>\n",
       "      <td>0.106878</td>\n",
       "      <td>0.969833</td>\n",
       "    </tr>\n",
       "  </tbody>\n",
       "</table>\n",
       "</div>"
      ],
      "text/plain": [
       "   neurons      loss  accuracy  val_loss  val_accuracy\n",
       "0       32  0.107924  0.966937  0.131667      0.960000\n",
       "1       64  0.061972  0.980396  0.111390      0.969500\n",
       "2      128  0.043586  0.985917  0.106878      0.969833"
      ]
     },
     "execution_count": 64,
     "metadata": {},
     "output_type": "execute_result"
    }
   ],
   "source": [
    "results_comparation = pd.DataFrame({\n",
    "    'neurons': [32, 64, 128],\n",
    "    'loss': [float(result['loss'][-1:]) for result in results],\n",
    "    'accuracy': [float(result['accuracy'][-1:]) for result in results],\n",
    "    'val_loss': [float(result['val_loss'][-1:]) for result in results],\n",
    "    'val_accuracy': [float(result['val_accuracy'][-1:]) for result in results]\n",
    "})\n",
    "results_comparation"
   ]
  },
  {
   "cell_type": "markdown",
   "metadata": {},
   "source": [
    "**В каждом следующем слое val_accuracy повышается** "
   ]
  },
  {
   "cell_type": "markdown",
   "metadata": {},
   "source": [
    "### b) числа слоев (2, 3, 5, 10) при близких размерах сети (близкое число тренируемых параметров)."
   ]
  },
  {
   "cell_type": "code",
   "execution_count": 65,
   "metadata": {},
   "outputs": [
    {
     "name": "stdout",
     "output_type": "stream",
     "text": [
      "Model: \"sequential_20\"\n",
      "_________________________________________________________________\n",
      "Layer (type)                 Output Shape              Param #   \n",
      "=================================================================\n",
      "dense_51 (Dense)             (None, 128)               100480    \n",
      "_________________________________________________________________\n",
      "dense_52 (Dense)             (None, 64)                8256      \n",
      "_________________________________________________________________\n",
      "dense_53 (Dense)             (None, 10)                650       \n",
      "=================================================================\n",
      "Total params: 109,386\n",
      "Trainable params: 109,386\n",
      "Non-trainable params: 0\n",
      "_________________________________________________________________\n"
     ]
    }
   ],
   "source": [
    "model_2 = Sequential([\n",
    "    Dense(128, input_shape=(28 * 28,), activation='relu'),\n",
    "    Dense(64, activation='relu'),\n",
    "    Dense(10, activation='sigmoid')\n",
    "])\n",
    "\n",
    "model_2.summary()\n",
    "\n",
    "model_2.compile(loss='categorical_crossentropy', optimizer='SGD', metrics=['accuracy'])"
   ]
  },
  {
   "cell_type": "code",
   "execution_count": 66,
   "metadata": {},
   "outputs": [
    {
     "name": "stdout",
     "output_type": "stream",
     "text": [
      "Epoch 1/5\n",
      "469/469 [==============================] - 2s 3ms/step - loss: 1.6269 - accuracy: 0.5329 - val_loss: 0.5721 - val_accuracy: 0.8641\n",
      "Epoch 2/5\n",
      "469/469 [==============================] - 1s 2ms/step - loss: 0.5343 - accuracy: 0.8663 - val_loss: 0.3951 - val_accuracy: 0.8957\n",
      "Epoch 3/5\n",
      "469/469 [==============================] - 1s 2ms/step - loss: 0.4010 - accuracy: 0.8892 - val_loss: 0.3399 - val_accuracy: 0.9075\n",
      "Epoch 4/5\n",
      "469/469 [==============================] - 1s 2ms/step - loss: 0.3452 - accuracy: 0.9044 - val_loss: 0.3149 - val_accuracy: 0.9132\n",
      "Epoch 5/5\n",
      "469/469 [==============================] - 1s 2ms/step - loss: 0.3217 - accuracy: 0.9094 - val_loss: 0.2928 - val_accuracy: 0.9177\n",
      "Wall time: 5.42 s\n"
     ]
    }
   ],
   "source": [
    "%%time\n",
    "history_2 = model_2.fit(X_train, y_train,\n",
    "                      epochs=5,\n",
    "                      batch_size=128,\n",
    "                      verbose=1,\n",
    "                      validation_data=(X_test, y_test)\n",
    "                     )"
   ]
  },
  {
   "cell_type": "code",
   "execution_count": 67,
   "metadata": {},
   "outputs": [
    {
     "name": "stdout",
     "output_type": "stream",
     "text": [
      "Model: \"sequential_21\"\n",
      "_________________________________________________________________\n",
      "Layer (type)                 Output Shape              Param #   \n",
      "=================================================================\n",
      "dense_54 (Dense)             (None, 62)                48670     \n",
      "_________________________________________________________________\n",
      "dense_55 (Dense)             (None, 32)                2016      \n",
      "_________________________________________________________________\n",
      "dense_56 (Dense)             (None, 32)                1056      \n",
      "_________________________________________________________________\n",
      "dense_57 (Dense)             (None, 10)                330       \n",
      "=================================================================\n",
      "Total params: 52,072\n",
      "Trainable params: 52,072\n",
      "Non-trainable params: 0\n",
      "_________________________________________________________________\n",
      "Epoch 1/5\n",
      "469/469 [==============================] - 1s 2ms/step - loss: 2.0590 - accuracy: 0.2771 - val_loss: 0.8992 - val_accuracy: 0.7712\n",
      "Epoch 2/5\n",
      "469/469 [==============================] - 1s 2ms/step - loss: 0.7409 - accuracy: 0.8126 - val_loss: 0.4374 - val_accuracy: 0.8825\n",
      "Epoch 3/5\n",
      "469/469 [==============================] - 1s 2ms/step - loss: 0.4401 - accuracy: 0.8767 - val_loss: 0.3512 - val_accuracy: 0.9010\n",
      "Epoch 4/5\n",
      "469/469 [==============================] - 1s 2ms/step - loss: 0.3553 - accuracy: 0.8994 - val_loss: 0.3238 - val_accuracy: 0.9096\n",
      "Epoch 5/5\n",
      "469/469 [==============================] - 1s 2ms/step - loss: 0.3236 - accuracy: 0.9076 - val_loss: 0.2965 - val_accuracy: 0.9148\n"
     ]
    }
   ],
   "source": [
    "model_3_layers = Sequential([\n",
    "    Dense(62, input_shape=(28 * 28,), activation='relu'),\n",
    "    Dense(32, activation='relu'),\n",
    "    Dense(32, activation='relu'),\n",
    "    Dense(10, activation='sigmoid')\n",
    "])\n",
    "\n",
    "model_3_layers.summary()\n",
    "\n",
    "model_3_layers.compile(loss='categorical_crossentropy', optimizer='SGD', metrics=['accuracy'])\n",
    "\n",
    "history_3_layers = model_3_layers.fit(X_train, y_train,\n",
    "                                      epochs=5,\n",
    "                                      batch_size=128,\n",
    "                                      verbose=1,\n",
    "                                      validation_data=(X_test, y_test))"
   ]
  },
  {
   "cell_type": "code",
   "execution_count": 68,
   "metadata": {},
   "outputs": [
    {
     "name": "stdout",
     "output_type": "stream",
     "text": [
      "Model: \"sequential_22\"\n",
      "_________________________________________________________________\n",
      "Layer (type)                 Output Shape              Param #   \n",
      "=================================================================\n",
      "dense_58 (Dense)             (None, 60)                47100     \n",
      "_________________________________________________________________\n",
      "dense_59 (Dense)             (None, 30)                1830      \n",
      "_________________________________________________________________\n",
      "dense_60 (Dense)             (None, 30)                930       \n",
      "_________________________________________________________________\n",
      "dense_61 (Dense)             (None, 30)                930       \n",
      "_________________________________________________________________\n",
      "dense_62 (Dense)             (None, 30)                930       \n",
      "_________________________________________________________________\n",
      "dense_63 (Dense)             (None, 10)                310       \n",
      "=================================================================\n",
      "Total params: 52,030\n",
      "Trainable params: 52,030\n",
      "Non-trainable params: 0\n",
      "_________________________________________________________________\n",
      "Epoch 1/5\n",
      "469/469 [==============================] - 2s 2ms/step - loss: 2.2092 - accuracy: 0.1661 - val_loss: 1.3981 - val_accuracy: 0.5612\n",
      "Epoch 2/5\n",
      "469/469 [==============================] - 1s 2ms/step - loss: 1.1266 - accuracy: 0.6597 - val_loss: 0.5974 - val_accuracy: 0.8221\n",
      "Epoch 3/5\n",
      "469/469 [==============================] - 1s 2ms/step - loss: 0.5717 - accuracy: 0.8292 - val_loss: 0.4294 - val_accuracy: 0.8762\n",
      "Epoch 4/5\n",
      "469/469 [==============================] - 1s 2ms/step - loss: 0.4108 - accuracy: 0.8805 - val_loss: 0.3624 - val_accuracy: 0.8955\n",
      "Epoch 5/5\n",
      "469/469 [==============================] - 1s 2ms/step - loss: 0.3422 - accuracy: 0.9018 - val_loss: 0.3113 - val_accuracy: 0.9104\n"
     ]
    }
   ],
   "source": [
    "model_5_layers = Sequential([\n",
    "    Dense(60, input_shape=(28 * 28,), activation='relu'),\n",
    "    Dense(30, activation='relu'),\n",
    "    Dense(30, activation='relu'),\n",
    "    Dense(30, activation='relu'),\n",
    "    Dense(30, activation='relu'),\n",
    "    Dense(10, activation='sigmoid')\n",
    "])\n",
    "\n",
    "model_5_layers.summary()\n",
    "\n",
    "model_5_layers.compile(loss='categorical_crossentropy', optimizer='SGD', metrics=['accuracy'])\n",
    "\n",
    "history_5_layers = model_5_layers.fit(X_train, y_train,\n",
    "                                      epochs=5,\n",
    "                                      batch_size=128,\n",
    "                                      verbose=1,\n",
    "                                      validation_data=(X_test, y_test))"
   ]
  },
  {
   "cell_type": "code",
   "execution_count": 69,
   "metadata": {},
   "outputs": [
    {
     "name": "stdout",
     "output_type": "stream",
     "text": [
      "Model: \"sequential_23\"\n",
      "_________________________________________________________________\n",
      "Layer (type)                 Output Shape              Param #   \n",
      "=================================================================\n",
      "dense_64 (Dense)             (None, 56)                43960     \n",
      "_________________________________________________________________\n",
      "dense_65 (Dense)             (None, 28)                1596      \n",
      "_________________________________________________________________\n",
      "dense_66 (Dense)             (None, 28)                812       \n",
      "_________________________________________________________________\n",
      "dense_67 (Dense)             (None, 28)                812       \n",
      "_________________________________________________________________\n",
      "dense_68 (Dense)             (None, 28)                812       \n",
      "_________________________________________________________________\n",
      "dense_69 (Dense)             (None, 28)                812       \n",
      "_________________________________________________________________\n",
      "dense_70 (Dense)             (None, 28)                812       \n",
      "_________________________________________________________________\n",
      "dense_71 (Dense)             (None, 28)                812       \n",
      "_________________________________________________________________\n",
      "dense_72 (Dense)             (None, 28)                812       \n",
      "_________________________________________________________________\n",
      "dense_73 (Dense)             (None, 28)                812       \n",
      "_________________________________________________________________\n",
      "dense_74 (Dense)             (None, 10)                290       \n",
      "=================================================================\n",
      "Total params: 52,342\n",
      "Trainable params: 52,342\n",
      "Non-trainable params: 0\n",
      "_________________________________________________________________\n",
      "Epoch 1/5\n",
      "469/469 [==============================] - 2s 3ms/step - loss: 2.2983 - accuracy: 0.1308 - val_loss: 2.2753 - val_accuracy: 0.1760\n",
      "Epoch 2/5\n",
      "469/469 [==============================] - 1s 2ms/step - loss: 2.2337 - accuracy: 0.1976 - val_loss: 1.8396 - val_accuracy: 0.2547\n",
      "Epoch 3/5\n",
      "469/469 [==============================] - 1s 2ms/step - loss: 1.6971 - accuracy: 0.3279 - val_loss: 1.2759 - val_accuracy: 0.5144\n",
      "Epoch 4/5\n",
      "469/469 [==============================] - 1s 2ms/step - loss: 1.2410 - accuracy: 0.5366 - val_loss: 1.3500 - val_accuracy: 0.4525\n",
      "Epoch 5/5\n",
      "469/469 [==============================] - 1s 2ms/step - loss: 0.8794 - accuracy: 0.7007 - val_loss: 0.5451 - val_accuracy: 0.8382\n"
     ]
    }
   ],
   "source": [
    "model_10_layers = Sequential([\n",
    "    Dense(56, input_shape=(28 * 28,), activation='relu'),\n",
    "    Dense(28, activation='relu'),\n",
    "    Dense(28, activation='relu'),\n",
    "    Dense(28, activation='relu'),\n",
    "    Dense(28, activation='relu'),\n",
    "    Dense(28, activation='relu'),\n",
    "    Dense(28, activation='relu'),\n",
    "    Dense(28, activation='relu'),\n",
    "    Dense(28, activation='relu'),\n",
    "    Dense(28, activation='relu'),\n",
    "    Dense(10, activation='sigmoid')\n",
    "])\n",
    "\n",
    "model_10_layers.summary()\n",
    "\n",
    "model_10_layers.compile(loss='categorical_crossentropy', optimizer='SGD', metrics=['accuracy'])\n",
    "\n",
    "history_10_layers = model_10_layers.fit(X_train, y_train,\n",
    "                                        epochs=5,\n",
    "                                        batch_size=128,\n",
    "                                        verbose=1,\n",
    "                                        validation_data=(X_test, y_test))"
   ]
  },
  {
   "cell_type": "markdown",
   "metadata": {},
   "source": [
    "### c) фиксируйте для тренировочного и тестового набора метрики accuracy."
   ]
  },
  {
   "cell_type": "code",
   "execution_count": 70,
   "metadata": {},
   "outputs": [
    {
     "data": {
      "image/png": "[encoded data removed]",
      "text/plain": [
       "<Figure size 432x288 with 1 Axes>"
      ]
     },
     "metadata": {
      "needs_background": "light"
     },
     "output_type": "display_data"
    }
   ],
   "source": [
    "model_2_layers = history.history['val_accuracy']\n",
    "model_3_layers = history_3_layers.history['val_accuracy']\n",
    "model_5_layers = history_5_layers.history['val_accuracy']\n",
    "model_10_layers = history_10_layers.history['val_accuracy']\n",
    "\n",
    "plt.plot(model_2_layers, label='2 layers')\n",
    "plt.plot(model_3_layers, label='3 layers')\n",
    "plt.plot(model_5_layers, label='5 layers')\n",
    "plt.plot(model_10_layers, label='10 layers')\n",
    "plt.legend();"
   ]
  },
  {
   "cell_type": "markdown",
   "metadata": {},
   "source": [
    "Увеличение количество слоёв негативно влияет на accuracy"
   ]
  },
  {
   "cell_type": "markdown",
   "metadata": {},
   "source": [
    "### 2.  Проверьте работу разных оптимизаторов (SGD, Adam, RMSProp) для одной из моделей п.1. Фиксируйте для тренировочного и тестового набора метрики accuracy."
   ]
  },
  {
   "cell_type": "code",
   "execution_count": 71,
   "metadata": {},
   "outputs": [
    {
     "name": "stdout",
     "output_type": "stream",
     "text": [
      "Epoch 1/5\n",
      "1875/1875 [==============================] - 3s 1ms/step - loss: 0.6546 - accuracy: 0.8268 - val_loss: 0.3257 - val_accuracy: 0.9061\n",
      "Epoch 2/5\n",
      "1875/1875 [==============================] - 2s 1ms/step - loss: 0.3009 - accuracy: 0.9142 - val_loss: 0.2560 - val_accuracy: 0.9273\n",
      "Epoch 3/5\n",
      "1875/1875 [==============================] - 2s 1ms/step - loss: 0.2464 - accuracy: 0.9287 - val_loss: 0.2212 - val_accuracy: 0.9370\n",
      "Epoch 4/5\n",
      "1875/1875 [==============================] - 2s 1ms/step - loss: 0.2129 - accuracy: 0.9383 - val_loss: 0.2060 - val_accuracy: 0.9402\n",
      "Epoch 5/5\n",
      "1875/1875 [==============================] - 2s 1ms/step - loss: 0.1891 - accuracy: 0.9453 - val_loss: 0.1822 - val_accuracy: 0.9462\n",
      "Epoch 1/5\n",
      "1875/1875 [==============================] - 3s 1ms/step - loss: 1.3768 - accuracy: 0.6678 - val_loss: 0.8176 - val_accuracy: 0.8193\n",
      "Epoch 2/5\n",
      "1875/1875 [==============================] - 2s 1ms/step - loss: 0.6875 - accuracy: 0.8361 - val_loss: 0.5638 - val_accuracy: 0.8650\n",
      "Epoch 3/5\n",
      "1875/1875 [==============================] - 2s 1ms/step - loss: 0.5338 - accuracy: 0.8653 - val_loss: 0.4738 - val_accuracy: 0.8786\n",
      "Epoch 4/5\n",
      "1875/1875 [==============================] - 2s 1ms/step - loss: 0.4672 - accuracy: 0.8791 - val_loss: 0.4272 - val_accuracy: 0.8883\n",
      "Epoch 5/5\n",
      "1875/1875 [==============================] - 2s 1ms/step - loss: 0.4284 - accuracy: 0.8869 - val_loss: 0.3972 - val_accuracy: 0.8961\n",
      "Epoch 1/5\n",
      "1875/1875 [==============================] - 3s 1ms/step - loss: 0.2829 - accuracy: 0.9184 - val_loss: 0.1500 - val_accuracy: 0.9548\n",
      "Epoch 2/5\n",
      "1875/1875 [==============================] - 3s 1ms/step - loss: 0.1355 - accuracy: 0.9606 - val_loss: 0.1190 - val_accuracy: 0.9650\n",
      "Epoch 3/5\n",
      "1875/1875 [==============================] - 3s 1ms/step - loss: 0.1058 - accuracy: 0.9689 - val_loss: 0.1009 - val_accuracy: 0.9696\n",
      "Epoch 4/5\n",
      "1875/1875 [==============================] - 3s 1ms/step - loss: 0.0855 - accuracy: 0.9750 - val_loss: 0.1076 - val_accuracy: 0.9696\n",
      "Epoch 5/5\n",
      "1875/1875 [==============================] - 3s 1ms/step - loss: 0.0744 - accuracy: 0.9787 - val_loss: 0.1237 - val_accuracy: 0.9671\n",
      "Epoch 1/5\n",
      "1875/1875 [==============================] - 3s 1ms/step - loss: 0.2859 - accuracy: 0.9175 - val_loss: 0.1418 - val_accuracy: 0.9575\n",
      "Epoch 2/5\n",
      "1875/1875 [==============================] - 3s 1ms/step - loss: 0.1301 - accuracy: 0.9609 - val_loss: 0.1086 - val_accuracy: 0.9669\n",
      "Epoch 3/5\n",
      "1875/1875 [==============================] - 3s 1ms/step - loss: 0.0946 - accuracy: 0.9714 - val_loss: 0.0917 - val_accuracy: 0.9711\n",
      "Epoch 4/5\n",
      "1875/1875 [==============================] - 3s 1ms/step - loss: 0.0754 - accuracy: 0.9769 - val_loss: 0.1064 - val_accuracy: 0.9679\n",
      "Epoch 5/5\n",
      "1875/1875 [==============================] - 3s 1ms/step - loss: 0.0599 - accuracy: 0.9810 - val_loss: 0.1026 - val_accuracy: 0.9689\n"
     ]
    },
    {
     "data": {
      "image/png": "[encoded data removed]",
      "text/plain": [
       "<Figure size 1152x504 with 1 Axes>"
      ]
     },
     "metadata": {
      "needs_background": "light"
     },
     "output_type": "display_data"
    },
    {
     "name": "stdout",
     "output_type": "stream",
     "text": [
      "Wall time: 1min\n"
     ]
    }
   ],
   "source": [
    "%%time\n",
    "\n",
    "# создаем модель model\n",
    "model = Sequential([\n",
    "    Dense(64, activation='relu', input_shape=(784,)),\n",
    "    Dense(32, activation='relu'),\n",
    "    Dense(10, activation='sigmoid'),\n",
    "])\n",
    "\n",
    "# сохраняем ее веса (это начальная точка) model.save_weights('model.h5')\n",
    "model.save_weights('model_weights.h5')\n",
    "\n",
    "# будем сохранять модели в словарь\n",
    "models = {}\n",
    "\n",
    "\n",
    "plt.figure(figsize=(16, 7))\n",
    "colors = ['g', 'b', 'r', 'y']\n",
    "\n",
    "num_epochs = 5\n",
    "batch_size = 32\n",
    "\n",
    "# вектор для вывода результатов\n",
    "epoch = np.arange(num_epochs+1)\n",
    "\n",
    "# будем изменять оптимизаторы\n",
    "for i, i_optim in enumerate(['sgd', 'adagrad', 'rmsprop', 'adam']):\n",
    "    # создаем рабочую модель  model_i, куда будем загружать эти веса (она должна быть идентичной структуры)\n",
    "    model_i = Sequential([\n",
    "        Dense(64, activation='relu', input_shape=(784,)),\n",
    "        Dense(32, activation='relu'),\n",
    "        Dense(10, activation='sigmoid'),\n",
    "    ])\n",
    "    \n",
    "    # загружаем веса model_i.load_weights('model.h5')\n",
    "    model_i.load_weights('model_weights.h5')\n",
    "    \n",
    "    # компилируем model_i с одним из оптимизаторов\n",
    "    model_i.compile(\n",
    "        optimizer=i_optim,\n",
    "        loss='categorical_crossentropy',\n",
    "        metrics=['accuracy'],\n",
    "        )\n",
    "    \n",
    "    # вычисляем ошибку для modeli без обучения\n",
    "    h0_train = model_i.evaluate(X_train, y_train, verbose=0)\n",
    "    h0_val = model_i.evaluate(X_test, y_test, verbose=0)\n",
    "\n",
    "    # проводим обучение модели \n",
    "    h = model_i.fit(X_train, y_train,\n",
    "                    epochs=num_epochs,\n",
    "                    batch_size=batch_size,\n",
    "                    validation_data=(X_test, y_test),\n",
    "                    verbose=1)\n",
    "    \n",
    "    # записываем обученную модель в словарь\n",
    "    models[i_optim] = model_i\n",
    "\n",
    "    # картинки\n",
    "    plt.plot(epoch, np.log([h0_train[0]] + h.history['loss']),\n",
    "             '-', c=colors[i],\n",
    "             label=i_optim + ' train')\n",
    "    plt.plot(epoch, np.log([h0_val[0]] + h.history['val_loss']),\n",
    "             '--', c=colors[i],\n",
    "             label=i_optim + ' val')\n",
    "\n",
    "plt.legend()\n",
    "plt.title('нейросети от оптимизатора log(loss)')\n",
    "plt.xlabel('epoch')\n",
    "plt.ylabel('log(loss)')\n",
    "plt.show()"
   ]
  },
  {
   "cell_type": "markdown",
   "metadata": {},
   "source": [
    "Здесь чем ниже кривая по log(loss), тем лучше, как я понимаю. Поэтому adam_train и adam_val имеют сравнительно лучше показатели."
   ]
  },
  {
   "cell_type": "markdown",
   "metadata": {},
   "source": [
    "### 3. Сделайте вывод - что помогло вам улучшить качество классификации в нейросети на тестовом наборе? "
   ]
  },
  {
   "cell_type": "markdown",
   "metadata": {},
   "source": [
    "Улучшить качество классификации в нейросети на тестовом наборе удалось за счёт увеличение скрытых слоёв, увеличением эпох и применение adam оптимизатора."
   ]
  },
  {
   "cell_type": "markdown",
   "metadata": {},
   "source": [
    "### 4. Для одного варианта сети сформируйте матрицу ошибок по классам. Оцените качество модели по каждому классу отдельно (полнота, точность)."
   ]
  },
  {
   "cell_type": "code",
   "execution_count": null,
   "metadata": {},
   "outputs": [],
   "source": []
  },
  {
   "cell_type": "markdown",
   "metadata": {
    "id": "m2wW13WB9U99"
   },
   "source": [
    "## Дополнительные материалы\n",
    "\n",
    "\n",
    "1. [Документация Keras](https://keras.io/about/)\n",
    "2. [Документация Keras на русском](https://ru-keras.com/home/)\n",
    "3. [Топ-10 фреймворков для ИИ](https://vc.ru/ml/80391-top-10-freymvorkov-dlya-iskusstvennogo-intellekta-chast-pervaya)\n",
    "4. [Deep Learning-All Optimizers In One Video](https://www.youtube.com/watch?v=TudQZtgpoHk)"
   ]
  },
  {
   "cell_type": "markdown",
   "metadata": {
    "id": "v6h1K5ET9U9_"
   },
   "source": [
    "## Используемая литература \n",
    "\n",
    "Для подготовки данного методического пособия были использованы следующие ресурсы:\n",
    "<ol>\n",
    "    <li>https://keras.io/</li>\n",
    "    <li>Шакла Н. — Машинное обучение и TensorFlow 2019</li>\n",
    "    <li>Википедия</li>\n",
    "    \n",
    "</ol>"
   ]
  },
  {
   "cell_type": "markdown",
   "metadata": {
    "id": "v7megjGzaLge"
   },
   "source": [
    "## Определения\n",
    "\n",
    "**Keras** — открытая нейросетевая библиотека, написанная на языке Python. Она представляет собой надстройку над фреймворками Deeplearning4j, TensorFlow и Theano.\n",
    "\n",
    "\n",
    "**Порядок работы с нейронной сетью**:\n",
    "1. Подготовка данных (нормализация)\n",
    "2. Создание архитектуры модели\n",
    "3. Компиляция модели\n",
    "    - выбор функции потерь\n",
    "    - выбор метрики качества\n",
    "    - выбор оптимизатора\n",
    "4. Обучение модели\n",
    "5. Оценка её качества\n",
    "\n",
    "___________\n",
    "\n",
    "**Callback (обратные вызовы)** – набор функций, применяемых в определенные моменты во время процедуры обучения.\n"
   ]
  }
 ],
 "metadata": {
  "colab": {
   "collapsed_sections": [],
   "name": "Web2.ipynb",
   "provenance": [],
   "toc_visible": true
  },
  "kernelspec": {
   "display_name": "Python 3",
   "language": "python",
   "name": "python3"
  },
  "language_info": {
   "codemirror_mode": {
    "name": "ipython",
    "version": 3
   },
   "file_extension": ".py",
   "mimetype": "text/x-python",
   "name": "python",
   "nbconvert_exporter": "python",
   "pygments_lexer": "ipython3",
   "version": "3.8.5"
  }
 },
 "nbformat": 4,
 "nbformat_minor": 1
}
