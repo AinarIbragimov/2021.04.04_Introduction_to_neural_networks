{
 "cells": [
  {
   "cell_type": "markdown",
   "metadata": {
    "id": "j9uRd98UFzPL"
   },
   "source": [
    "# Введение в искусственные нейронные сети\n",
    "# Урок 5. Рекуррентные нейронные сети"
   ]
  },
  {
   "cell_type": "markdown",
   "metadata": {},
   "source": [
    "## Домашнее задание\n",
    "1. Попробуйте обучить нейронную сеть RNN/LSTM/GRU на любом другом датасете (любимый временной ряд, текст на русском (другом языке) как генератор или классификатор, или прилагаемый набор airline-passengers - пасажиропоток для авиалиний). \n",
    "\n",
    "2. Опишите, какой результат вы получили? Что помогло вам улучшить ее точность?\n"
   ]
  },
  {
   "cell_type": "markdown",
   "metadata": {},
   "source": [
    "<a id=\"41\"></a>\n",
    "### Loading and Visualizing Data"
   ]
  },
  {
   "cell_type": "code",
   "execution_count": 10,
   "metadata": {},
   "outputs": [],
   "source": [
    "import numpy\n",
    "import pandas as pd \n",
    "import numpy as np\n",
    "import matplotlib.pyplot as plt\n",
    "import math\n",
    "from keras.models import Sequential\n",
    "from keras.layers import Dense\n",
    "from keras.layers import LSTM\n",
    "from sklearn.preprocessing import MinMaxScaler\n",
    "from sklearn.metrics import mean_squared_error\n",
    "import warnings\n",
    "warnings.filterwarnings('ignore')\n",
    "\n",
    "from keras.layers import Dense, Activation\n",
    "from keras.layers.recurrent import SimpleRNN, LSTM, GRU"
   ]
  },
  {
   "cell_type": "code",
   "execution_count": 11,
   "metadata": {},
   "outputs": [
    {
     "data": {
      "text/html": [
       "<div>\n",
       "<style scoped>\n",
       "    .dataframe tbody tr th:only-of-type {\n",
       "        vertical-align: middle;\n",
       "    }\n",
       "\n",
       "    .dataframe tbody tr th {\n",
       "        vertical-align: top;\n",
       "    }\n",
       "\n",
       "    .dataframe thead th {\n",
       "        text-align: right;\n",
       "    }\n",
       "</style>\n",
       "<table border=\"1\" class=\"dataframe\">\n",
       "  <thead>\n",
       "    <tr style=\"text-align: right;\">\n",
       "      <th></th>\n",
       "      <th>Month</th>\n",
       "      <th>#Passengers</th>\n",
       "    </tr>\n",
       "  </thead>\n",
       "  <tbody>\n",
       "    <tr>\n",
       "      <th>0</th>\n",
       "      <td>1949-01</td>\n",
       "      <td>112</td>\n",
       "    </tr>\n",
       "    <tr>\n",
       "      <th>1</th>\n",
       "      <td>1949-02</td>\n",
       "      <td>118</td>\n",
       "    </tr>\n",
       "    <tr>\n",
       "      <th>2</th>\n",
       "      <td>1949-03</td>\n",
       "      <td>132</td>\n",
       "    </tr>\n",
       "    <tr>\n",
       "      <th>3</th>\n",
       "      <td>1949-04</td>\n",
       "      <td>129</td>\n",
       "    </tr>\n",
       "    <tr>\n",
       "      <th>4</th>\n",
       "      <td>1949-05</td>\n",
       "      <td>121</td>\n",
       "    </tr>\n",
       "  </tbody>\n",
       "</table>\n",
       "</div>"
      ],
      "text/plain": [
       "     Month  #Passengers\n",
       "0  1949-01          112\n",
       "1  1949-02          118\n",
       "2  1949-03          132\n",
       "3  1949-04          129\n",
       "4  1949-05          121"
      ]
     },
     "execution_count": 11,
     "metadata": {},
     "output_type": "execute_result"
    }
   ],
   "source": [
    "data = pd.read_csv('5_AirPassengers.csv', skipfooter=5)\n",
    "data.head()"
   ]
  },
  {
   "cell_type": "code",
   "execution_count": 12,
   "metadata": {},
   "outputs": [
    {
     "data": {
      "image/png": "[encoded data removed]",
      "text/plain": [
       "<Figure size 432x288 with 1 Axes>"
      ]
     },
     "metadata": {
      "needs_background": "light"
     },
     "output_type": "display_data"
    }
   ],
   "source": [
    "dataset = data.iloc[:,1].values\n",
    "plt.plot(dataset)\n",
    "plt.xlabel(\"time\")\n",
    "plt.ylabel(\"Number of Passenger\")\n",
    "plt.title(\"international airline passenger\")\n",
    "plt.show()"
   ]
  },
  {
   "cell_type": "markdown",
   "metadata": {},
   "source": [
    "<a id=\"42\"></a>\n",
    "### Preprocessing Data"
   ]
  },
  {
   "cell_type": "code",
   "execution_count": 13,
   "metadata": {},
   "outputs": [
    {
     "data": {
      "text/plain": [
       "(139, 1)"
      ]
     },
     "execution_count": 13,
     "metadata": {},
     "output_type": "execute_result"
    }
   ],
   "source": [
    "#reshape\n",
    "dataset = dataset.reshape(-1,1)\n",
    "dataset = dataset.astype(\"float32\")\n",
    "dataset.shape"
   ]
  },
  {
   "cell_type": "code",
   "execution_count": 14,
   "metadata": {},
   "outputs": [],
   "source": [
    "# scaling \n",
    "scaler = MinMaxScaler(feature_range=(0, 1))\n",
    "dataset = scaler.fit_transform(dataset)"
   ]
  },
  {
   "cell_type": "code",
   "execution_count": 15,
   "metadata": {},
   "outputs": [],
   "source": [
    "def create_dataset(dataset, look_back):\n",
    "    dataX, dataY = [], []\n",
    "    for i in range(len(dataset)-look_back-1):\n",
    "        a = dataset[i:(i+look_back), 0]\n",
    "        dataX.append(a)\n",
    "        dataY.append(dataset[i + look_back, 0])\n",
    "    return numpy.array(dataX), numpy.array(dataY)"
   ]
  },
  {
   "cell_type": "code",
   "execution_count": 16,
   "metadata": {},
   "outputs": [],
   "source": [
    "def split_data(X, y, test_size):\n",
    "    pos = int(round(len(X) * (1-test_size)))\n",
    "    X_train, y_train = X[:pos], y[:pos]\n",
    "    X_test, y_test = X[pos:], y[pos:]\n",
    "    return X_train, y_train, X_test, y_test"
   ]
  },
  {
   "cell_type": "code",
   "execution_count": 17,
   "metadata": {},
   "outputs": [
    {
     "name": "stdout",
     "output_type": "stream",
     "text": [
      "X:(137, 1),y:(137,)\n",
      "X_train:(92, 1),y_train:(92,),X_test:(45, 1),y_test(45,)\n"
     ]
    }
   ],
   "source": [
    "look_back = 1\n",
    "X, y = create_dataset(dataset, look_back)\n",
    "print(\"X:{},y:{}\".format(X.shape, y.shape))\n",
    "X_train, y_train, X_test, y_test = split_data(X, y, 0.33)\n",
    "print(\"X_train:{},y_train:{},X_test:{},y_test{}\".format(X_train.shape, y_train.shape, X_test.shape, y_test.shape))"
   ]
  },
  {
   "cell_type": "code",
   "execution_count": 18,
   "metadata": {},
   "outputs": [
    {
     "name": "stdout",
     "output_type": "stream",
     "text": [
      "X_train:(92, 1),y_train:(92, 1),X_test:(45, 1),y_test(45, 1)\n"
     ]
    }
   ],
   "source": [
    "#reshape\n",
    "y = y.reshape(-1,1)\n",
    "y_train=y_train.reshape(-1,1)\n",
    "y_test=y_test.reshape(-1,1)\n",
    "print(\"X_train:{},y_train:{},X_test:{},y_test{}\".format(X_train.shape, y_train.shape, X_test.shape, y_test.shape))"
   ]
  },
  {
   "cell_type": "code",
   "execution_count": 19,
   "metadata": {},
   "outputs": [],
   "source": [
    "# reshape input to be [samples, time steps, features]\n",
    "\n",
    "X_train = np.reshape(X_train, (X_train.shape[0], 1, X_train.shape[1]))\n",
    "X_test = np.reshape(X_test, (X_test.shape[0], 1, X_test.shape[1]))"
   ]
  },
  {
   "cell_type": "markdown",
   "metadata": {},
   "source": [
    "<a id=\"43\"></a>\n",
    "### Create LSTM Model"
   ]
  },
  {
   "cell_type": "code",
   "execution_count": 20,
   "metadata": {},
   "outputs": [
    {
     "name": "stdout",
     "output_type": "stream",
     "text": [
      "Epoch 1/50\n",
      "92/92 [==============================] - 2s 1ms/step - loss: 0.0649\n",
      "Epoch 2/50\n",
      "92/92 [==============================] - 0s 1ms/step - loss: 0.0313\n",
      "Epoch 3/50\n",
      "92/92 [==============================] - 0s 1ms/step - loss: 0.0329\n",
      "Epoch 4/50\n",
      "92/92 [==============================] - 0s 1ms/step - loss: 0.0177\n",
      "Epoch 5/50\n",
      "92/92 [==============================] - 0s 1ms/step - loss: 0.0162\n",
      "Epoch 6/50\n",
      "92/92 [==============================] - 0s 1ms/step - loss: 0.0181\n",
      "Epoch 7/50\n",
      "92/92 [==============================] - 0s 1ms/step - loss: 0.0159\n",
      "Epoch 8/50\n",
      "92/92 [==============================] - 0s 1ms/step - loss: 0.0126\n",
      "Epoch 9/50\n",
      "92/92 [==============================] - 0s 1ms/step - loss: 0.0145\n",
      "Epoch 10/50\n",
      "92/92 [==============================] - 0s 1ms/step - loss: 0.0190\n",
      "Epoch 11/50\n",
      "92/92 [==============================] - 0s 1ms/step - loss: 0.0134\n",
      "Epoch 12/50\n",
      "92/92 [==============================] - 0s 1ms/step - loss: 0.0124\n",
      "Epoch 13/50\n",
      "92/92 [==============================] - 0s 1ms/step - loss: 0.0112\n",
      "Epoch 14/50\n",
      "92/92 [==============================] - 0s 1ms/step - loss: 0.0118\n",
      "Epoch 15/50\n",
      "92/92 [==============================] - 0s 1ms/step - loss: 0.0098\n",
      "Epoch 16/50\n",
      "92/92 [==============================] - 0s 1ms/step - loss: 0.0096\n",
      "Epoch 17/50\n",
      "92/92 [==============================] - 0s 1ms/step - loss: 0.0069\n",
      "Epoch 18/50\n",
      "92/92 [==============================] - 0s 1ms/step - loss: 0.0073\n",
      "Epoch 19/50\n",
      "92/92 [==============================] - 0s 1ms/step - loss: 0.0075\n",
      "Epoch 20/50\n",
      "92/92 [==============================] - 0s 1ms/step - loss: 0.0063\n",
      "Epoch 21/50\n",
      "92/92 [==============================] - 0s 1ms/step - loss: 0.0056\n",
      "Epoch 22/50\n",
      "92/92 [==============================] - 0s 1ms/step - loss: 0.0038\n",
      "Epoch 23/50\n",
      "92/92 [==============================] - 0s 1ms/step - loss: 0.0032\n",
      "Epoch 24/50\n",
      "92/92 [==============================] - 0s 1ms/step - loss: 0.0028\n",
      "Epoch 25/50\n",
      "92/92 [==============================] - 0s 1ms/step - loss: 0.0025\n",
      "Epoch 26/50\n",
      "92/92 [==============================] - 0s 1ms/step - loss: 0.0027\n",
      "Epoch 27/50\n",
      "92/92 [==============================] - 0s 1ms/step - loss: 0.0019\n",
      "Epoch 28/50\n",
      "92/92 [==============================] - 0s 1ms/step - loss: 0.0030\n",
      "Epoch 29/50\n",
      "92/92 [==============================] - 0s 1ms/step - loss: 0.0023\n",
      "Epoch 30/50\n",
      "92/92 [==============================] - 0s 1ms/step - loss: 0.0029\n",
      "Epoch 31/50\n",
      "92/92 [==============================] - 0s 1ms/step - loss: 0.0014\n",
      "Epoch 32/50\n",
      "92/92 [==============================] - 0s 1ms/step - loss: 0.0023\n",
      "Epoch 33/50\n",
      "92/92 [==============================] - 0s 1ms/step - loss: 0.0018\n",
      "Epoch 34/50\n",
      "92/92 [==============================] - 0s 1ms/step - loss: 0.0017\n",
      "Epoch 35/50\n",
      "92/92 [==============================] - 0s 1ms/step - loss: 0.0019\n",
      "Epoch 36/50\n",
      "92/92 [==============================] - 0s 1ms/step - loss: 0.0026\n",
      "Epoch 37/50\n",
      "92/92 [==============================] - 0s 1ms/step - loss: 0.0026\n",
      "Epoch 38/50\n",
      "92/92 [==============================] - 0s 1ms/step - loss: 0.0015\n",
      "Epoch 39/50\n",
      "92/92 [==============================] - 0s 1ms/step - loss: 0.0018\n",
      "Epoch 40/50\n",
      "92/92 [==============================] - 0s 1ms/step - loss: 0.0018\n",
      "Epoch 41/50\n",
      "92/92 [==============================] - 0s 1ms/step - loss: 0.0017\n",
      "Epoch 42/50\n",
      "92/92 [==============================] - 0s 1ms/step - loss: 0.0016\n",
      "Epoch 43/50\n",
      "92/92 [==============================] - 0s 1ms/step - loss: 0.0017\n",
      "Epoch 44/50\n",
      "92/92 [==============================] - 0s 1ms/step - loss: 0.0022\n",
      "Epoch 45/50\n",
      "92/92 [==============================] - 0s 1ms/step - loss: 0.0019\n",
      "Epoch 46/50\n",
      "92/92 [==============================] - 0s 1ms/step - loss: 0.0017\n",
      "Epoch 47/50\n",
      "92/92 [==============================] - 0s 1ms/step - loss: 0.0016\n",
      "Epoch 48/50\n",
      "92/92 [==============================] - 0s 1ms/step - loss: 0.0017\n",
      "Epoch 49/50\n",
      "92/92 [==============================] - 0s 1ms/step - loss: 0.0018\n",
      "Epoch 50/50\n",
      "92/92 [==============================] - 0s 1ms/step - loss: 0.0021\n"
     ]
    },
    {
     "data": {
      "text/plain": [
       "<tensorflow.python.keras.callbacks.History at 0x209360a3970>"
      ]
     },
     "execution_count": 20,
     "metadata": {},
     "output_type": "execute_result"
    }
   ],
   "source": [
    "# model\n",
    "model = Sequential()\n",
    "model.add(LSTM(4, input_shape=(1, look_back)))\n",
    "model.add(Dense(1))\n",
    "model.compile(loss='mean_squared_error', optimizer='adam')\n",
    "model.fit(X_train, y_train, epochs=50, batch_size=1)"
   ]
  },
  {
   "cell_type": "markdown",
   "metadata": {},
   "source": [
    "<a id=\"44\"></a>\n",
    "### Predictions and Visualising LSTM Model"
   ]
  },
  {
   "cell_type": "code",
   "execution_count": 21,
   "metadata": {},
   "outputs": [
    {
     "name": "stdout",
     "output_type": "stream",
     "text": [
      "(92, 1, 1)\n",
      "(92, 1)\n",
      "(45, 1, 1)\n",
      "(45, 1)\n"
     ]
    }
   ],
   "source": [
    "X_train = numpy.reshape(X_train, (X_train.shape[0], 1, X_train.shape[1]))\n",
    "X_test = numpy.reshape(X_test, (X_test.shape[0], 1, X_test.shape[1]))\n",
    "print(X_train.shape)\n",
    "print(y_train.shape)\n",
    "print(X_test.shape)\n",
    "print(y_test.shape)\n",
    "trainPredict = model.predict(X_train)\n",
    "testPredict = model.predict(X_test)"
   ]
  },
  {
   "cell_type": "code",
   "execution_count": 22,
   "metadata": {},
   "outputs": [],
   "source": [
    "trainPredict = scaler.inverse_transform(trainPredict)\n",
    "trainY = scaler.inverse_transform(y_train)\n",
    "testPredict = scaler.inverse_transform(testPredict)\n",
    "testY = scaler.inverse_transform(y_test)"
   ]
  },
  {
   "cell_type": "code",
   "execution_count": 23,
   "metadata": {},
   "outputs": [
    {
     "name": "stdout",
     "output_type": "stream",
     "text": [
      "Train Score: 22.64 RMSE\n",
      "Test Score: 45.38 RMSE\n"
     ]
    }
   ],
   "source": [
    "trainY=trainY.reshape(1,-1)\n",
    "testY = testY.reshape(1,-1)\n",
    "# calculate root mean squared error\n",
    "trainScore = math.sqrt(mean_squared_error(trainY[0], trainPredict[:,0]))\n",
    "print('Train Score: %.2f RMSE' % (trainScore))\n",
    "testScore = math.sqrt(mean_squared_error(testY[0], testPredict[:,0]))\n",
    "print('Test Score: %.2f RMSE' % (testScore))"
   ]
  },
  {
   "cell_type": "code",
   "execution_count": 25,
   "metadata": {},
   "outputs": [
    {
     "data": {
      "image/png": "[encoded data removed]",
      "text/plain": [
       "<Figure size 432x288 with 1 Axes>"
      ]
     },
     "metadata": {
      "needs_background": "light"
     },
     "output_type": "display_data"
    }
   ],
   "source": [
    "trainPredictPlot = numpy.empty_like(dataset)\n",
    "trainPredictPlot[:, :] = numpy.nan\n",
    "trainPredictPlot[look_back:len(trainPredict)+look_back, :] = trainPredict\n",
    "# shift test predictions for plotting\n",
    "testPredictPlot = numpy.empty_like(dataset)\n",
    "testPredictPlot[:, :] = numpy.nan\n",
    "testPredictPlot[len(trainPredict)+(look_back):len(dataset)-1, :] = testPredict\n",
    "# plot baseline and predictions\n",
    "plt.plot(scaler.inverse_transform(dataset))\n",
    "plt.plot(trainPredictPlot)\n",
    "plt.plot(testPredictPlot)\n",
    "plt.show()"
   ]
  },
  {
   "cell_type": "markdown",
   "metadata": {},
   "source": [
    "## Выводы:\n",
    "**На основе LSTM модели обучена нейронная сеть.**\n"
   ]
  },
  {
   "cell_type": "code",
   "execution_count": null,
   "metadata": {},
   "outputs": [],
   "source": []
  }
 ],
 "metadata": {
  "accelerator": "GPU",
  "colab": {
   "collapsed_sections": [],
   "name": "Web3.ipynb",
   "provenance": []
  },
  "kernelspec": {
   "display_name": "Python 3",
   "language": "python",
   "name": "python3"
  },
  "language_info": {
   "codemirror_mode": {
    "name": "ipython",
    "version": 3
   },
   "file_extension": ".py",
   "mimetype": "text/x-python",
   "name": "python",
   "nbconvert_exporter": "python",
   "pygments_lexer": "ipython3",
   "version": "3.8.5"
  }
 },
 "nbformat": 4,
 "nbformat_minor": 1
}
